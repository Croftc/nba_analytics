{
 "cells": [
  {
   "cell_type": "code",
   "execution_count": 1,
   "metadata": {},
   "outputs": [],
   "source": [
    "import pandas as pd\n",
    "from sklearn.model_selection import train_test_split\n",
    "import numpy as np\n",
    "import xgboost as xgb\n",
    "from sklearn.calibration import CalibratedClassifierCV\n",
    "from sklearn.utils import resample\n",
    "import matplotlib.pyplot as plt\n",
    "from IPython.display import display, HTML\n",
    "\n",
    "# List of columns where NaNs are allowed\n",
    "allowed_nan_columns = [\n",
    "    'TOTAL_LINE_MOVEMENT_3',\n",
    "    'SPREAD_LINE_MOVEMENT_3',\n",
    "    'SPREAD_LINE_MOVEMENT_1',\n",
    "    'TOTAL_LINE_MOVEMENT_2',\n",
    "    'SPREAD_LINE_MOVEMENT_2',\n",
    "    'TOTAL_LINE_MOVEMENT_1',\n",
    "    'HOME TEAM WIN%',\n",
    "    'CREW',\n",
    "    'FOUL DIFFERENTIAL (Against Road Team) - (Against Home Team)',\n",
    "    'HOME TEAM POINTS DIFFERENTIAL',\n",
    "    'MAIN REF',\n",
    "    'FOUL% AGAINST HOME TEAMS',\n",
    "    'TOTAL POINTS PER GAME',\n",
    "    'CALLED FOULS PER GAME',\n",
    "    'FOUL% AGAINST ROAD TEAMS'\n",
    "]"
   ]
  },
  {
   "cell_type": "markdown",
   "metadata": {},
   "source": [
    "### implementation"
   ]
  },
  {
   "cell_type": "markdown",
   "metadata": {},
   "source": [
    "#### helpers"
   ]
  },
  {
   "cell_type": "code",
   "execution_count": 2,
   "metadata": {},
   "outputs": [],
   "source": [
    "def calculate_profit(odds, size):\n",
    "    if odds > 0:\n",
    "        profit = (odds / 100) * size\n",
    "    else:\n",
    "        profit = (100 / -(odds + 0.0000001)) * size\n",
    "    return profit\n",
    "\n",
    "def kelly_criterion(bankroll, probability, odds, temper=1):\n",
    "    \"\"\"\n",
    "    Calculate the optimal bet size using the Kelly Criterion.\n",
    "\n",
    "    :param bankroll: Total amount of money you have to bet with.\n",
    "    :param probability: The probability of the bet winning (from 0 to 1).\n",
    "    :param odds: The odds being offered on the bet (in decimal format).\n",
    "    :return: The recommended bet size according to the Kelly Criterion.\n",
    "    \"\"\"\n",
    "    # Convert American odds to decimal if necessary\n",
    "    if odds > 0:\n",
    "        odds = (odds / 100) + 1\n",
    "    elif odds < 0:\n",
    "        odds = (100 / -odds) + 1\n",
    "\n",
    "    # Calculate the Kelly bet fraction\n",
    "    b = odds - 1  # Decimal odds minus 1\n",
    "    q = 1 - probability  # Probability of losing\n",
    "    kelly_fraction = (b * probability - q) / b\n",
    "\n",
    "    # Calculate the recommended bet\n",
    "    recommended_bet = (temper * kelly_fraction) * bankroll\n",
    "\n",
    "    return recommended_bet"
   ]
  },
  {
   "cell_type": "markdown",
   "metadata": {},
   "source": [
    "#### model"
   ]
  },
  {
   "cell_type": "code",
   "execution_count": 46,
   "metadata": {},
   "outputs": [],
   "source": [
    "import numpy as np\n",
    "import xgboost as xgb\n",
    "from sklearn.calibration import CalibratedClassifierCV\n",
    "from sklearn.metrics import accuracy_score\n",
    "import joblib\n",
    "\n",
    "class BootstrapCalibratedClassifier:\n",
    "    def __init__(self, n_bootstrap_samples=8, base_model_params=None):\n",
    "        self.n_bootstrap_samples = n_bootstrap_samples\n",
    "        self.bootstrap_models = []\n",
    "        self.calibrated_models = []\n",
    "        self.base_model_params = base_model_params if base_model_params else {\n",
    "            'tree_method': \"hist\",\n",
    "            'enable_categorical': True,\n",
    "            'verbosity': 1,\n",
    "            'max_depth': 7,\n",
    "            'learning_rate': 0.022,\n",
    "            'n_estimators': 300,\n",
    "            'gamma': 7,\n",
    "            'subsample': 1,\n",
    "            'colsample_bytree': 0.8,\n",
    "            'min_child_weight': 15,\n",
    "            'reg_lambda': 0.3,\n",
    "            'reg_alpha': 0.3,\n",
    "        }\n",
    "\n",
    "    def fit(self, X_train, y_train):\n",
    "        for _ in range(self.n_bootstrap_samples):\n",
    "            # Bootstrap sample generation\n",
    "            X_train_sample, y_train_sample = resample(X_train, y_train, n_samples=len(X_train), replace=True)\n",
    "            \n",
    "            # Train base model\n",
    "            model = xgb.XGBClassifier(**self.base_model_params)\n",
    "            model.fit(X_train_sample, y_train_sample)\n",
    "            self.bootstrap_models.append(model)\n",
    "            \n",
    "            # Calibrate the model\n",
    "            calibrated_model = CalibratedClassifierCV(model, method='sigmoid', cv='prefit')\n",
    "            calibrated_model.fit(X_train_sample, y_train_sample)\n",
    "            self.calibrated_models.append(calibrated_model)\n",
    "\n",
    "    def predict(self, X):\n",
    "        # Aggregate predictions from bootstrap models\n",
    "        preds = np.array([model.predict(X) for model in self.bootstrap_models])\n",
    "        return np.round(np.mean(preds, axis=0)).astype(int)\n",
    "\n",
    "    def predict_proba(self, X):\n",
    "        # Aggregate calibrated predicted probabilities from bootstrap models\n",
    "        proba = np.array([calibrated_model.predict_proba(X) for calibrated_model in self.calibrated_models])\n",
    "        # Average probabilities across all bootstrap models\n",
    "        return np.mean(proba, axis=0)\n",
    "\n",
    "    def score(self, X_test, y_test):\n",
    "        \"\"\"\n",
    "        This method calculates the accuracy score of the model.\n",
    "        It compares the predicted labels with the true labels.\n",
    "        \"\"\"\n",
    "        predictions = self.predict(X_test)\n",
    "        return accuracy_score(y_test, predictions)\n",
    "\n",
    "    def save_model(self, filename):\n",
    "        \"\"\"Save the trained models to a file.\"\"\"\n",
    "        for idx, model in enumerate(self.bootstrap_models):\n",
    "            model_path = f\"{filename}_model_{idx}.pkl\"\n",
    "            joblib.dump(model, model_path)\n",
    "        \n",
    "        # Save calibrated models\n",
    "        for idx, calibrated_model in enumerate(self.calibrated_models):\n",
    "            calibrated_model_path = f\"{filename}_calibrated_{idx}.pkl\"\n",
    "            joblib.dump(calibrated_model, calibrated_model_path)\n",
    "        print(f\"Models saved to {filename}\")\n",
    "\n",
    "    def load_model(self, filename):\n",
    "        \"\"\"Load both base and calibrated models.\"\"\"\n",
    "        self.bootstrap_models = []\n",
    "        self.calibrated_models = []\n",
    "        \n",
    "        for idx in range(self.n_bootstrap_samples):\n",
    "            base_model_path = f\"{filename}_model_{idx}.pkl\"\n",
    "            calibrated_model_path = f\"{filename}_calibrated_{idx}.pkl\"\n",
    "            \n",
    "            base_model = joblib.load(base_model_path)\n",
    "            calibrated_model = joblib.load(calibrated_model_path)\n",
    "            \n",
    "            self.bootstrap_models.append(base_model)\n",
    "            self.calibrated_models.append(calibrated_model)\n",
    "        print(f\"Models loaded from {filename}\")\n"
   ]
  },
  {
   "cell_type": "markdown",
   "metadata": {},
   "source": [
    "#### backtest"
   ]
  },
  {
   "cell_type": "code",
   "execution_count": 35,
   "metadata": {},
   "outputs": [],
   "source": [
    "# Constants\n",
    "THRESHOLD = 0.5\n",
    "\n",
    "def process_data_frame(df):\n",
    "    \"\"\"Convert DATE to datetime and sort the DataFrame.\"\"\"\n",
    "    df['DATE'] = pd.to_datetime(df['DATE'])\n",
    "    return df.sort_values('DATE')\n",
    "\n",
    "def update_bankroll(bankroll, profit):\n",
    "    \"\"\"Update bankroll, ensuring it doesn't go negative.\"\"\"\n",
    "    return max(bankroll + profit, 0)\n",
    "\n",
    "def print_bet_results(date, wins, losses, total, bankroll, start, made_a_bet, all_odds):\n",
    "    \"\"\"Print results of betting for the day.\"\"\"\n",
    "    win_rate = wins / total if total > 0 else 0\n",
    "    print(f'Results for {date}: Start Bankroll: {round(start, 2)}, End Bankroll: {round(bankroll, 2)}, '\n",
    "          f'Profit: {round(bankroll - start, 2)}, Win Rate: {win_rate:.2f}\\n')\n",
    "\n",
    "def prepare_features(day_data, feature_cols):\n",
    "    \"\"\"Prepare features for prediction.\"\"\"\n",
    "    X = day_data[feature_cols].copy()\n",
    "    # Prepare features\n",
    "    X[['Elo_Rating', 'Momentum']] = X[['Elo_Rating', 'Momentum']].shift()\n",
    "    X[[\"MONEYLINE\", \"Last_ML_1\", \"Last_ML_2\", \"Last_ML_3\"]] = (\n",
    "        X[[\"MONEYLINE\", \"Last_ML_1\", \"Last_ML_2\", \"Last_ML_3\"]]\n",
    "        .replace('even', '-100', regex=True)\n",
    "        .fillna(0)\n",
    "        .astype(int)\n",
    "    )\n",
    "    # Convert categorical columns\n",
    "    for col in ['MAIN REF', 'TEAM', 'CREW', 'Opponent', 'TEAM_REST_DAYS']:\n",
    "        X[col] = X[col].astype('category')\n",
    "    X['VENUE'] = (X['VENUE'] == 'H').astype(int)\n",
    "    return X\n",
    "\n",
    "def calculate_bets(X, model, y, threshold=THRESHOLD):\n",
    "    \"\"\"Calculate betting decisions based on predictions.\"\"\"\n",
    "    probabilities = model.predict_proba(X)[:, 1]\n",
    "    predictions = probabilities > threshold\n",
    "    # Calculate normalized odds and betting decisions\n",
    "    ps = {team: prob for team, prob in zip(X['TEAM'], probabilities)}\n",
    "    normed_odds = {team: ps[team] / (ps[team] + ps[opp]) for team, opp in zip(X['TEAM'], X['Opponent'])}\n",
    "    do_bet = {team: normed_odds[team] > normed_odds[opp] for team, opp in zip(X['TEAM'], X['Opponent'])}\n",
    "    \n",
    "    return predictions, probabilities, do_bet, normed_odds\n",
    "\n",
    "def process_daily_bets(day_data, model, bankroll, bet_size, y, feature_cols, odds_col, threshold=THRESHOLD):\n",
    "    \"\"\"Process bets for a single day.\"\"\"\n",
    "    X = prepare_features(day_data, feature_cols)\n",
    "    predictions, probabilities, do_bet, normed_odds = calculate_bets(X, model, y, threshold)\n",
    "\n",
    "    wins, losses, day_profit, num_bets = 0, 0, 0, 0\n",
    "    all_odds = []\n",
    "\n",
    "    for pred, actual, odds, team, opp in zip(predictions, y, X[odds_col], X['TEAM'], X['Opponent']):\n",
    "        if do_bet[team]:\n",
    "            \n",
    "            if odds_col == 'Momentum':\n",
    "                odds = 300\n",
    "            elif odds_col != 'MONEYLINE':\n",
    "                odds = -110\n",
    "                \n",
    "            bet_size = round(kelly_criterion(bankroll, normed_odds[team], odds, 0.10), 2)\n",
    "\n",
    "            if (bankroll - bet_size) >= 0 and bet_size > 0:\n",
    "                to_win = round(calculate_profit(odds, bet_size), 2)\n",
    "                bankroll -= bet_size\n",
    "                num_bets += 1\n",
    "\n",
    "                if actual:\n",
    "                    display(HTML(f'<span style=\"color: green;\">Won {to_win} betting {bet_size} on {team} vs {opp} at {odds}</span>'))\n",
    "                    day_profit += (to_win + bet_size)\n",
    "                    wins += 1\n",
    "                else:\n",
    "                    display(HTML(f'<span style=\"color: red;\">Lost {bet_size} betting on {team} vs {opp} at {odds}</span>'))\n",
    "                    losses += actual != pred\n",
    "                all_odds.append(odds)\n",
    "\n",
    "    return bankroll + day_profit, wins, losses, num_bets, all_odds\n",
    "\n",
    "def backtest_model(df, model, feature_cols, label_col, odds_col, start_date, end_date, initial_bankroll, bet_size, threshold=THRESHOLD):\n",
    "    \"\"\"Backtest the betting model over a specified date range.\"\"\"\n",
    "    df = process_data_frame(df)\n",
    "    bankroll = initial_bankroll\n",
    "    bet_results = []\n",
    "    current_date = pd.to_datetime(start_date)\n",
    "\n",
    "    while current_date <= pd.to_datetime(end_date):\n",
    "        print(f'Processing {current_date}...')\n",
    "        day_data = df[df['DATE'] == current_date]\n",
    "        start_bankroll = bankroll\n",
    "\n",
    "        if not day_data.empty and bankroll > 0:\n",
    "            y = day_data[label_col]\n",
    "            bankroll, wins, losses, num_bets, all_odds = process_daily_bets(day_data, model, bankroll, bet_size, y, feature_cols, odds_col, threshold) \n",
    "            print_bet_results(current_date, wins, losses, num_bets, bankroll, start_bankroll, len(all_odds) > 0, all_odds)\n",
    "            bet_results.append(bankroll)\n",
    "\n",
    "        current_date += pd.Timedelta(days=1)\n",
    "\n",
    "    return bankroll, bankroll - initial_bankroll, bet_results\n"
   ]
  },
  {
   "cell_type": "markdown",
   "metadata": {},
   "source": [
    "### load data"
   ]
  },
  {
   "cell_type": "code",
   "execution_count": 5,
   "metadata": {},
   "outputs": [],
   "source": [
    "df = pd.read_csv('2024_2025_nba_team_full.csv')\n",
    "\n",
    "# Dropping rows with NaN values, except in specified columns\n",
    "#df = df.dropna(subset=[col for col in df.columns if col not in allowed_nan_columns])\n",
    "\n",
    "# flip true and false in ml_result column\n",
    "df['ml_result'] = df['ml_result'].apply(lambda x: True if x == False else False)\n",
    "\n",
    "# convert categorical columns\n",
    "df['MAIN REF'] = df['MAIN REF'].astype('category')\n",
    "df['CREW'] = df['CREW'].astype('category')\n",
    "df['TEAM_REST_DAYS'] = df['TEAM_REST_DAYS'].astype('category')\n",
    "df['TEAM'] = df['TEAM'].astype('category')\n",
    "df['Opponent'] = df['Opponent'].astype('category')\n",
    "\n",
    "# convert venue to binary\n",
    "df['VENUE'] = (df['VENUE'] == 'H')*1\n",
    "\n",
    "# convert date to datetime\n",
    "df['DATE'] = pd.to_datetime(df['DATE'])"
   ]
  },
  {
   "cell_type": "markdown",
   "metadata": {},
   "source": [
    "### train / test / val split"
   ]
  },
  {
   "cell_type": "code",
   "execution_count": 16,
   "metadata": {},
   "outputs": [],
   "source": [
    "X = df.drop(columns=['spread_result', 'ml_result', 'total_result', 'q3_result', 'DATE', 'POSS', 'OEFF', 'DEFF', 'PACE', 'PTS'])\n",
    "y_ml = df['ml_result']\n",
    "y_spread = df['spread_result']\n",
    "y_q3 = df['q3_result']\n",
    "y_total = df['total_result']\n",
    "\n",
    "X_train_ml, X_test_ml, y_train_ml, y_test_ml = train_test_split(X, y_ml, test_size=0.2, random_state=42)\n",
    "X_train_ml, X_val_ml, y_train_ml, y_val_ml = train_test_split(X_train_ml, y_train_ml, test_size=0.1, random_state=41)\n",
    "\n",
    "X_train_spread, X_test_spread, y_train_spread, y_test_spread = train_test_split(X, y_spread, test_size=0.2, random_state=42)\n",
    "X_train_spread, X_val_spread, y_train_spread, y_val_spread = train_test_split(X_train_spread, y_train_spread, test_size=0.1, random_state=41)\n",
    "\n",
    "X_train_q3, X_test_q3, y_train_q3, y_test_q3 = train_test_split(X, y_q3, test_size=0.2, random_state=42)\n",
    "X_train_q3, X_val_q3, y_train_q3, y_val_q3 = train_test_split(X_train_q3, y_train_q3, test_size=0.1, random_state=41)\n",
    "\n",
    "X_train_total, X_test_total, y_train_total, y_test_total = train_test_split(X, y_total, test_size=0.2, random_state=42)\n",
    "X_train_total, X_val_total, y_train_total, y_val_total = train_test_split(X_train_total, y_train_total, test_size=0.1, random_state=41)"
   ]
  },
  {
   "cell_type": "markdown",
   "metadata": {},
   "source": [
    "### train"
   ]
  },
  {
   "cell_type": "code",
   "execution_count": 56,
   "metadata": {},
   "outputs": [
    {
     "name": "stdout",
     "output_type": "stream",
     "text": [
      "Average ML Score: 0.6605058365758755\n"
     ]
    }
   ],
   "source": [
    "# Usage\n",
    "ml_model = BootstrapCalibratedClassifier(n_bootstrap_samples=5)\n",
    "ml_model.fit(X_train_ml, y_train_ml)\n",
    "print(\"Average ML Score:\", ml_model.score(X_test_ml, y_test_ml))"
   ]
  },
  {
   "cell_type": "code",
   "execution_count": 58,
   "metadata": {},
   "outputs": [
    {
     "name": "stdout",
     "output_type": "stream",
     "text": [
      "Average Spread Score: 0.5003242542153048\n",
      "Average Spread Score: 0.4974059662775616\n",
      "Average Spread Score: 0.5113488975356679\n",
      "Average Spread Score: 0.5006485084306096\n",
      "Average Spread Score: 0.49383916990920884\n",
      "Average Spread Score: 0.488651102464332\n",
      "Average Spread Score: 0.501621271076524\n",
      "Average Spread Score: 0.5022697795071336\n",
      "Average Spread Score: 0.5149156939040207\n",
      "Average Spread Score: 0.49578469520103763\n"
     ]
    }
   ],
   "source": [
    "best = None\n",
    "best_score = 0\n",
    "for _ in range(10):\n",
    "    spread_model = BootstrapCalibratedClassifier(n_bootstrap_samples=5)\n",
    "    spread_model.fit(X_train_spread, y_train_spread)\n",
    "    score = spread_model.score(X_test_spread, y_test_spread)\n",
    "    if score > best_score:\n",
    "        best = spread_model\n",
    "        best_score = score\n",
    "    print(\"Average Spread Score:\", score)"
   ]
  },
  {
   "cell_type": "code",
   "execution_count": 59,
   "metadata": {},
   "outputs": [
    {
     "name": "stdout",
     "output_type": "stream",
     "text": [
      "Average Total Score: 0.5346952010376135\n"
     ]
    }
   ],
   "source": [
    "total_model = BootstrapCalibratedClassifier(n_bootstrap_samples=5)\n",
    "total_model.fit(X_train_total, y_train_total)\n",
    "print(\"Average Total Score:\", total_model.score(X_test_total, y_test_total))"
   ]
  },
  {
   "cell_type": "code",
   "execution_count": 60,
   "metadata": {},
   "outputs": [
    {
     "name": "stdout",
     "output_type": "stream",
     "text": [
      "Models saved to ml_model\n",
      "Models saved to spread_model\n",
      "Models saved to total_model\n"
     ]
    }
   ],
   "source": [
    "ml_model.save_model('ml_model')\n",
    "best.save_model('spread_model')\n",
    "total_model.save_model('total_model')"
   ]
  },
  {
   "cell_type": "markdown",
   "metadata": {},
   "source": [
    "#### train 3q"
   ]
  },
  {
   "cell_type": "code",
   "execution_count": 39,
   "metadata": {},
   "outputs": [
    {
     "name": "stdout",
     "output_type": "stream",
     "text": [
      "Average 3Q Score: 0.883916990920882\n"
     ]
    }
   ],
   "source": [
    "# calculate the ratio of 0 to 1 in the q3_result column\n",
    "num_positive = y_train_q3.sum()\n",
    "num_negative = len(y_train_q3) - num_positive\n",
    "scale_pos_weight = num_negative / num_positive\n",
    "params = {\n",
    "    'tree_method': \"hist\",\n",
    "    'sampling_method': 'gradient_based',\n",
    "    'enable_categorical': True,\n",
    "    'device': \"cuda\",\n",
    "    'verbosity': 1,\n",
    "    'max_depth': 7,\n",
    "    'learning_rate': 0.022,\n",
    "    'n_estimators': 300,\n",
    "    'gamma': 7,\n",
    "    'subsample': 1,\n",
    "    'colsample_bytree': 0.8,\n",
    "    'min_child_weight': 15,\n",
    "    'reg_lambda': 0.3,\n",
    "    'reg_alpha': 0.3,\n",
    "    'scale_pos_weight': scale_pos_weight/2\n",
    "    }\n",
    "\n",
    "q3_model = BootstrapCalibratedClassifier(n_bootstrap_samples=5, base_model_params=params)\n",
    "q3_model.fit(X_train_q3, y_train_q3)\n",
    "print(\"Average 3Q Score:\", q3_model.score(X_test_q3, y_test_q3))"
   ]
  },
  {
   "cell_type": "markdown",
   "metadata": {},
   "source": [
    "### backtesting"
   ]
  },
  {
   "cell_type": "code",
   "execution_count": 31,
   "metadata": {},
   "outputs": [],
   "source": [
    "drop_cols = ['spread_result', 'ml_result', 'total_result', 'q3_result', 'DATE', 'POSS', 'OEFF', 'DEFF', 'PACE', 'PTS']"
   ]
  },
  {
   "cell_type": "markdown",
   "metadata": {},
   "source": [
    "#### spread"
   ]
  },
  {
   "cell_type": "code",
   "execution_count": 29,
   "metadata": {},
   "outputs": [
    {
     "name": "stdout",
     "output_type": "stream",
     "text": [
      "Processing 2024-10-22 00:00:00...\n"
     ]
    },
    {
     "data": {
      "text/html": [
       "<span style=\"color: green;\">Won 62.4 betting 68.64 on Boston vs New York at -110</span>"
      ],
      "text/plain": [
       "<IPython.core.display.HTML object>"
      ]
     },
     "metadata": {},
     "output_type": "display_data"
    },
    {
     "data": {
      "text/html": [
       "<span style=\"color: red;\">Lost 77.04 betting on Minnesota vs LA Lakers at -110</span>"
      ],
      "text/plain": [
       "<IPython.core.display.HTML object>"
      ]
     },
     "metadata": {},
     "output_type": "display_data"
    },
    {
     "name": "stdout",
     "output_type": "stream",
     "text": [
      "Results for 2024-10-22 00:00:00: Start Bankroll: 2500, End Bankroll: 2485.36, Profit: -14.64, Win Rate: 0.50\n",
      "\n",
      "Processing 2024-10-23 00:00:00...\n"
     ]
    },
    {
     "data": {
      "text/html": [
       "<span style=\"color: green;\">Won 199.28 betting 219.21 on Brooklyn vs Atlanta at -110</span>"
      ],
      "text/plain": [
       "<IPython.core.display.HTML object>"
      ]
     },
     "metadata": {},
     "output_type": "display_data"
    },
    {
     "data": {
      "text/html": [
       "<span style=\"color: green;\">Won 77.19 betting 84.91 on Orlando vs Miami at -110</span>"
      ],
      "text/plain": [
       "<IPython.core.display.HTML object>"
      ]
     },
     "metadata": {},
     "output_type": "display_data"
    },
    {
     "data": {
      "text/html": [
       "<span style=\"color: green;\">Won 25.96 betting 28.56 on Milwaukee vs Philadelphia at -110</span>"
      ],
      "text/plain": [
       "<IPython.core.display.HTML object>"
      ]
     },
     "metadata": {},
     "output_type": "display_data"
    },
    {
     "data": {
      "text/html": [
       "<span style=\"color: green;\">Won 21.55 betting 23.7 on Indiana vs Detroit at -110</span>"
      ],
      "text/plain": [
       "<IPython.core.display.HTML object>"
      ]
     },
     "metadata": {},
     "output_type": "display_data"
    },
    {
     "data": {
      "text/html": [
       "<span style=\"color: green;\">Won 95.35 betting 104.88 on LA Clippers vs Phoenix at -110</span>"
      ],
      "text/plain": [
       "<IPython.core.display.HTML object>"
      ]
     },
     "metadata": {},
     "output_type": "display_data"
    },
    {
     "data": {
      "text/html": [
       "<span style=\"color: red;\">Lost 12.16 betting on Utah vs Memphis at -110</span>"
      ],
      "text/plain": [
       "<IPython.core.display.HTML object>"
      ]
     },
     "metadata": {},
     "output_type": "display_data"
    },
    {
     "data": {
      "text/html": [
       "<span style=\"color: red;\">Lost 56.38 betting on Chicago vs New Orleans at -110</span>"
      ],
      "text/plain": [
       "<IPython.core.display.HTML object>"
      ]
     },
     "metadata": {},
     "output_type": "display_data"
    },
    {
     "name": "stdout",
     "output_type": "stream",
     "text": [
      "Results for 2024-10-23 00:00:00: Start Bankroll: 2485.36, End Bankroll: 2836.15, Profit: 350.79, Win Rate: 0.71\n",
      "\n",
      "Processing 2024-10-24 00:00:00...\n"
     ]
    },
    {
     "data": {
      "text/html": [
       "<span style=\"color: green;\">Won 7.47 betting 8.22 on Minnesota vs Sacramento at -110</span>"
      ],
      "text/plain": [
       "<IPython.core.display.HTML object>"
      ]
     },
     "metadata": {},
     "output_type": "display_data"
    },
    {
     "data": {
      "text/html": [
       "<span style=\"color: green;\">Won 146.83 betting 161.51 on Oklahoma City vs Denver at -110</span>"
      ],
      "text/plain": [
       "<IPython.core.display.HTML object>"
      ]
     },
     "metadata": {},
     "output_type": "display_data"
    },
    {
     "data": {
      "text/html": [
       "<span style=\"color: green;\">Won 34.43 betting 37.87 on Boston vs Washington at -110</span>"
      ],
      "text/plain": [
       "<IPython.core.display.HTML object>"
      ]
     },
     "metadata": {},
     "output_type": "display_data"
    },
    {
     "name": "stdout",
     "output_type": "stream",
     "text": [
      "Results for 2024-10-24 00:00:00: Start Bankroll: 2836.15, End Bankroll: 3024.88, Profit: 188.73, Win Rate: 1.00\n",
      "\n",
      "Processing 2024-10-25 00:00:00...\n"
     ]
    },
    {
     "data": {
      "text/html": [
       "<span style=\"color: green;\">Won 151.38 betting 166.52 on Portland vs New Orleans at -110</span>"
      ],
      "text/plain": [
       "<IPython.core.display.HTML object>"
      ]
     },
     "metadata": {},
     "output_type": "display_data"
    },
    {
     "data": {
      "text/html": [
       "<span style=\"color: red;\">Lost 62.66 betting on Phoenix vs LA Lakers at -110</span>"
      ],
      "text/plain": [
       "<IPython.core.display.HTML object>"
      ]
     },
     "metadata": {},
     "output_type": "display_data"
    },
    {
     "data": {
      "text/html": [
       "<span style=\"color: red;\">Lost 18.97 betting on Milwaukee vs Chicago at -110</span>"
      ],
      "text/plain": [
       "<IPython.core.display.HTML object>"
      ]
     },
     "metadata": {},
     "output_type": "display_data"
    },
    {
     "data": {
      "text/html": [
       "<span style=\"color: red;\">Lost 80.3 betting on Memphis vs Houston at -110</span>"
      ],
      "text/plain": [
       "<IPython.core.display.HTML object>"
      ]
     },
     "metadata": {},
     "output_type": "display_data"
    },
    {
     "data": {
      "text/html": [
       "<span style=\"color: green;\">Won 184.45 betting 202.9 on Charlotte vs Atlanta at -110</span>"
      ],
      "text/plain": [
       "<IPython.core.display.HTML object>"
      ]
     },
     "metadata": {},
     "output_type": "display_data"
    },
    {
     "data": {
      "text/html": [
       "<span style=\"color: green;\">Won 8.35 betting 9.18 on Toronto vs Philadelphia at -110</span>"
      ],
      "text/plain": [
       "<IPython.core.display.HTML object>"
      ]
     },
     "metadata": {},
     "output_type": "display_data"
    },
    {
     "data": {
      "text/html": [
       "<span style=\"color: green;\">Won 31.65 betting 34.81 on Orlando vs Brooklyn at -110</span>"
      ],
      "text/plain": [
       "<IPython.core.display.HTML object>"
      ]
     },
     "metadata": {},
     "output_type": "display_data"
    },
    {
     "name": "stdout",
     "output_type": "stream",
     "text": [
      "Results for 2024-10-25 00:00:00: Start Bankroll: 3024.88, End Bankroll: 3238.78, Profit: 213.9, Win Rate: 0.57\n",
      "\n",
      "Processing 2024-10-26 00:00:00...\n"
     ]
    },
    {
     "data": {
      "text/html": [
       "<span style=\"color: green;\">Won 112.82 betting 124.1 on LA Clippers vs Denver at -110</span>"
      ],
      "text/plain": [
       "<IPython.core.display.HTML object>"
      ]
     },
     "metadata": {},
     "output_type": "display_data"
    },
    {
     "data": {
      "text/html": [
       "<span style=\"color: green;\">Won 69.99 betting 76.99 on Phoenix vs Dallas at -110</span>"
      ],
      "text/plain": [
       "<IPython.core.display.HTML object>"
      ]
     },
     "metadata": {},
     "output_type": "display_data"
    },
    {
     "data": {
      "text/html": [
       "<span style=\"color: red;\">Lost 12.19 betting on Boston vs Detroit at -110</span>"
      ],
      "text/plain": [
       "<IPython.core.display.HTML object>"
      ]
     },
     "metadata": {},
     "output_type": "display_data"
    },
    {
     "data": {
      "text/html": [
       "<span style=\"color: green;\">Won 33.27 betting 36.6 on Miami vs Charlotte at -110</span>"
      ],
      "text/plain": [
       "<IPython.core.display.HTML object>"
      ]
     },
     "metadata": {},
     "output_type": "display_data"
    },
    {
     "data": {
      "text/html": [
       "<span style=\"color: red;\">Lost 229.01 betting on Sacramento vs LA Lakers at -110</span>"
      ],
      "text/plain": [
       "<IPython.core.display.HTML object>"
      ]
     },
     "metadata": {},
     "output_type": "display_data"
    },
    {
     "data": {
      "text/html": [
       "<span style=\"color: green;\">Won 54.18 betting 59.6 on San Antonio vs Houston at -110</span>"
      ],
      "text/plain": [
       "<IPython.core.display.HTML object>"
      ]
     },
     "metadata": {},
     "output_type": "display_data"
    },
    {
     "data": {
      "text/html": [
       "<span style=\"color: green;\">Won 74.5 betting 81.95 on Toronto vs Minnesota at -110</span>"
      ],
      "text/plain": [
       "<IPython.core.display.HTML object>"
      ]
     },
     "metadata": {},
     "output_type": "display_data"
    },
    {
     "data": {
      "text/html": [
       "<span style=\"color: green;\">Won 15.35 betting 16.88 on Memphis vs Orlando at -110</span>"
      ],
      "text/plain": [
       "<IPython.core.display.HTML object>"
      ]
     },
     "metadata": {},
     "output_type": "display_data"
    },
    {
     "data": {
      "text/html": [
       "<span style=\"color: green;\">Won 127.31 betting 140.04 on Oklahoma City vs Chicago at -110</span>"
      ],
      "text/plain": [
       "<IPython.core.display.HTML object>"
      ]
     },
     "metadata": {},
     "output_type": "display_data"
    },
    {
     "data": {
      "text/html": [
       "<span style=\"color: green;\">Won 20.38 betting 22.42 on Cleveland vs Washington at -110</span>"
      ],
      "text/plain": [
       "<IPython.core.display.HTML object>"
      ]
     },
     "metadata": {},
     "output_type": "display_data"
    },
    {
     "name": "stdout",
     "output_type": "stream",
     "text": [
      "Results for 2024-10-26 00:00:00: Start Bankroll: 3238.78, End Bankroll: 3505.38, Profit: 266.6, Win Rate: 0.80\n",
      "\n",
      "Processing 2024-10-27 00:00:00...\n"
     ]
    },
    {
     "data": {
      "text/html": [
       "<span style=\"color: green;\">Won 293.27 betting 322.6 on Oklahoma City vs Atlanta at -110</span>"
      ],
      "text/plain": [
       "<IPython.core.display.HTML object>"
      ]
     },
     "metadata": {},
     "output_type": "display_data"
    },
    {
     "data": {
      "text/html": [
       "<span style=\"color: green;\">Won 124.33 betting 136.76 on LA Clippers vs Golden State at -110</span>"
      ],
      "text/plain": [
       "<IPython.core.display.HTML object>"
      ]
     },
     "metadata": {},
     "output_type": "display_data"
    },
    {
     "data": {
      "text/html": [
       "<span style=\"color: green;\">Won 115.14 betting 126.65 on Brooklyn vs Milwaukee at -110</span>"
      ],
      "text/plain": [
       "<IPython.core.display.HTML object>"
      ]
     },
     "metadata": {},
     "output_type": "display_data"
    },
    {
     "data": {
      "text/html": [
       "<span style=\"color: green;\">Won 41.43 betting 45.57 on Philadelphia vs Indiana at -110</span>"
      ],
      "text/plain": [
       "<IPython.core.display.HTML object>"
      ]
     },
     "metadata": {},
     "output_type": "display_data"
    },
    {
     "data": {
      "text/html": [
       "<span style=\"color: green;\">Won 148.79 betting 163.67 on Portland vs New Orleans at -110</span>"
      ],
      "text/plain": [
       "<IPython.core.display.HTML object>"
      ]
     },
     "metadata": {},
     "output_type": "display_data"
    },
    {
     "name": "stdout",
     "output_type": "stream",
     "text": [
      "Results for 2024-10-27 00:00:00: Start Bankroll: 3505.38, End Bankroll: 4228.34, Profit: 722.96, Win Rate: 1.00\n",
      "\n",
      "Processing 2024-10-28 00:00:00...\n"
     ]
    },
    {
     "data": {
      "text/html": [
       "<span style=\"color: red;\">Lost 45.89 betting on San Antonio vs Houston at -110</span>"
      ],
      "text/plain": [
       "<IPython.core.display.HTML object>"
      ]
     },
     "metadata": {},
     "output_type": "display_data"
    },
    {
     "data": {
      "text/html": [
       "<span style=\"color: red;\">Lost 98.4 betting on Memphis vs Chicago at -110</span>"
      ],
      "text/plain": [
       "<IPython.core.display.HTML object>"
      ]
     },
     "metadata": {},
     "output_type": "display_data"
    },
    {
     "data": {
      "text/html": [
       "<span style=\"color: green;\">Won 151.88 betting 167.07 on Toronto vs Denver at -110</span>"
      ],
      "text/plain": [
       "<IPython.core.display.HTML object>"
      ]
     },
     "metadata": {},
     "output_type": "display_data"
    },
    {
     "data": {
      "text/html": [
       "<span style=\"color: green;\">Won 96.15 betting 105.76 on Indiana vs Orlando at -110</span>"
      ],
      "text/plain": [
       "<IPython.core.display.HTML object>"
      ]
     },
     "metadata": {},
     "output_type": "display_data"
    },
    {
     "data": {
      "text/html": [
       "<span style=\"color: green;\">Won 131.54 betting 144.69 on Washington vs Atlanta at -110</span>"
      ],
      "text/plain": [
       "<IPython.core.display.HTML object>"
      ]
     },
     "metadata": {},
     "output_type": "display_data"
    },
    {
     "data": {
      "text/html": [
       "<span style=\"color: green;\">Won 109.7 betting 120.67 on Detroit vs Miami at -110</span>"
      ],
      "text/plain": [
       "<IPython.core.display.HTML object>"
      ]
     },
     "metadata": {},
     "output_type": "display_data"
    },
    {
     "data": {
      "text/html": [
       "<span style=\"color: green;\">Won 99.05 betting 108.95 on Cleveland vs New York at -110</span>"
      ],
      "text/plain": [
       "<IPython.core.display.HTML object>"
      ]
     },
     "metadata": {},
     "output_type": "display_data"
    },
    {
     "data": {
      "text/html": [
       "<span style=\"color: green;\">Won 46.5 betting 51.15 on Boston vs Milwaukee at -110</span>"
      ],
      "text/plain": [
       "<IPython.core.display.HTML object>"
      ]
     },
     "metadata": {},
     "output_type": "display_data"
    },
    {
     "name": "stdout",
     "output_type": "stream",
     "text": [
      "Results for 2024-10-28 00:00:00: Start Bankroll: 4228.34, End Bankroll: 4718.87, Profit: 490.53, Win Rate: 0.75\n",
      "\n",
      "Processing 2024-10-29 00:00:00...\n"
     ]
    },
    {
     "data": {
      "text/html": [
       "<span style=\"color: green;\">Won 249.22 betting 274.14 on Dallas vs Minnesota at -110</span>"
      ],
      "text/plain": [
       "<IPython.core.display.HTML object>"
      ]
     },
     "metadata": {},
     "output_type": "display_data"
    },
    {
     "data": {
      "text/html": [
       "<span style=\"color: green;\">Won 291.32 betting 320.45 on Golden State vs New Orleans at -110</span>"
      ],
      "text/plain": [
       "<IPython.core.display.HTML object>"
      ]
     },
     "metadata": {},
     "output_type": "display_data"
    },
    {
     "data": {
      "text/html": [
       "<span style=\"color: green;\">Won 109.61 betting 120.57 on Brooklyn vs Denver at -110</span>"
      ],
      "text/plain": [
       "<IPython.core.display.HTML object>"
      ]
     },
     "metadata": {},
     "output_type": "display_data"
    },
    {
     "name": "stdout",
     "output_type": "stream",
     "text": [
      "Results for 2024-10-29 00:00:00: Start Bankroll: 4718.87, End Bankroll: 5369.02, Profit: 650.15, Win Rate: 1.00\n",
      "\n",
      "Processing 2024-10-30 00:00:00...\n"
     ]
    },
    {
     "data": {
      "text/html": [
       "<span style=\"color: green;\">Won 29.45 betting 32.4 on Brooklyn vs Memphis at -110</span>"
      ],
      "text/plain": [
       "<IPython.core.display.HTML object>"
      ]
     },
     "metadata": {},
     "output_type": "display_data"
    },
    {
     "data": {
      "text/html": [
       "<span style=\"color: red;\">Lost 274.99 betting on LA Clippers vs Portland at -110</span>"
      ],
      "text/plain": [
       "<IPython.core.display.HTML object>"
      ]
     },
     "metadata": {},
     "output_type": "display_data"
    },
    {
     "data": {
      "text/html": [
       "<span style=\"color: red;\">Lost 52.34 betting on Oklahoma City vs San Antonio at -110</span>"
      ],
      "text/plain": [
       "<IPython.core.display.HTML object>"
      ]
     },
     "metadata": {},
     "output_type": "display_data"
    },
    {
     "data": {
      "text/html": [
       "<span style=\"color: green;\">Won 255.1 betting 280.61 on Golden State vs New Orleans at -110</span>"
      ],
      "text/plain": [
       "<IPython.core.display.HTML object>"
      ]
     },
     "metadata": {},
     "output_type": "display_data"
    },
    {
     "data": {
      "text/html": [
       "<span style=\"color: green;\">Won 17.5 betting 19.25 on Chicago vs Orlando at -110</span>"
      ],
      "text/plain": [
       "<IPython.core.display.HTML object>"
      ]
     },
     "metadata": {},
     "output_type": "display_data"
    },
    {
     "data": {
      "text/html": [
       "<span style=\"color: red;\">Lost 185.23 betting on Miami vs New York at -110</span>"
      ],
      "text/plain": [
       "<IPython.core.display.HTML object>"
      ]
     },
     "metadata": {},
     "output_type": "display_data"
    },
    {
     "data": {
      "text/html": [
       "<span style=\"color: red;\">Lost 27.33 betting on Boston vs Indiana at -110</span>"
      ],
      "text/plain": [
       "<IPython.core.display.HTML object>"
      ]
     },
     "metadata": {},
     "output_type": "display_data"
    },
    {
     "data": {
      "text/html": [
       "<span style=\"color: green;\">Won 29.89 betting 32.88 on Toronto vs Charlotte at -110</span>"
      ],
      "text/plain": [
       "<IPython.core.display.HTML object>"
      ]
     },
     "metadata": {},
     "output_type": "display_data"
    },
    {
     "data": {
      "text/html": [
       "<span style=\"color: green;\">Won 28.28 betting 31.11 on Cleveland vs LA Lakers at -110</span>"
      ],
      "text/plain": [
       "<IPython.core.display.HTML object>"
      ]
     },
     "metadata": {},
     "output_type": "display_data"
    },
    {
     "data": {
      "text/html": [
       "<span style=\"color: green;\">Won 88.13 betting 96.94 on Washington vs Atlanta at -110</span>"
      ],
      "text/plain": [
       "<IPython.core.display.HTML object>"
      ]
     },
     "metadata": {},
     "output_type": "display_data"
    },
    {
     "name": "stdout",
     "output_type": "stream",
     "text": [
      "Results for 2024-10-30 00:00:00: Start Bankroll: 5369.02, End Bankroll: 5277.48, Profit: -91.54, Win Rate: 0.60\n",
      "\n",
      "Processing 2024-10-31 00:00:00...\n"
     ]
    },
    {
     "data": {
      "text/html": [
       "<span style=\"color: green;\">Won 33.54 betting 36.89 on San Antonio vs Utah at -110</span>"
      ],
      "text/plain": [
       "<IPython.core.display.HTML object>"
      ]
     },
     "metadata": {},
     "output_type": "display_data"
    },
    {
     "data": {
      "text/html": [
       "<span style=\"color: red;\">Lost 419.42 betting on LA Clippers vs Phoenix at -110</span>"
      ],
      "text/plain": [
       "<IPython.core.display.HTML object>"
      ]
     },
     "metadata": {},
     "output_type": "display_data"
    },
    {
     "data": {
      "text/html": [
       "<span style=\"color: green;\">Won 317.59 betting 349.35 on Memphis vs Milwaukee at -110</span>"
      ],
      "text/plain": [
       "<IPython.core.display.HTML object>"
      ]
     },
     "metadata": {},
     "output_type": "display_data"
    },
    {
     "name": "stdout",
     "output_type": "stream",
     "text": [
      "Results for 2024-10-31 00:00:00: Start Bankroll: 5277.48, End Bankroll: 5209.19, Profit: -68.29, Win Rate: 0.67\n",
      "\n",
      "Processing 2024-11-01 00:00:00...\n"
     ]
    },
    {
     "data": {
      "text/html": [
       "<span style=\"color: green;\">Won 424.11 betting 466.52 on Oklahoma City vs Portland at -110</span>"
      ],
      "text/plain": [
       "<IPython.core.display.HTML object>"
      ]
     },
     "metadata": {},
     "output_type": "display_data"
    },
    {
     "data": {
      "text/html": [
       "<span style=\"color: green;\">Won 130.46 betting 143.51 on Boston vs Charlotte at -110</span>"
      ],
      "text/plain": [
       "<IPython.core.display.HTML object>"
      ]
     },
     "metadata": {},
     "output_type": "display_data"
    },
    {
     "data": {
      "text/html": [
       "<span style=\"color: green;\">Won 33.16 betting 36.48 on Denver vs Minnesota at -110</span>"
      ],
      "text/plain": [
       "<IPython.core.display.HTML object>"
      ]
     },
     "metadata": {},
     "output_type": "display_data"
    },
    {
     "data": {
      "text/html": [
       "<span style=\"color: red;\">Lost 179.69 betting on Indiana vs New Orleans at -110</span>"
      ],
      "text/plain": [
       "<IPython.core.display.HTML object>"
      ]
     },
     "metadata": {},
     "output_type": "display_data"
    },
    {
     "data": {
      "text/html": [
       "<span style=\"color: green;\">Won 166.92 betting 183.61 on Toronto vs LA Lakers at -110</span>"
      ],
      "text/plain": [
       "<IPython.core.display.HTML object>"
      ]
     },
     "metadata": {},
     "output_type": "display_data"
    },
    {
     "data": {
      "text/html": [
       "<span style=\"color: green;\">Won 148.79 betting 163.67 on Brooklyn vs Chicago at -110</span>"
      ],
      "text/plain": [
       "<IPython.core.display.HTML object>"
      ]
     },
     "metadata": {},
     "output_type": "display_data"
    },
    {
     "data": {
      "text/html": [
       "<span style=\"color: red;\">Lost 19.86 betting on Detroit vs New York at -110</span>"
      ],
      "text/plain": [
       "<IPython.core.display.HTML object>"
      ]
     },
     "metadata": {},
     "output_type": "display_data"
    },
    {
     "data": {
      "text/html": [
       "<span style=\"color: green;\">Won 111.08 betting 122.19 on Sacramento vs Atlanta at -110</span>"
      ],
      "text/plain": [
       "<IPython.core.display.HTML object>"
      ]
     },
     "metadata": {},
     "output_type": "display_data"
    },
    {
     "name": "stdout",
     "output_type": "stream",
     "text": [
      "Results for 2024-11-01 00:00:00: Start Bankroll: 5209.19, End Bankroll: 6024.16, Profit: 814.97, Win Rate: 0.75\n",
      "\n",
      "Processing 2024-11-02 00:00:00...\n"
     ]
    },
    {
     "data": {
      "text/html": [
       "<span style=\"color: green;\">Won 352.56 betting 387.82 on Portland vs Phoenix at -110</span>"
      ],
      "text/plain": [
       "<IPython.core.display.HTML object>"
      ]
     },
     "metadata": {},
     "output_type": "display_data"
    },
    {
     "data": {
      "text/html": [
       "<span style=\"color: red;\">Lost 5.64 betting on Utah vs Denver at -110</span>"
      ],
      "text/plain": [
       "<IPython.core.display.HTML object>"
      ]
     },
     "metadata": {},
     "output_type": "display_data"
    },
    {
     "data": {
      "text/html": [
       "<span style=\"color: green;\">Won 110.08 betting 121.09 on Miami vs Washington at -110</span>"
      ],
      "text/plain": [
       "<IPython.core.display.HTML object>"
      ]
     },
     "metadata": {},
     "output_type": "display_data"
    },
    {
     "data": {
      "text/html": [
       "<span style=\"color: green;\">Won 91.39 betting 100.53 on San Antonio vs Minnesota at -110</span>"
      ],
      "text/plain": [
       "<IPython.core.display.HTML object>"
      ]
     },
     "metadata": {},
     "output_type": "display_data"
    },
    {
     "data": {
      "text/html": [
       "<span style=\"color: green;\">Won 13.72 betting 15.09 on Oklahoma City vs LA Clippers at -110</span>"
      ],
      "text/plain": [
       "<IPython.core.display.HTML object>"
      ]
     },
     "metadata": {},
     "output_type": "display_data"
    },
    {
     "data": {
      "text/html": [
       "<span style=\"color: green;\">Won 16.71 betting 18.38 on Cleveland vs Milwaukee at -110</span>"
      ],
      "text/plain": [
       "<IPython.core.display.HTML object>"
      ]
     },
     "metadata": {},
     "output_type": "display_data"
    },
    {
     "data": {
      "text/html": [
       "<span style=\"color: green;\">Won 53.34 betting 58.67 on Golden State vs Houston at -110</span>"
      ],
      "text/plain": [
       "<IPython.core.display.HTML object>"
      ]
     },
     "metadata": {},
     "output_type": "display_data"
    },
    {
     "data": {
      "text/html": [
       "<span style=\"color: red;\">Lost 361.24 betting on Sacramento vs Toronto at -110</span>"
      ],
      "text/plain": [
       "<IPython.core.display.HTML object>"
      ]
     },
     "metadata": {},
     "output_type": "display_data"
    },
    {
     "data": {
      "text/html": [
       "<span style=\"color: green;\">Won 0.35 betting 0.39 on Memphis vs Philadelphia at -110</span>"
      ],
      "text/plain": [
       "<IPython.core.display.HTML object>"
      ]
     },
     "metadata": {},
     "output_type": "display_data"
    },
    {
     "data": {
      "text/html": [
       "<span style=\"color: red;\">Lost 101.76 betting on Boston vs Charlotte at -110</span>"
      ],
      "text/plain": [
       "<IPython.core.display.HTML object>"
      ]
     },
     "metadata": {},
     "output_type": "display_data"
    },
    {
     "name": "stdout",
     "output_type": "stream",
     "text": [
      "Results for 2024-11-02 00:00:00: Start Bankroll: 6024.16, End Bankroll: 6193.67, Profit: 169.51, Win Rate: 0.70\n",
      "\n",
      "Processing 2024-11-03 00:00:00...\n"
     ]
    },
    {
     "data": {
      "text/html": [
       "<span style=\"color: green;\">Won 47.8 betting 52.58 on Atlanta vs New Orleans at -110</span>"
      ],
      "text/plain": [
       "<IPython.core.display.HTML object>"
      ]
     },
     "metadata": {},
     "output_type": "display_data"
    },
    {
     "data": {
      "text/html": [
       "<span style=\"color: green;\">Won 76.17 betting 83.79 on Dallas vs Orlando at -110</span>"
      ],
      "text/plain": [
       "<IPython.core.display.HTML object>"
      ]
     },
     "metadata": {},
     "output_type": "display_data"
    },
    {
     "data": {
      "text/html": [
       "<span style=\"color: red;\">Lost 19.06 betting on Brooklyn vs Detroit at -110</span>"
      ],
      "text/plain": [
       "<IPython.core.display.HTML object>"
      ]
     },
     "metadata": {},
     "output_type": "display_data"
    },
    {
     "name": "stdout",
     "output_type": "stream",
     "text": [
      "Results for 2024-11-03 00:00:00: Start Bankroll: 6193.67, End Bankroll: 6298.58, Profit: 104.91, Win Rate: 0.67\n",
      "\n",
      "Processing 2024-11-04 00:00:00...\n"
     ]
    },
    {
     "data": {
      "text/html": [
       "<span style=\"color: green;\">Won 268.05 betting 294.86 on Toronto vs Denver at -110</span>"
      ],
      "text/plain": [
       "<IPython.core.display.HTML object>"
      ]
     },
     "metadata": {},
     "output_type": "display_data"
    },
    {
     "data": {
      "text/html": [
       "<span style=\"color: green;\">Won 257.87 betting 283.66 on Philadelphia vs Phoenix at -110</span>"
      ],
      "text/plain": [
       "<IPython.core.display.HTML object>"
      ]
     },
     "metadata": {},
     "output_type": "display_data"
    },
    {
     "data": {
      "text/html": [
       "<span style=\"color: green;\">Won 253.25 betting 278.58 on LA Clippers vs San Antonio at -110</span>"
      ],
      "text/plain": [
       "<IPython.core.display.HTML object>"
      ]
     },
     "metadata": {},
     "output_type": "display_data"
    },
    {
     "data": {
      "text/html": [
       "<span style=\"color: green;\">Won 110.59 betting 121.65 on Indiana vs Dallas at -110</span>"
      ],
      "text/plain": [
       "<IPython.core.display.HTML object>"
      ]
     },
     "metadata": {},
     "output_type": "display_data"
    },
    {
     "data": {
      "text/html": [
       "<span style=\"color: red;\">Lost 32.23 betting on Charlotte vs Minnesota at -110</span>"
      ],
      "text/plain": [
       "<IPython.core.display.HTML object>"
      ]
     },
     "metadata": {},
     "output_type": "display_data"
    },
    {
     "data": {
      "text/html": [
       "<span style=\"color: green;\">Won 119.76 betting 131.74 on Sacramento vs Miami at -110</span>"
      ],
      "text/plain": [
       "<IPython.core.display.HTML object>"
      ]
     },
     "metadata": {},
     "output_type": "display_data"
    },
    {
     "data": {
      "text/html": [
       "<span style=\"color: green;\">Won 40.1 betting 44.11 on Brooklyn vs Memphis at -110</span>"
      ],
      "text/plain": [
       "<IPython.core.display.HTML object>"
      ]
     },
     "metadata": {},
     "output_type": "display_data"
    },
    {
     "data": {
      "text/html": [
       "<span style=\"color: green;\">Won 355.37 betting 390.91 on Boston vs Atlanta at -110</span>"
      ],
      "text/plain": [
       "<IPython.core.display.HTML object>"
      ]
     },
     "metadata": {},
     "output_type": "display_data"
    },
    {
     "data": {
      "text/html": [
       "<span style=\"color: green;\">Won 205.72 betting 226.29 on Portland vs New Orleans at -110</span>"
      ],
      "text/plain": [
       "<IPython.core.display.HTML object>"
      ]
     },
     "metadata": {},
     "output_type": "display_data"
    },
    {
     "data": {
      "text/html": [
       "<span style=\"color: green;\">Won 142.71 betting 156.98 on Detroit vs LA Lakers at -110</span>"
      ],
      "text/plain": [
       "<IPython.core.display.HTML object>"
      ]
     },
     "metadata": {},
     "output_type": "display_data"
    },
    {
     "data": {
      "text/html": [
       "<span style=\"color: red;\">Lost 60.8 betting on Washington vs Golden State at -110</span>"
      ],
      "text/plain": [
       "<IPython.core.display.HTML object>"
      ]
     },
     "metadata": {},
     "output_type": "display_data"
    },
    {
     "data": {
      "text/html": [
       "<span style=\"color: green;\">Won 79.23 betting 87.15 on Milwaukee vs Cleveland at -110</span>"
      ],
      "text/plain": [
       "<IPython.core.display.HTML object>"
      ]
     },
     "metadata": {},
     "output_type": "display_data"
    },
    {
     "data": {
      "text/html": [
       "<span style=\"color: green;\">Won 206.85 betting 227.54 on Utah vs Chicago at -110</span>"
      ],
      "text/plain": [
       "<IPython.core.display.HTML object>"
      ]
     },
     "metadata": {},
     "output_type": "display_data"
    },
    {
     "data": {
      "text/html": [
       "<span style=\"color: green;\">Won 51.99 betting 57.19 on Oklahoma City vs Orlando at -110</span>"
      ],
      "text/plain": [
       "<IPython.core.display.HTML object>"
      ]
     },
     "metadata": {},
     "output_type": "display_data"
    },
    {
     "name": "stdout",
     "output_type": "stream",
     "text": [
      "Results for 2024-11-04 00:00:00: Start Bankroll: 6298.58, End Bankroll: 8297.04, Profit: 1998.46, Win Rate: 0.86\n",
      "\n",
      "Processing 2024-11-05 00:00:00...\n",
      "Processing 2024-11-06 00:00:00...\n"
     ]
    },
    {
     "data": {
      "text/html": [
       "<span style=\"color: green;\">Won 182.65 betting 200.91 on LA Clippers vs Philadelphia at -110</span>"
      ],
      "text/plain": [
       "<IPython.core.display.HTML object>"
      ]
     },
     "metadata": {},
     "output_type": "display_data"
    },
    {
     "data": {
      "text/html": [
       "<span style=\"color: red;\">Lost 104.49 betting on Phoenix vs Miami at -110</span>"
      ],
      "text/plain": [
       "<IPython.core.display.HTML object>"
      ]
     },
     "metadata": {},
     "output_type": "display_data"
    },
    {
     "data": {
      "text/html": [
       "<span style=\"color: red;\">Lost 91.33 betting on Oklahoma City vs Denver at -110</span>"
      ],
      "text/plain": [
       "<IPython.core.display.HTML object>"
      ]
     },
     "metadata": {},
     "output_type": "display_data"
    },
    {
     "data": {
      "text/html": [
       "<span style=\"color: green;\">Won 195.58 betting 215.14 on Dallas vs Chicago at -110</span>"
      ],
      "text/plain": [
       "<IPython.core.display.HTML object>"
      ]
     },
     "metadata": {},
     "output_type": "display_data"
    },
    {
     "data": {
      "text/html": [
       "<span style=\"color: green;\">Won 39.89 betting 43.88 on Charlotte vs Detroit at -110</span>"
      ],
      "text/plain": [
       "<IPython.core.display.HTML object>"
      ]
     },
     "metadata": {},
     "output_type": "display_data"
    },
    {
     "data": {
      "text/html": [
       "<span style=\"color: red;\">Lost 365.73 betting on New York vs Atlanta at -110</span>"
      ],
      "text/plain": [
       "<IPython.core.display.HTML object>"
      ]
     },
     "metadata": {},
     "output_type": "display_data"
    },
    {
     "data": {
      "text/html": [
       "<span style=\"color: red;\">Lost 69.56 betting on Boston vs Golden State at -110</span>"
      ],
      "text/plain": [
       "<IPython.core.display.HTML object>"
      ]
     },
     "metadata": {},
     "output_type": "display_data"
    },
    {
     "data": {
      "text/html": [
       "<span style=\"color: red;\">Lost 141.79 betting on San Antonio vs Houston at -110</span>"
      ],
      "text/plain": [
       "<IPython.core.display.HTML object>"
      ]
     },
     "metadata": {},
     "output_type": "display_data"
    },
    {
     "data": {
      "text/html": [
       "<span style=\"color: green;\">Won 23.28 betting 25.61 on Memphis vs LA Lakers at -110</span>"
      ],
      "text/plain": [
       "<IPython.core.display.HTML object>"
      ]
     },
     "metadata": {},
     "output_type": "display_data"
    },
    {
     "data": {
      "text/html": [
       "<span style=\"color: green;\">Won 263.11 betting 289.42 on Cleveland vs New Orleans at -110</span>"
      ],
      "text/plain": [
       "<IPython.core.display.HTML object>"
      ]
     },
     "metadata": {},
     "output_type": "display_data"
    },
    {
     "data": {
      "text/html": [
       "<span style=\"color: green;\">Won 99.45 betting 109.4 on Sacramento vs Toronto at -110</span>"
      ],
      "text/plain": [
       "<IPython.core.display.HTML object>"
      ]
     },
     "metadata": {},
     "output_type": "display_data"
    },
    {
     "name": "stdout",
     "output_type": "stream",
     "text": [
      "Results for 2024-11-06 00:00:00: Start Bankroll: 8297.04, End Bankroll: 8328.1, Profit: 31.06, Win Rate: 0.55\n",
      "\n"
     ]
    },
    {
     "data": {
      "image/png": "[encoded data removed]",
      "text/plain": [
       "<Figure size 640x480 with 1 Axes>"
      ]
     },
     "metadata": {},
     "output_type": "display_data"
    },
    {
     "name": "stdout",
     "output_type": "stream",
     "text": [
      "Final Bankroll: 8328.100000000006\n",
      "Total Profit: 5828.100000000006\n"
     ]
    }
   ],
   "source": [
    "# Example usage with defined constants\n",
    "final_bankroll, total_profit, bet_results = backtest_model(\n",
    "    df=df,\n",
    "    model=spread_model,\n",
    "    feature_cols=df.drop(drop_cols, axis=1).columns,  # Feature columns\n",
    "    label_col='spread_result',\n",
    "    odds_col='CLOSING_SPREAD',\n",
    "    start_date='2024-10-22',\n",
    "    end_date='2024-11-06',\n",
    "    initial_bankroll=2500,\n",
    "    bet_size=2\n",
    ")\n",
    "\n",
    "# Plotting the results\n",
    "plt.plot(bet_results)\n",
    "plt.title('Bankroll Over Time')\n",
    "plt.xlabel('Days')\n",
    "plt.ylabel('Bankroll')\n",
    "plt.show()\n",
    "\n",
    "print(f\"Final Bankroll: {final_bankroll}\")\n",
    "print(f\"Total Profit: {total_profit}\")"
   ]
  },
  {
   "cell_type": "markdown",
   "metadata": {},
   "source": [
    "#### ML"
   ]
  },
  {
   "cell_type": "code",
   "execution_count": 32,
   "metadata": {},
   "outputs": [
    {
     "name": "stdout",
     "output_type": "stream",
     "text": [
      "Processing 2024-10-22 00:00:00...\n"
     ]
    },
    {
     "data": {
      "text/html": [
       "<span style=\"color: green;\">Won 76.68 betting 191.71 on Boston vs New York at -250</span>"
      ],
      "text/plain": [
       "<IPython.core.display.HTML object>"
      ]
     },
     "metadata": {},
     "output_type": "display_data"
    },
    {
     "name": "stdout",
     "output_type": "stream",
     "text": [
      "Results for 2024-10-22 00:00:00: Start Bankroll: 2500, End Bankroll: 2576.68, Profit: 76.68, Win Rate: 1.00\n",
      "\n",
      "Processing 2024-10-23 00:00:00...\n"
     ]
    },
    {
     "data": {
      "text/html": [
       "<span style=\"color: green;\">Won 41.31 betting 123.1 on Atlanta vs Brooklyn at -298</span>"
      ],
      "text/plain": [
       "<IPython.core.display.HTML object>"
      ]
     },
     "metadata": {},
     "output_type": "display_data"
    },
    {
     "data": {
      "text/html": [
       "<span style=\"color: green;\">Won 41.07 betting 105.97 on Cleveland vs Toronto at -258</span>"
      ],
      "text/plain": [
       "<IPython.core.display.HTML object>"
      ]
     },
     "metadata": {},
     "output_type": "display_data"
    },
    {
     "data": {
      "text/html": [
       "<span style=\"color: green;\">Won 22.42 betting 20.38 on Orlando vs Miami at 110</span>"
      ],
      "text/plain": [
       "<IPython.core.display.HTML object>"
      ]
     },
     "metadata": {},
     "output_type": "display_data"
    },
    {
     "data": {
      "text/html": [
       "<span style=\"color: green;\">Won 61.21 betting 113.24 on Milwaukee vs Philadelphia at -185</span>"
      ],
      "text/plain": [
       "<IPython.core.display.HTML object>"
      ]
     },
     "metadata": {},
     "output_type": "display_data"
    },
    {
     "data": {
      "text/html": [
       "<span style=\"color: green;\">Won 17.64 betting 38.46 on Indiana vs Detroit at -218</span>"
      ],
      "text/plain": [
       "<IPython.core.display.HTML object>"
      ]
     },
     "metadata": {},
     "output_type": "display_data"
    },
    {
     "data": {
      "text/html": [
       "<span style=\"color: green;\">Won 38.48 betting 114.66 on Golden State vs Portland at -298</span>"
      ],
      "text/plain": [
       "<IPython.core.display.HTML object>"
      ]
     },
     "metadata": {},
     "output_type": "display_data"
    },
    {
     "data": {
      "text/html": [
       "<span style=\"color: green;\">Won 43.07 betting 88.3 on Phoenix vs LA Clippers at -205</span>"
      ],
      "text/plain": [
       "<IPython.core.display.HTML object>"
      ]
     },
     "metadata": {},
     "output_type": "display_data"
    },
    {
     "data": {
      "text/html": [
       "<span style=\"color: green;\">Won 21.89 betting 31.09 on Memphis vs Utah at -142</span>"
      ],
      "text/plain": [
       "<IPython.core.display.HTML object>"
      ]
     },
     "metadata": {},
     "output_type": "display_data"
    },
    {
     "data": {
      "text/html": [
       "<span style=\"color: green;\">Won 3.44 betting 6.81 on New Orleans vs Chicago at -198</span>"
      ],
      "text/plain": [
       "<IPython.core.display.HTML object>"
      ]
     },
     "metadata": {},
     "output_type": "display_data"
    },
    {
     "data": {
      "text/html": [
       "<span style=\"color: red;\">Lost 96.25 betting on Houston vs Charlotte at -345</span>"
      ],
      "text/plain": [
       "<IPython.core.display.HTML object>"
      ]
     },
     "metadata": {},
     "output_type": "display_data"
    },
    {
     "name": "stdout",
     "output_type": "stream",
     "text": [
      "Results for 2024-10-23 00:00:00: Start Bankroll: 2576.68, End Bankroll: 2770.96, Profit: 194.28, Win Rate: 0.90\n",
      "\n",
      "Processing 2024-10-24 00:00:00...\n"
     ]
    },
    {
     "data": {
      "text/html": [
       "<span style=\"color: green;\">Won 10.62 betting 11.89 on Minnesota vs Sacramento at -112</span>"
      ],
      "text/plain": [
       "<IPython.core.display.HTML object>"
      ]
     },
     "metadata": {},
     "output_type": "display_data"
    },
    {
     "data": {
      "text/html": [
       "<span style=\"color: green;\">Won 54.65 betting 215.87 on Dallas vs San Antonio at -395</span>"
      ],
      "text/plain": [
       "<IPython.core.display.HTML object>"
      ]
     },
     "metadata": {},
     "output_type": "display_data"
    },
    {
     "data": {
      "text/html": [
       "<span style=\"color: green;\">Won 18.4 betting 193.2 on Boston vs Washington at -1050</span>"
      ],
      "text/plain": [
       "<IPython.core.display.HTML object>"
      ]
     },
     "metadata": {},
     "output_type": "display_data"
    },
    {
     "name": "stdout",
     "output_type": "stream",
     "text": [
      "Results for 2024-10-24 00:00:00: Start Bankroll: 2770.96, End Bankroll: 2854.63, Profit: 83.67, Win Rate: 1.00\n",
      "\n",
      "Processing 2024-10-25 00:00:00...\n"
     ]
    },
    {
     "data": {
      "text/html": [
       "<span style=\"color: green;\">Won 80.14 betting 206.75 on New Orleans vs Portland at -258</span>"
      ],
      "text/plain": [
       "<IPython.core.display.HTML object>"
      ]
     },
     "metadata": {},
     "output_type": "display_data"
    },
    {
     "data": {
      "text/html": [
       "<span style=\"color: red;\">Lost 42.18 betting on Phoenix vs LA Lakers at 102</span>"
      ],
      "text/plain": [
       "<IPython.core.display.HTML object>"
      ]
     },
     "metadata": {},
     "output_type": "display_data"
    },
    {
     "data": {
      "text/html": [
       "<span style=\"color: green;\">Won 30.2 betting 77.92 on Golden State vs Utah at -258</span>"
      ],
      "text/plain": [
       "<IPython.core.display.HTML object>"
      ]
     },
     "metadata": {},
     "output_type": "display_data"
    },
    {
     "data": {
      "text/html": [
       "<span style=\"color: red;\">Lost 163.56 betting on Milwaukee vs Chicago at -395</span>"
      ],
      "text/plain": [
       "<IPython.core.display.HTML object>"
      ]
     },
     "metadata": {},
     "output_type": "display_data"
    },
    {
     "data": {
      "text/html": [
       "<span style=\"color: red;\">Lost 16.1 betting on Philadelphia vs Toronto at -205</span>"
      ],
      "text/plain": [
       "<IPython.core.display.HTML object>"
      ]
     },
     "metadata": {},
     "output_type": "display_data"
    },
    {
     "data": {
      "text/html": [
       "<span style=\"color: green;\">Won 31.02 betting 178.34 on Cleveland vs Detroit at -575</span>"
      ],
      "text/plain": [
       "<IPython.core.display.HTML object>"
      ]
     },
     "metadata": {},
     "output_type": "display_data"
    },
    {
     "data": {
      "text/html": [
       "<span style=\"color: green;\">Won 23.23 betting 150.97 on Orlando vs Brooklyn at -650</span>"
      ],
      "text/plain": [
       "<IPython.core.display.HTML object>"
      ]
     },
     "metadata": {},
     "output_type": "display_data"
    },
    {
     "data": {
      "text/html": [
       "<span style=\"color: green;\">Won 24.78 betting 49.07 on New York vs Indiana at -198</span>"
      ],
      "text/plain": [
       "<IPython.core.display.HTML object>"
      ]
     },
     "metadata": {},
     "output_type": "display_data"
    },
    {
     "name": "stdout",
     "output_type": "stream",
     "text": [
      "Results for 2024-10-25 00:00:00: Start Bankroll: 2854.63, End Bankroll: 2822.16, Profit: -32.47, Win Rate: 0.62\n",
      "\n",
      "Processing 2024-10-26 00:00:00...\n"
     ]
    },
    {
     "data": {
      "text/html": [
       "<span style=\"color: red;\">Lost 219.22 betting on Denver vs LA Clippers at -325</span>"
      ],
      "text/plain": [
       "<IPython.core.display.HTML object>"
      ]
     },
     "metadata": {},
     "output_type": "display_data"
    },
    {
     "data": {
      "text/html": [
       "<span style=\"color: green;\">Won 21.18 betting 190.61 on Boston vs Detroit at -900</span>"
      ],
      "text/plain": [
       "<IPython.core.display.HTML object>"
      ]
     },
     "metadata": {},
     "output_type": "display_data"
    },
    {
     "data": {
      "text/html": [
       "<span style=\"color: green;\">Won 37.16 betting 91.03 on Miami vs Charlotte at -245</span>"
      ],
      "text/plain": [
       "<IPython.core.display.HTML object>"
      ]
     },
     "metadata": {},
     "output_type": "display_data"
    },
    {
     "data": {
      "text/html": [
       "<span style=\"color: red;\">Lost 33.68 betting on Sacramento vs LA Lakers at -108</span>"
      ],
      "text/plain": [
       "<IPython.core.display.HTML object>"
      ]
     },
     "metadata": {},
     "output_type": "display_data"
    },
    {
     "data": {
      "text/html": [
       "<span style=\"color: red;\">Lost 3.76 betting on Dallas vs Phoenix at -166</span>"
      ],
      "text/plain": [
       "<IPython.core.display.HTML object>"
      ]
     },
     "metadata": {},
     "output_type": "display_data"
    },
    {
     "data": {
      "text/html": [
       "<span style=\"color: green;\">Won 37.85 betting 37.11 on San Antonio vs Houston at 102</span>"
      ],
      "text/plain": [
       "<IPython.core.display.HTML object>"
      ]
     },
     "metadata": {},
     "output_type": "display_data"
    },
    {
     "data": {
      "text/html": [
       "<span style=\"color: green;\">Won 13.0 betting 136.47 on Minnesota vs Toronto at -1050</span>"
      ],
      "text/plain": [
       "<IPython.core.display.HTML object>"
      ]
     },
     "metadata": {},
     "output_type": "display_data"
    },
    {
     "data": {
      "text/html": [
       "<span style=\"color: green;\">Won 35.5 betting 39.76 on Memphis vs Orlando at -112</span>"
      ],
      "text/plain": [
       "<IPython.core.display.HTML object>"
      ]
     },
     "metadata": {},
     "output_type": "display_data"
    },
    {
     "data": {
      "text/html": [
       "<span style=\"color: green;\">Won 38.3 betting 162.77 on Oklahoma City vs Chicago at -425</span>"
      ],
      "text/plain": [
       "<IPython.core.display.HTML object>"
      ]
     },
     "metadata": {},
     "output_type": "display_data"
    },
    {
     "data": {
      "text/html": [
       "<span style=\"color: green;\">Won 33.64 betting 153.04 on Cleveland vs Washington at -455</span>"
      ],
      "text/plain": [
       "<IPython.core.display.HTML object>"
      ]
     },
     "metadata": {},
     "output_type": "display_data"
    },
    {
     "name": "stdout",
     "output_type": "stream",
     "text": [
      "Results for 2024-10-26 00:00:00: Start Bankroll: 2822.16, End Bankroll: 2782.13, Profit: -40.03, Win Rate: 0.70\n",
      "\n",
      "Processing 2024-10-27 00:00:00...\n"
     ]
    },
    {
     "data": {
      "text/html": [
       "<span style=\"color: green;\">Won 38.02 betting 190.08 on Oklahoma City vs Atlanta at -500</span>"
      ],
      "text/plain": [
       "<IPython.core.display.HTML object>"
      ]
     },
     "metadata": {},
     "output_type": "display_data"
    },
    {
     "data": {
      "text/html": [
       "<span style=\"color: red;\">Lost 127.1 betting on Golden State vs LA Clippers at -395</span>"
      ],
      "text/plain": [
       "<IPython.core.display.HTML object>"
      ]
     },
     "metadata": {},
     "output_type": "display_data"
    },
    {
     "data": {
      "text/html": [
       "<span style=\"color: red;\">Lost 147.87 betting on New Orleans vs Portland at -250</span>"
      ],
      "text/plain": [
       "<IPython.core.display.HTML object>"
      ]
     },
     "metadata": {},
     "output_type": "display_data"
    },
    {
     "data": {
      "text/html": [
       "<span style=\"color: red;\">Lost 170.63 betting on Milwaukee vs Brooklyn at -375</span>"
      ],
      "text/plain": [
       "<IPython.core.display.HTML object>"
      ]
     },
     "metadata": {},
     "output_type": "display_data"
    },
    {
     "data": {
      "text/html": [
       "<span style=\"color: red;\">Lost 127.54 betting on Indiana vs Philadelphia at -380</span>"
      ],
      "text/plain": [
       "<IPython.core.display.HTML object>"
      ]
     },
     "metadata": {},
     "output_type": "display_data"
    },
    {
     "name": "stdout",
     "output_type": "stream",
     "text": [
      "Results for 2024-10-27 00:00:00: Start Bankroll: 2782.13, End Bankroll: 2247.01, Profit: -535.12, Win Rate: 0.20\n",
      "\n",
      "Processing 2024-10-28 00:00:00...\n"
     ]
    },
    {
     "data": {
      "text/html": [
       "<span style=\"color: green;\">Won 21.2 betting 158.99 on Sacramento vs Portland at -750</span>"
      ],
      "text/plain": [
       "<IPython.core.display.HTML object>"
      ]
     },
     "metadata": {},
     "output_type": "display_data"
    },
    {
     "data": {
      "text/html": [
       "<span style=\"color: green;\">Won 19.34 betting 135.4 on Dallas vs Utah at -700</span>"
      ],
      "text/plain": [
       "<IPython.core.display.HTML object>"
      ]
     },
     "metadata": {},
     "output_type": "display_data"
    },
    {
     "data": {
      "text/html": [
       "<span style=\"color: red;\">Lost 73.27 betting on Memphis vs Chicago at -205</span>"
      ],
      "text/plain": [
       "<IPython.core.display.HTML object>"
      ]
     },
     "metadata": {},
     "output_type": "display_data"
    },
    {
     "data": {
      "text/html": [
       "<span style=\"color: red;\">Lost 58.99 betting on Atlanta vs Washington at -305</span>"
      ],
      "text/plain": [
       "<IPython.core.display.HTML object>"
      ]
     },
     "metadata": {},
     "output_type": "display_data"
    },
    {
     "data": {
      "text/html": [
       "<span style=\"color: red;\">Lost 8.74 betting on New York vs Cleveland at -155</span>"
      ],
      "text/plain": [
       "<IPython.core.display.HTML object>"
      ]
     },
     "metadata": {},
     "output_type": "display_data"
    },
    {
     "data": {
      "text/html": [
       "<span style=\"color: green;\">Won 34.76 betting 125.15 on Denver vs Toronto at -360</span>"
      ],
      "text/plain": [
       "<IPython.core.display.HTML object>"
      ]
     },
     "metadata": {},
     "output_type": "display_data"
    },
    {
     "data": {
      "text/html": [
       "<span style=\"color: green;\">Won 34.42 betting 70.57 on Orlando vs Indiana at -205</span>"
      ],
      "text/plain": [
       "<IPython.core.display.HTML object>"
      ]
     },
     "metadata": {},
     "output_type": "display_data"
    },
    {
     "data": {
      "text/html": [
       "<span style=\"color: green;\">Won 41.71 betting 75.08 on Phoenix vs LA Lakers at -180</span>"
      ],
      "text/plain": [
       "<IPython.core.display.HTML object>"
      ]
     },
     "metadata": {},
     "output_type": "display_data"
    },
    {
     "data": {
      "text/html": [
       "<span style=\"color: green;\">Won 30.61 betting 104.08 on Miami vs Detroit at -340</span>"
      ],
      "text/plain": [
       "<IPython.core.display.HTML object>"
      ]
     },
     "metadata": {},
     "output_type": "display_data"
    },
    {
     "data": {
      "text/html": [
       "<span style=\"color: green;\">Won 29.6 betting 116.91 on Boston vs Milwaukee at -395</span>"
      ],
      "text/plain": [
       "<IPython.core.display.HTML object>"
      ]
     },
     "metadata": {},
     "output_type": "display_data"
    },
    {
     "name": "stdout",
     "output_type": "stream",
     "text": [
      "Results for 2024-10-28 00:00:00: Start Bankroll: 2247.01, End Bankroll: 2317.65, Profit: 70.64, Win Rate: 0.70\n",
      "\n",
      "Processing 2024-10-29 00:00:00...\n"
     ]
    },
    {
     "data": {
      "text/html": [
       "<span style=\"color: green;\">Won 64.34 betting 144.77 on Denver vs Brooklyn at -225</span>"
      ],
      "text/plain": [
       "<IPython.core.display.HTML object>"
      ]
     },
     "metadata": {},
     "output_type": "display_data"
    },
    {
     "data": {
      "text/html": [
       "<span style=\"color: green;\">Won 36.82 betting 94.99 on Sacramento vs Utah at -258</span>"
      ],
      "text/plain": [
       "<IPython.core.display.HTML object>"
      ]
     },
     "metadata": {},
     "output_type": "display_data"
    },
    {
     "data": {
      "text/html": [
       "<span style=\"color: green;\">Won 96.26 betting 87.51 on Golden State vs New Orleans at 110</span>"
      ],
      "text/plain": [
       "<IPython.core.display.HTML object>"
      ]
     },
     "metadata": {},
     "output_type": "display_data"
    },
    {
     "name": "stdout",
     "output_type": "stream",
     "text": [
      "Results for 2024-10-29 00:00:00: Start Bankroll: 2317.65, End Bankroll: 2515.07, Profit: 197.42, Win Rate: 1.00\n",
      "\n",
      "Processing 2024-10-30 00:00:00...\n"
     ]
    },
    {
     "data": {
      "text/html": [
       "<span style=\"color: red;\">Lost 66.12 betting on Orlando vs Chicago at -230</span>"
      ],
      "text/plain": [
       "<IPython.core.display.HTML object>"
      ]
     },
     "metadata": {},
     "output_type": "display_data"
    },
    {
     "data": {
      "text/html": [
       "<span style=\"color: red;\">Lost 108.08 betting on LA Clippers vs Portland at -345</span>"
      ],
      "text/plain": [
       "<IPython.core.display.HTML object>"
      ]
     },
     "metadata": {},
     "output_type": "display_data"
    },
    {
     "data": {
      "text/html": [
       "<span style=\"color: green;\">Won 21.52 betting 172.16 on Oklahoma City vs San Antonio at -800</span>"
      ],
      "text/plain": [
       "<IPython.core.display.HTML object>"
      ]
     },
     "metadata": {},
     "output_type": "display_data"
    },
    {
     "data": {
      "text/html": [
       "<span style=\"color: red;\">Lost 163.69 betting on Memphis vs Brooklyn at -700</span>"
      ],
      "text/plain": [
       "<IPython.core.display.HTML object>"
      ]
     },
     "metadata": {},
     "output_type": "display_data"
    },
    {
     "data": {
      "text/html": [
       "<span style=\"color: green;\">Won 37.95 betting 61.48 on Golden State vs New Orleans at -162</span>"
      ],
      "text/plain": [
       "<IPython.core.display.HTML object>"
      ]
     },
     "metadata": {},
     "output_type": "display_data"
    },
    {
     "data": {
      "text/html": [
       "<span style=\"color: red;\">Lost 25.27 betting on Miami vs New York at 105</span>"
      ],
      "text/plain": [
       "<IPython.core.display.HTML object>"
      ]
     },
     "metadata": {},
     "output_type": "display_data"
    },
    {
     "data": {
      "text/html": [
       "<span style=\"color: red;\">Lost 23.77 betting on Atlanta vs Washington at -218</span>"
      ],
      "text/plain": [
       "<IPython.core.display.HTML object>"
      ]
     },
     "metadata": {},
     "output_type": "display_data"
    },
    {
     "data": {
      "text/html": [
       "<span style=\"color: red;\">Lost 43.5 betting on Philadelphia vs Detroit at -180</span>"
      ],
      "text/plain": [
       "<IPython.core.display.HTML object>"
      ]
     },
     "metadata": {},
     "output_type": "display_data"
    },
    {
     "data": {
      "text/html": [
       "<span style=\"color: red;\">Lost 90.92 betting on Boston vs Indiana at -270</span>"
      ],
      "text/plain": [
       "<IPython.core.display.HTML object>"
      ]
     },
     "metadata": {},
     "output_type": "display_data"
    },
    {
     "data": {
      "text/html": [
       "<span style=\"color: green;\">Won 32.24 betting 79.0 on Charlotte vs Toronto at -245</span>"
      ],
      "text/plain": [
       "<IPython.core.display.HTML object>"
      ]
     },
     "metadata": {},
     "output_type": "display_data"
    },
    {
     "data": {
      "text/html": [
       "<span style=\"color: green;\">Won 51.71 betting 87.91 on Cleveland vs LA Lakers at -170</span>"
      ],
      "text/plain": [
       "<IPython.core.display.HTML object>"
      ]
     },
     "metadata": {},
     "output_type": "display_data"
    },
    {
     "name": "stdout",
     "output_type": "stream",
     "text": [
      "Results for 2024-10-30 00:00:00: Start Bankroll: 2515.07, End Bankroll: 2137.14, Profit: -377.93, Win Rate: 0.36\n",
      "\n",
      "Processing 2024-10-31 00:00:00...\n"
     ]
    },
    {
     "data": {
      "text/html": [
       "<span style=\"color: red;\">Lost 74.82 betting on Milwaukee vs Memphis at -245</span>"
      ],
      "text/plain": [
       "<IPython.core.display.HTML object>"
      ]
     },
     "metadata": {},
     "output_type": "display_data"
    },
    {
     "data": {
      "text/html": [
       "<span style=\"color: green;\">Won 9.52 betting 13.52 on San Antonio vs Utah at -142</span>"
      ],
      "text/plain": [
       "<IPython.core.display.HTML object>"
      ]
     },
     "metadata": {},
     "output_type": "display_data"
    },
    {
     "data": {
      "text/html": [
       "<span style=\"color: green;\">Won 43.19 betting 77.74 on Phoenix vs LA Clippers at -180</span>"
      ],
      "text/plain": [
       "<IPython.core.display.HTML object>"
      ]
     },
     "metadata": {},
     "output_type": "display_data"
    },
    {
     "data": {
      "text/html": [
       "<span style=\"color: red;\">Lost 61.94 betting on Dallas vs Houston at -258</span>"
      ],
      "text/plain": [
       "<IPython.core.display.HTML object>"
      ]
     },
     "metadata": {},
     "output_type": "display_data"
    },
    {
     "name": "stdout",
     "output_type": "stream",
     "text": [
      "Results for 2024-10-31 00:00:00: Start Bankroll: 2137.14, End Bankroll: 2053.09, Profit: -84.05, Win Rate: 0.50\n",
      "\n",
      "Processing 2024-11-01 00:00:00...\n"
     ]
    },
    {
     "data": {
      "text/html": [
       "<span style=\"color: green;\">Won 26.15 betting 163.43 on Oklahoma City vs Portland at -625</span>"
      ],
      "text/plain": [
       "<IPython.core.display.HTML object>"
      ]
     },
     "metadata": {},
     "output_type": "display_data"
    },
    {
     "data": {
      "text/html": [
       "<span style=\"color: green;\">Won 23.49 betting 125.66 on Boston vs Charlotte at -535</span>"
      ],
      "text/plain": [
       "<IPython.core.display.HTML object>"
      ]
     },
     "metadata": {},
     "output_type": "display_data"
    },
    {
     "data": {
      "text/html": [
       "<span style=\"color: red;\">Lost 33.93 betting on Denver vs Minnesota at 130</span>"
      ],
      "text/plain": [
       "<IPython.core.display.HTML object>"
      ]
     },
     "metadata": {},
     "output_type": "display_data"
    },
    {
     "data": {
      "text/html": [
       "<span style=\"color: red;\">Lost 30.89 betting on Indiana vs New Orleans at -180</span>"
      ],
      "text/plain": [
       "<IPython.core.display.HTML object>"
      ]
     },
     "metadata": {},
     "output_type": "display_data"
    },
    {
     "data": {
      "text/html": [
       "<span style=\"color: green;\">Won 32.8 betting 129.55 on LA Lakers vs Toronto at -395</span>"
      ],
      "text/plain": [
       "<IPython.core.display.HTML object>"
      ]
     },
     "metadata": {},
     "output_type": "display_data"
    },
    {
     "data": {
      "text/html": [
       "<span style=\"color: green;\">Won 52.01 betting 58.25 on Brooklyn vs Chicago at -112</span>"
      ],
      "text/plain": [
       "<IPython.core.display.HTML object>"
      ]
     },
     "metadata": {},
     "output_type": "display_data"
    },
    {
     "data": {
      "text/html": [
       "<span style=\"color: green;\">Won 34.84 betting 89.88 on New York vs Detroit at -258</span>"
      ],
      "text/plain": [
       "<IPython.core.display.HTML object>"
      ]
     },
     "metadata": {},
     "output_type": "display_data"
    },
    {
     "data": {
      "text/html": [
       "<span style=\"color: green;\">Won 25.09 betting 74.77 on Cleveland vs Orlando at -298</span>"
      ],
      "text/plain": [
       "<IPython.core.display.HTML object>"
      ]
     },
     "metadata": {},
     "output_type": "display_data"
    },
    {
     "data": {
      "text/html": [
       "<span style=\"color: green;\">Won 25.51 betting 58.68 on Sacramento vs Atlanta at -230</span>"
      ],
      "text/plain": [
       "<IPython.core.display.HTML object>"
      ]
     },
     "metadata": {},
     "output_type": "display_data"
    },
    {
     "name": "stdout",
     "output_type": "stream",
     "text": [
      "Results for 2024-11-01 00:00:00: Start Bankroll: 2053.09, End Bankroll: 2208.16, Profit: 155.07, Win Rate: 0.78\n",
      "\n",
      "Processing 2024-11-02 00:00:00...\n"
     ]
    },
    {
     "data": {
      "text/html": [
       "<span style=\"color: red;\">Lost 29.32 betting on Milwaukee vs Cleveland at -130</span>"
      ],
      "text/plain": [
       "<IPython.core.display.HTML object>"
      ]
     },
     "metadata": {},
     "output_type": "display_data"
    },
    {
     "data": {
      "text/html": [
       "<span style=\"color: green;\">Won 16.89 betting 151.98 on Phoenix vs Portland at -900</span>"
      ],
      "text/plain": [
       "<IPython.core.display.HTML object>"
      ]
     },
     "metadata": {},
     "output_type": "display_data"
    },
    {
     "data": {
      "text/html": [
       "<span style=\"color: green;\">Won 26.36 betting 158.15 on Denver vs Utah at -600</span>"
      ],
      "text/plain": [
       "<IPython.core.display.HTML object>"
      ]
     },
     "metadata": {},
     "output_type": "display_data"
    },
    {
     "data": {
      "text/html": [
       "<span style=\"color: green;\">Won 32.41 betting 147.47 on Miami vs Washington at -455</span>"
      ],
      "text/plain": [
       "<IPython.core.display.HTML object>"
      ]
     },
     "metadata": {},
     "output_type": "display_data"
    },
    {
     "data": {
      "text/html": [
       "<span style=\"color: red;\">Lost 28.27 betting on Minnesota vs San Antonio at -170</span>"
      ],
      "text/plain": [
       "<IPython.core.display.HTML object>"
      ]
     },
     "metadata": {},
     "output_type": "display_data"
    },
    {
     "data": {
      "text/html": [
       "<span style=\"color: green;\">Won 30.28 betting 68.14 on Oklahoma City vs LA Clippers at -225</span>"
      ],
      "text/plain": [
       "<IPython.core.display.HTML object>"
      ]
     },
     "metadata": {},
     "output_type": "display_data"
    },
    {
     "data": {
      "text/html": [
       "<span style=\"color: red;\">Lost 97.68 betting on Sacramento vs Toronto at -410</span>"
      ],
      "text/plain": [
       "<IPython.core.display.HTML object>"
      ]
     },
     "metadata": {},
     "output_type": "display_data"
    },
    {
     "data": {
      "text/html": [
       "<span style=\"color: green;\">Won 19.82 betting 99.12 on Boston vs Charlotte at -500</span>"
      ],
      "text/plain": [
       "<IPython.core.display.HTML object>"
      ]
     },
     "metadata": {},
     "output_type": "display_data"
    },
    {
     "name": "stdout",
     "output_type": "stream",
     "text": [
      "Results for 2024-11-02 00:00:00: Start Bankroll: 2208.16, End Bankroll: 2178.65, Profit: -29.51, Win Rate: 0.62\n",
      "\n",
      "Processing 2024-11-03 00:00:00...\n"
     ]
    },
    {
     "data": {
      "text/html": [
       "<span style=\"color: green;\">Won 47.1 betting 56.52 on Atlanta vs New Orleans at -120</span>"
      ],
      "text/plain": [
       "<IPython.core.display.HTML object>"
      ]
     },
     "metadata": {},
     "output_type": "display_data"
    },
    {
     "data": {
      "text/html": [
       "<span style=\"color: green;\">Won 27.85 betting 75.2 on Dallas vs Orlando at -270</span>"
      ],
      "text/plain": [
       "<IPython.core.display.HTML object>"
      ]
     },
     "metadata": {},
     "output_type": "display_data"
    },
    {
     "data": {
      "text/html": [
       "<span style=\"color: red;\">Lost 60.24 betting on Brooklyn vs Detroit at -155</span>"
      ],
      "text/plain": [
       "<IPython.core.display.HTML object>"
      ]
     },
     "metadata": {},
     "output_type": "display_data"
    },
    {
     "name": "stdout",
     "output_type": "stream",
     "text": [
      "Results for 2024-11-03 00:00:00: Start Bankroll: 2178.65, End Bankroll: 2193.36, Profit: 14.71, Win Rate: 0.67\n",
      "\n",
      "Processing 2024-11-04 00:00:00...\n"
     ]
    },
    {
     "data": {
      "text/html": [
       "<span style=\"color: green;\">Won 30.36 betting 166.97 on Denver vs Toronto at -550</span>"
      ],
      "text/plain": [
       "<IPython.core.display.HTML object>"
      ]
     },
     "metadata": {},
     "output_type": "display_data"
    },
    {
     "data": {
      "text/html": [
       "<span style=\"color: red;\">Lost 108.97 betting on Chicago vs Utah at -305</span>"
      ],
      "text/plain": [
       "<IPython.core.display.HTML object>"
      ]
     },
     "metadata": {},
     "output_type": "display_data"
    },
    {
     "data": {
      "text/html": [
       "<span style=\"color: green;\">Won 74.71 betting 130.75 on LA Clippers vs San Antonio at -175</span>"
      ],
      "text/plain": [
       "<IPython.core.display.HTML object>"
      ]
     },
     "metadata": {},
     "output_type": "display_data"
    },
    {
     "data": {
      "text/html": [
       "<span style=\"color: green;\">Won 30.58 betting 103.98 on Phoenix vs Philadelphia at -340</span>"
      ],
      "text/plain": [
       "<IPython.core.display.HTML object>"
      ]
     },
     "metadata": {},
     "output_type": "display_data"
    },
    {
     "data": {
      "text/html": [
       "<span style=\"color: red;\">Lost 6.0 betting on Dallas vs Indiana at -185</span>"
      ],
      "text/plain": [
       "<IPython.core.display.HTML object>"
      ]
     },
     "metadata": {},
     "output_type": "display_data"
    },
    {
     "data": {
      "text/html": [
       "<span style=\"color: green;\">Won 20.48 betting 20.08 on Sacramento vs Miami at 102</span>"
      ],
      "text/plain": [
       "<IPython.core.display.HTML object>"
      ]
     },
     "metadata": {},
     "output_type": "display_data"
    },
    {
     "data": {
      "text/html": [
       "<span style=\"color: red;\">Lost 5.07 betting on Memphis vs Brooklyn at -175</span>"
      ],
      "text/plain": [
       "<IPython.core.display.HTML object>"
      ]
     },
     "metadata": {},
     "output_type": "display_data"
    },
    {
     "data": {
      "text/html": [
       "<span style=\"color: green;\">Won 23.14 betting 120.31 on Boston vs Atlanta at -520</span>"
      ],
      "text/plain": [
       "<IPython.core.display.HTML object>"
      ]
     },
     "metadata": {},
     "output_type": "display_data"
    },
    {
     "data": {
      "text/html": [
       "<span style=\"color: green;\">Won 32.38 betting 34.0 on Portland vs New Orleans at -105</span>"
      ],
      "text/plain": [
       "<IPython.core.display.HTML object>"
      ]
     },
     "metadata": {},
     "output_type": "display_data"
    },
    {
     "data": {
      "text/html": [
       "<span style=\"color: red;\">Lost 84.37 betting on LA Lakers vs Detroit at -285</span>"
      ],
      "text/plain": [
       "<IPython.core.display.HTML object>"
      ]
     },
     "metadata": {},
     "output_type": "display_data"
    },
    {
     "data": {
      "text/html": [
       "<span style=\"color: green;\">Won 25.04 betting 90.13 on Cleveland vs Milwaukee at -360</span>"
      ],
      "text/plain": [
       "<IPython.core.display.HTML object>"
      ]
     },
     "metadata": {},
     "output_type": "display_data"
    },
    {
     "data": {
      "text/html": [
       "<span style=\"color: green;\">Won 12.42 betting 11.29 on Houston vs New York at 110</span>"
      ],
      "text/plain": [
       "<IPython.core.display.HTML object>"
      ]
     },
     "metadata": {},
     "output_type": "display_data"
    },
    {
     "data": {
      "text/html": [
       "<span style=\"color: green;\">Won 5.2 betting 42.14 on Minnesota vs Charlotte at -810</span>"
      ],
      "text/plain": [
       "<IPython.core.display.HTML object>"
      ]
     },
     "metadata": {},
     "output_type": "display_data"
    },
    {
     "data": {
      "text/html": [
       "<span style=\"color: green;\">Won 9.9 betting 84.15 on Oklahoma City vs Orlando at -850</span>"
      ],
      "text/plain": [
       "<IPython.core.display.HTML object>"
      ]
     },
     "metadata": {},
     "output_type": "display_data"
    },
    {
     "data": {
      "text/html": [
       "<span style=\"color: green;\">Won 14.33 betting 82.38 on Golden State vs Washington at -575</span>"
      ],
      "text/plain": [
       "<IPython.core.display.HTML object>"
      ]
     },
     "metadata": {},
     "output_type": "display_data"
    },
    {
     "name": "stdout",
     "output_type": "stream",
     "text": [
      "Results for 2024-11-04 00:00:00: Start Bankroll: 2193.36, End Bankroll: 2267.49, Profit: 74.13, Win Rate: 0.73\n",
      "\n",
      "Processing 2024-11-05 00:00:00...\n",
      "Processing 2024-11-06 00:00:00...\n"
     ]
    },
    {
     "data": {
      "text/html": [
       "<span style=\"color: green;\">Won 21.22 betting 26.53 on LA Clippers vs Philadelphia at -125</span>"
      ],
      "text/plain": [
       "<IPython.core.display.HTML object>"
      ]
     },
     "metadata": {},
     "output_type": "display_data"
    },
    {
     "data": {
      "text/html": [
       "<span style=\"color: green;\">Won 57.91 betting 118.71 on Phoenix vs Miami at -205</span>"
      ],
      "text/plain": [
       "<IPython.core.display.HTML object>"
      ]
     },
     "metadata": {},
     "output_type": "display_data"
    },
    {
     "data": {
      "text/html": [
       "<span style=\"color: red;\">Lost 95.26 betting on Oklahoma City vs Denver at -278</span>"
      ],
      "text/plain": [
       "<IPython.core.display.HTML object>"
      ]
     },
     "metadata": {},
     "output_type": "display_data"
    },
    {
     "data": {
      "text/html": [
       "<span style=\"color: green;\">Won 27.16 betting 141.24 on Dallas vs Chicago at -520</span>"
      ],
      "text/plain": [
       "<IPython.core.display.HTML object>"
      ]
     },
     "metadata": {},
     "output_type": "display_data"
    },
    {
     "data": {
      "text/html": [
       "<span style=\"color: green;\">Won 51.88 betting 52.92 on Charlotte vs Detroit at -102</span>"
      ],
      "text/plain": [
       "<IPython.core.display.HTML object>"
      ]
     },
     "metadata": {},
     "output_type": "display_data"
    },
    {
     "data": {
      "text/html": [
       "<span style=\"color: green;\">Won 26.75 betting 58.32 on Indiana vs Orlando at -218</span>"
      ],
      "text/plain": [
       "<IPython.core.display.HTML object>"
      ]
     },
     "metadata": {},
     "output_type": "display_data"
    },
    {
     "data": {
      "text/html": [
       "<span style=\"color: red;\">Lost 83.66 betting on New York vs Atlanta at -290</span>"
      ],
      "text/plain": [
       "<IPython.core.display.HTML object>"
      ]
     },
     "metadata": {},
     "output_type": "display_data"
    },
    {
     "data": {
      "text/html": [
       "<span style=\"color: red;\">Lost 83.43 betting on Boston vs Golden State at -270</span>"
      ],
      "text/plain": [
       "<IPython.core.display.HTML object>"
      ]
     },
     "metadata": {},
     "output_type": "display_data"
    },
    {
     "data": {
      "text/html": [
       "<span style=\"color: green;\">Won 31.89 betting 86.1 on Houston vs San Antonio at -270</span>"
      ],
      "text/plain": [
       "<IPython.core.display.HTML object>"
      ]
     },
     "metadata": {},
     "output_type": "display_data"
    },
    {
     "data": {
      "text/html": [
       "<span style=\"color: green;\">Won 16.77 betting 30.18 on Memphis vs LA Lakers at -180</span>"
      ],
      "text/plain": [
       "<IPython.core.display.HTML object>"
      ]
     },
     "metadata": {},
     "output_type": "display_data"
    },
    {
     "data": {
      "text/html": [
       "<span style=\"color: green;\">Won 35.55 betting 91.71 on Cleveland vs New Orleans at -258</span>"
      ],
      "text/plain": [
       "<IPython.core.display.HTML object>"
      ]
     },
     "metadata": {},
     "output_type": "display_data"
    },
    {
     "data": {
      "text/html": [
       "<span style=\"color: green;\">Won 13.53 betting 91.35 on Sacramento vs Toronto at -675</span>"
      ],
      "text/plain": [
       "<IPython.core.display.HTML object>"
      ]
     },
     "metadata": {},
     "output_type": "display_data"
    },
    {
     "name": "stdout",
     "output_type": "stream",
     "text": [
      "Results for 2024-11-06 00:00:00: Start Bankroll: 2267.49, End Bankroll: 2287.8, Profit: 20.31, Win Rate: 0.75\n",
      "\n"
     ]
    },
    {
     "data": {
      "image/png": "[encoded data removed]",
      "text/plain": [
       "<Figure size 640x480 with 1 Axes>"
      ]
     },
     "metadata": {},
     "output_type": "display_data"
    },
    {
     "name": "stdout",
     "output_type": "stream",
     "text": [
      "Final Bankroll: 2287.8\n",
      "Total Profit: -212.19999999999982\n"
     ]
    }
   ],
   "source": [
    "# Example usage with defined constants\n",
    "final_bankroll, total_profit, bet_results = backtest_model(\n",
    "    df=df,\n",
    "    model=ml_model,\n",
    "    feature_cols=df.drop(drop_cols, axis=1).columns,  # Feature columns\n",
    "    label_col='ml_result',\n",
    "    odds_col='MONEYLINE',\n",
    "    start_date='2024-10-22',\n",
    "    end_date='2024-11-06',\n",
    "    initial_bankroll=2500,\n",
    "    bet_size=2\n",
    ")\n",
    "\n",
    "# Plotting the results\n",
    "plt.plot(bet_results)\n",
    "plt.title('Bankroll Over Time')\n",
    "plt.xlabel('Days')\n",
    "plt.ylabel('Bankroll')\n",
    "plt.show()\n",
    "\n",
    "print(f\"Final Bankroll: {final_bankroll}\")\n",
    "print(f\"Total Profit: {total_profit}\")"
   ]
  },
  {
   "cell_type": "markdown",
   "metadata": {},
   "source": [
    "#### total"
   ]
  },
  {
   "cell_type": "code",
   "execution_count": 33,
   "metadata": {},
   "outputs": [
    {
     "name": "stdout",
     "output_type": "stream",
     "text": [
      "Processing 2024-10-22 00:00:00...\n"
     ]
    },
    {
     "data": {
      "text/html": [
       "<span style=\"color: green;\">Won 195.48 betting 215.03 on Boston vs New York at -110</span>"
      ],
      "text/plain": [
       "<IPython.core.display.HTML object>"
      ]
     },
     "metadata": {},
     "output_type": "display_data"
    },
    {
     "name": "stdout",
     "output_type": "stream",
     "text": [
      "Results for 2024-10-22 00:00:00: Start Bankroll: 2500, End Bankroll: 2695.48, Profit: 195.48, Win Rate: 1.00\n",
      "\n",
      "Processing 2024-10-23 00:00:00...\n"
     ]
    },
    {
     "data": {
      "text/html": [
       "<span style=\"color: green;\">Won 177.52 betting 195.27 on Atlanta vs Brooklyn at -110</span>"
      ],
      "text/plain": [
       "<IPython.core.display.HTML object>"
      ]
     },
     "metadata": {},
     "output_type": "display_data"
    },
    {
     "data": {
      "text/html": [
       "<span style=\"color: green;\">Won 151.55 betting 166.7 on Cleveland vs Toronto at -110</span>"
      ],
      "text/plain": [
       "<IPython.core.display.HTML object>"
      ]
     },
     "metadata": {},
     "output_type": "display_data"
    },
    {
     "data": {
      "text/html": [
       "<span style=\"color: green;\">Won 131.88 betting 145.07 on Milwaukee vs Philadelphia at -110</span>"
      ],
      "text/plain": [
       "<IPython.core.display.HTML object>"
      ]
     },
     "metadata": {},
     "output_type": "display_data"
    },
    {
     "data": {
      "text/html": [
       "<span style=\"color: red;\">Lost 99.43 betting on Indiana vs Detroit at -110</span>"
      ],
      "text/plain": [
       "<IPython.core.display.HTML object>"
      ]
     },
     "metadata": {},
     "output_type": "display_data"
    },
    {
     "data": {
      "text/html": [
       "<span style=\"color: green;\">Won 142.52 betting 156.77 on Golden State vs Portland at -110</span>"
      ],
      "text/plain": [
       "<IPython.core.display.HTML object>"
      ]
     },
     "metadata": {},
     "output_type": "display_data"
    },
    {
     "data": {
      "text/html": [
       "<span style=\"color: green;\">Won 106.53 betting 117.18 on Phoenix vs LA Clippers at -110</span>"
      ],
      "text/plain": [
       "<IPython.core.display.HTML object>"
      ]
     },
     "metadata": {},
     "output_type": "display_data"
    },
    {
     "data": {
      "text/html": [
       "<span style=\"color: green;\">Won 44.39 betting 48.83 on Memphis vs Utah at -110</span>"
      ],
      "text/plain": [
       "<IPython.core.display.HTML object>"
      ]
     },
     "metadata": {},
     "output_type": "display_data"
    },
    {
     "data": {
      "text/html": [
       "<span style=\"color: green;\">Won 51.39 betting 56.53 on New Orleans vs Chicago at -110</span>"
      ],
      "text/plain": [
       "<IPython.core.display.HTML object>"
      ]
     },
     "metadata": {},
     "output_type": "display_data"
    },
    {
     "data": {
      "text/html": [
       "<span style=\"color: red;\">Lost 130.43 betting on Houston vs Charlotte at -110</span>"
      ],
      "text/plain": [
       "<IPython.core.display.HTML object>"
      ]
     },
     "metadata": {},
     "output_type": "display_data"
    },
    {
     "name": "stdout",
     "output_type": "stream",
     "text": [
      "Results for 2024-10-23 00:00:00: Start Bankroll: 2695.48, End Bankroll: 3271.4, Profit: 575.92, Win Rate: 0.78\n",
      "\n",
      "Processing 2024-10-24 00:00:00...\n"
     ]
    },
    {
     "data": {
      "text/html": [
       "<span style=\"color: green;\">Won 15.45 betting 16.99 on Minnesota vs Sacramento at -110</span>"
      ],
      "text/plain": [
       "<IPython.core.display.HTML object>"
      ]
     },
     "metadata": {},
     "output_type": "display_data"
    },
    {
     "data": {
      "text/html": [
       "<span style=\"color: red;\">Lost 18.65 betting on Denver vs Oklahoma City at -110</span>"
      ],
      "text/plain": [
       "<IPython.core.display.HTML object>"
      ]
     },
     "metadata": {},
     "output_type": "display_data"
    },
    {
     "data": {
      "text/html": [
       "<span style=\"color: green;\">Won 267.0 betting 293.7 on Dallas vs San Antonio at -110</span>"
      ],
      "text/plain": [
       "<IPython.core.display.HTML object>"
      ]
     },
     "metadata": {},
     "output_type": "display_data"
    },
    {
     "data": {
      "text/html": [
       "<span style=\"color: red;\">Lost 281.3 betting on Boston vs Washington at -110</span>"
      ],
      "text/plain": [
       "<IPython.core.display.HTML object>"
      ]
     },
     "metadata": {},
     "output_type": "display_data"
    },
    {
     "name": "stdout",
     "output_type": "stream",
     "text": [
      "Results for 2024-10-24 00:00:00: Start Bankroll: 3271.4, End Bankroll: 3253.9, Profit: -17.5, Win Rate: 0.50\n",
      "\n",
      "Processing 2024-10-25 00:00:00...\n"
     ]
    },
    {
     "data": {
      "text/html": [
       "<span style=\"color: red;\">Lost 272.76 betting on New Orleans vs Portland at -110</span>"
      ],
      "text/plain": [
       "<IPython.core.display.HTML object>"
      ]
     },
     "metadata": {},
     "output_type": "display_data"
    },
    {
     "data": {
      "text/html": [
       "<span style=\"color: green;\">Won 29.41 betting 32.35 on Phoenix vs LA Lakers at -110</span>"
      ],
      "text/plain": [
       "<IPython.core.display.HTML object>"
      ]
     },
     "metadata": {},
     "output_type": "display_data"
    },
    {
     "data": {
      "text/html": [
       "<span style=\"color: red;\">Lost 173.63 betting on Golden State vs Utah at -110</span>"
      ],
      "text/plain": [
       "<IPython.core.display.HTML object>"
      ]
     },
     "metadata": {},
     "output_type": "display_data"
    },
    {
     "data": {
      "text/html": [
       "<span style=\"color: green;\">Won 214.51 betting 235.96 on Milwaukee vs Chicago at -110</span>"
      ],
      "text/plain": [
       "<IPython.core.display.HTML object>"
      ]
     },
     "metadata": {},
     "output_type": "display_data"
    },
    {
     "data": {
      "text/html": [
       "<span style=\"color: green;\">Won 18.05 betting 19.86 on Houston vs Memphis at -110</span>"
      ],
      "text/plain": [
       "<IPython.core.display.HTML object>"
      ]
     },
     "metadata": {},
     "output_type": "display_data"
    },
    {
     "data": {
      "text/html": [
       "<span style=\"color: green;\">Won 82.07 betting 90.28 on Philadelphia vs Toronto at -110</span>"
      ],
      "text/plain": [
       "<IPython.core.display.HTML object>"
      ]
     },
     "metadata": {},
     "output_type": "display_data"
    },
    {
     "data": {
      "text/html": [
       "<span style=\"color: red;\">Lost 224.73 betting on Cleveland vs Detroit at -110</span>"
      ],
      "text/plain": [
       "<IPython.core.display.HTML object>"
      ]
     },
     "metadata": {},
     "output_type": "display_data"
    },
    {
     "data": {
      "text/html": [
       "<span style=\"color: green;\">Won 49.8 betting 54.78 on Atlanta vs Charlotte at -110</span>"
      ],
      "text/plain": [
       "<IPython.core.display.HTML object>"
      ]
     },
     "metadata": {},
     "output_type": "display_data"
    },
    {
     "data": {
      "text/html": [
       "<span style=\"color: green;\">Won 178.76 betting 196.64 on Orlando vs Brooklyn at -110</span>"
      ],
      "text/plain": [
       "<IPython.core.display.HTML object>"
      ]
     },
     "metadata": {},
     "output_type": "display_data"
    },
    {
     "data": {
      "text/html": [
       "<span style=\"color: red;\">Lost 91.12 betting on New York vs Indiana at -110</span>"
      ],
      "text/plain": [
       "<IPython.core.display.HTML object>"
      ]
     },
     "metadata": {},
     "output_type": "display_data"
    },
    {
     "name": "stdout",
     "output_type": "stream",
     "text": [
      "Results for 2024-10-25 00:00:00: Start Bankroll: 3253.9, End Bankroll: 3064.26, Profit: -189.64, Win Rate: 0.60\n",
      "\n",
      "Processing 2024-10-26 00:00:00...\n"
     ]
    },
    {
     "data": {
      "text/html": [
       "<span style=\"color: red;\">Lost 272.63 betting on Denver vs LA Clippers at -110</span>"
      ],
      "text/plain": [
       "<IPython.core.display.HTML object>"
      ]
     },
     "metadata": {},
     "output_type": "display_data"
    },
    {
     "data": {
      "text/html": [
       "<span style=\"color: green;\">Won 239.52 betting 263.47 on Boston vs Detroit at -110</span>"
      ],
      "text/plain": [
       "<IPython.core.display.HTML object>"
      ]
     },
     "metadata": {},
     "output_type": "display_data"
    },
    {
     "data": {
      "text/html": [
       "<span style=\"color: red;\">Lost 157.0 betting on Miami vs Charlotte at -110</span>"
      ],
      "text/plain": [
       "<IPython.core.display.HTML object>"
      ]
     },
     "metadata": {},
     "output_type": "display_data"
    },
    {
     "data": {
      "text/html": [
       "<span style=\"color: green;\">Won 29.5 betting 32.45 on Sacramento vs LA Lakers at -110</span>"
      ],
      "text/plain": [
       "<IPython.core.display.HTML object>"
      ]
     },
     "metadata": {},
     "output_type": "display_data"
    },
    {
     "data": {
      "text/html": [
       "<span style=\"color: red;\">Lost 52.27 betting on Dallas vs Phoenix at -110</span>"
      ],
      "text/plain": [
       "<IPython.core.display.HTML object>"
      ]
     },
     "metadata": {},
     "output_type": "display_data"
    },
    {
     "data": {
      "text/html": [
       "<span style=\"color: red;\">Lost 25.58 betting on San Antonio vs Houston at -110</span>"
      ],
      "text/plain": [
       "<IPython.core.display.HTML object>"
      ]
     },
     "metadata": {},
     "output_type": "display_data"
    },
    {
     "data": {
      "text/html": [
       "<span style=\"color: red;\">Lost 209.88 betting on Minnesota vs Toronto at -110</span>"
      ],
      "text/plain": [
       "<IPython.core.display.HTML object>"
      ]
     },
     "metadata": {},
     "output_type": "display_data"
    },
    {
     "data": {
      "text/html": [
       "<span style=\"color: green;\">Won 36.56 betting 40.22 on Memphis vs Orlando at -110</span>"
      ],
      "text/plain": [
       "<IPython.core.display.HTML object>"
      ]
     },
     "metadata": {},
     "output_type": "display_data"
    },
    {
     "data": {
      "text/html": [
       "<span style=\"color: red;\">Lost 183.87 betting on Oklahoma City vs Chicago at -110</span>"
      ],
      "text/plain": [
       "<IPython.core.display.HTML object>"
      ]
     },
     "metadata": {},
     "output_type": "display_data"
    },
    {
     "data": {
      "text/html": [
       "<span style=\"color: green;\">Won 153.65 betting 169.02 on Cleveland vs Washington at -110</span>"
      ],
      "text/plain": [
       "<IPython.core.display.HTML object>"
      ]
     },
     "metadata": {},
     "output_type": "display_data"
    },
    {
     "name": "stdout",
     "output_type": "stream",
     "text": [
      "Results for 2024-10-26 00:00:00: Start Bankroll: 3064.26, End Bankroll: 2622.26, Profit: -442.0, Win Rate: 0.40\n",
      "\n",
      "Processing 2024-10-27 00:00:00...\n"
     ]
    },
    {
     "data": {
      "text/html": [
       "<span style=\"color: green;\">Won 211.95 betting 233.15 on Oklahoma City vs Atlanta at -110</span>"
      ],
      "text/plain": [
       "<IPython.core.display.HTML object>"
      ]
     },
     "metadata": {},
     "output_type": "display_data"
    },
    {
     "data": {
      "text/html": [
       "<span style=\"color: red;\">Lost 187.25 betting on Golden State vs LA Clippers at -110</span>"
      ],
      "text/plain": [
       "<IPython.core.display.HTML object>"
      ]
     },
     "metadata": {},
     "output_type": "display_data"
    },
    {
     "data": {
      "text/html": [
       "<span style=\"color: green;\">Won 152.12 betting 167.33 on New Orleans vs Portland at -110</span>"
      ],
      "text/plain": [
       "<IPython.core.display.HTML object>"
      ]
     },
     "metadata": {},
     "output_type": "display_data"
    },
    {
     "data": {
      "text/html": [
       "<span style=\"color: red;\">Lost 179.74 betting on Milwaukee vs Brooklyn at -110</span>"
      ],
      "text/plain": [
       "<IPython.core.display.HTML object>"
      ]
     },
     "metadata": {},
     "output_type": "display_data"
    },
    {
     "data": {
      "text/html": [
       "<span style=\"color: green;\">Won 138.68 betting 152.55 on Indiana vs Philadelphia at -110</span>"
      ],
      "text/plain": [
       "<IPython.core.display.HTML object>"
      ]
     },
     "metadata": {},
     "output_type": "display_data"
    },
    {
     "name": "stdout",
     "output_type": "stream",
     "text": [
      "Results for 2024-10-27 00:00:00: Start Bankroll: 2622.26, End Bankroll: 2758.02, Profit: 135.76, Win Rate: 0.60\n",
      "\n",
      "Processing 2024-10-28 00:00:00...\n"
     ]
    },
    {
     "data": {
      "text/html": [
       "<span style=\"color: red;\">Lost 255.88 betting on Sacramento vs Portland at -110</span>"
      ],
      "text/plain": [
       "<IPython.core.display.HTML object>"
      ]
     },
     "metadata": {},
     "output_type": "display_data"
    },
    {
     "data": {
      "text/html": [
       "<span style=\"color: red;\">Lost 227.12 betting on Dallas vs Utah at -110</span>"
      ],
      "text/plain": [
       "<IPython.core.display.HTML object>"
      ]
     },
     "metadata": {},
     "output_type": "display_data"
    },
    {
     "data": {
      "text/html": [
       "<span style=\"color: red;\">Lost 31.55 betting on Houston vs San Antonio at -110</span>"
      ],
      "text/plain": [
       "<IPython.core.display.HTML object>"
      ]
     },
     "metadata": {},
     "output_type": "display_data"
    },
    {
     "data": {
      "text/html": [
       "<span style=\"color: green;\">Won 116.22 betting 127.84 on Memphis vs Chicago at -110</span>"
      ],
      "text/plain": [
       "<IPython.core.display.HTML object>"
      ]
     },
     "metadata": {},
     "output_type": "display_data"
    },
    {
     "data": {
      "text/html": [
       "<span style=\"color: green;\">Won 123.91 betting 136.3 on Atlanta vs Washington at -110</span>"
      ],
      "text/plain": [
       "<IPython.core.display.HTML object>"
      ]
     },
     "metadata": {},
     "output_type": "display_data"
    },
    {
     "data": {
      "text/html": [
       "<span style=\"color: red;\">Lost 42.76 betting on New York vs Cleveland at -110</span>"
      ],
      "text/plain": [
       "<IPython.core.display.HTML object>"
      ]
     },
     "metadata": {},
     "output_type": "display_data"
    },
    {
     "data": {
      "text/html": [
       "<span style=\"color: green;\">Won 151.2 betting 166.32 on Denver vs Toronto at -110</span>"
      ],
      "text/plain": [
       "<IPython.core.display.HTML object>"
      ]
     },
     "metadata": {},
     "output_type": "display_data"
    },
    {
     "data": {
      "text/html": [
       "<span style=\"color: green;\">Won 96.49 betting 106.14 on Orlando vs Indiana at -110</span>"
      ],
      "text/plain": [
       "<IPython.core.display.HTML object>"
      ]
     },
     "metadata": {},
     "output_type": "display_data"
    },
    {
     "data": {
      "text/html": [
       "<span style=\"color: red;\">Lost 99.59 betting on Phoenix vs LA Lakers at -110</span>"
      ],
      "text/plain": [
       "<IPython.core.display.HTML object>"
      ]
     },
     "metadata": {},
     "output_type": "display_data"
    },
    {
     "data": {
      "text/html": [
       "<span style=\"color: red;\">Lost 132.22 betting on Miami vs Detroit at -110</span>"
      ],
      "text/plain": [
       "<IPython.core.display.HTML object>"
      ]
     },
     "metadata": {},
     "output_type": "display_data"
    },
    {
     "data": {
      "text/html": [
       "<span style=\"color: red;\">Lost 131.91 betting on Boston vs Milwaukee at -110</span>"
      ],
      "text/plain": [
       "<IPython.core.display.HTML object>"
      ]
     },
     "metadata": {},
     "output_type": "display_data"
    },
    {
     "name": "stdout",
     "output_type": "stream",
     "text": [
      "Results for 2024-10-28 00:00:00: Start Bankroll: 2758.02, End Bankroll: 2324.81, Profit: -433.21, Win Rate: 0.36\n",
      "\n",
      "Processing 2024-10-29 00:00:00...\n"
     ]
    },
    {
     "data": {
      "text/html": [
       "<span style=\"color: green;\">Won 160.08 betting 176.09 on Denver vs Brooklyn at -110</span>"
      ],
      "text/plain": [
       "<IPython.core.display.HTML object>"
      ]
     },
     "metadata": {},
     "output_type": "display_data"
    },
    {
     "data": {
      "text/html": [
       "<span style=\"color: green;\">Won 11.41 betting 12.55 on Minnesota vs Dallas at -110</span>"
      ],
      "text/plain": [
       "<IPython.core.display.HTML object>"
      ]
     },
     "metadata": {},
     "output_type": "display_data"
    },
    {
     "data": {
      "text/html": [
       "<span style=\"color: red;\">Lost 143.09 betting on Sacramento vs Utah at -110</span>"
      ],
      "text/plain": [
       "<IPython.core.display.HTML object>"
      ]
     },
     "metadata": {},
     "output_type": "display_data"
    },
    {
     "data": {
      "text/html": [
       "<span style=\"color: green;\">Won 65.82 betting 72.4 on Golden State vs New Orleans at -110</span>"
      ],
      "text/plain": [
       "<IPython.core.display.HTML object>"
      ]
     },
     "metadata": {},
     "output_type": "display_data"
    },
    {
     "name": "stdout",
     "output_type": "stream",
     "text": [
      "Results for 2024-10-29 00:00:00: Start Bankroll: 2324.81, End Bankroll: 2419.03, Profit: 94.22, Win Rate: 0.75\n",
      "\n",
      "Processing 2024-10-30 00:00:00...\n"
     ]
    },
    {
     "data": {
      "text/html": [
       "<span style=\"color: red;\">Lost 128.43 betting on Orlando vs Chicago at -110</span>"
      ],
      "text/plain": [
       "<IPython.core.display.HTML object>"
      ]
     },
     "metadata": {},
     "output_type": "display_data"
    },
    {
     "data": {
      "text/html": [
       "<span style=\"color: red;\">Lost 168.67 betting on LA Clippers vs Portland at -110</span>"
      ],
      "text/plain": [
       "<IPython.core.display.HTML object>"
      ]
     },
     "metadata": {},
     "output_type": "display_data"
    },
    {
     "data": {
      "text/html": [
       "<span style=\"color: red;\">Lost 199.09 betting on Oklahoma City vs San Antonio at -110</span>"
      ],
      "text/plain": [
       "<IPython.core.display.HTML object>"
      ]
     },
     "metadata": {},
     "output_type": "display_data"
    },
    {
     "data": {
      "text/html": [
       "<span style=\"color: red;\">Lost 179.91 betting on Memphis vs Brooklyn at -110</span>"
      ],
      "text/plain": [
       "<IPython.core.display.HTML object>"
      ]
     },
     "metadata": {},
     "output_type": "display_data"
    },
    {
     "data": {
      "text/html": [
       "<span style=\"color: red;\">Lost 77.43 betting on Golden State vs New Orleans at -110</span>"
      ],
      "text/plain": [
       "<IPython.core.display.HTML object>"
      ]
     },
     "metadata": {},
     "output_type": "display_data"
    },
    {
     "data": {
      "text/html": [
       "<span style=\"color: green;\">Won 9.73 betting 10.7 on Miami vs New York at -110</span>"
      ],
      "text/plain": [
       "<IPython.core.display.HTML object>"
      ]
     },
     "metadata": {},
     "output_type": "display_data"
    },
    {
     "data": {
      "text/html": [
       "<span style=\"color: green;\">Won 63.4 betting 69.74 on Atlanta vs Washington at -110</span>"
      ],
      "text/plain": [
       "<IPython.core.display.HTML object>"
      ]
     },
     "metadata": {},
     "output_type": "display_data"
    },
    {
     "data": {
      "text/html": [
       "<span style=\"color: red;\">Lost 66.92 betting on Philadelphia vs Detroit at -110</span>"
      ],
      "text/plain": [
       "<IPython.core.display.HTML object>"
      ]
     },
     "metadata": {},
     "output_type": "display_data"
    },
    {
     "data": {
      "text/html": [
       "<span style=\"color: green;\">Won 98.15 betting 107.97 on Boston vs Indiana at -110</span>"
      ],
      "text/plain": [
       "<IPython.core.display.HTML object>"
      ]
     },
     "metadata": {},
     "output_type": "display_data"
    },
    {
     "data": {
      "text/html": [
       "<span style=\"color: green;\">Won 85.19 betting 93.71 on Charlotte vs Toronto at -110</span>"
      ],
      "text/plain": [
       "<IPython.core.display.HTML object>"
      ]
     },
     "metadata": {},
     "output_type": "display_data"
    },
    {
     "data": {
      "text/html": [
       "<span style=\"color: green;\">Won 75.27 betting 82.8 on Cleveland vs LA Lakers at -110</span>"
      ],
      "text/plain": [
       "<IPython.core.display.HTML object>"
      ]
     },
     "metadata": {},
     "output_type": "display_data"
    },
    {
     "name": "stdout",
     "output_type": "stream",
     "text": [
      "Results for 2024-10-30 00:00:00: Start Bankroll: 2419.03, End Bankroll: 1930.32, Profit: -488.71, Win Rate: 0.45\n",
      "\n",
      "Processing 2024-10-31 00:00:00...\n"
     ]
    },
    {
     "data": {
      "text/html": [
       "<span style=\"color: red;\">Lost 116.67 betting on Milwaukee vs Memphis at -110</span>"
      ],
      "text/plain": [
       "<IPython.core.display.HTML object>"
      ]
     },
     "metadata": {},
     "output_type": "display_data"
    },
    {
     "data": {
      "text/html": [
       "<span style=\"color: red;\">Lost 34.3 betting on San Antonio vs Utah at -110</span>"
      ],
      "text/plain": [
       "<IPython.core.display.HTML object>"
      ]
     },
     "metadata": {},
     "output_type": "display_data"
    },
    {
     "data": {
      "text/html": [
       "<span style=\"color: green;\">Won 86.47 betting 95.12 on Phoenix vs LA Clippers at -110</span>"
      ],
      "text/plain": [
       "<IPython.core.display.HTML object>"
      ]
     },
     "metadata": {},
     "output_type": "display_data"
    },
    {
     "data": {
      "text/html": [
       "<span style=\"color: red;\">Lost 100.67 betting on Dallas vs Houston at -110</span>"
      ],
      "text/plain": [
       "<IPython.core.display.HTML object>"
      ]
     },
     "metadata": {},
     "output_type": "display_data"
    },
    {
     "name": "stdout",
     "output_type": "stream",
     "text": [
      "Results for 2024-10-31 00:00:00: Start Bankroll: 1930.32, End Bankroll: 1765.15, Profit: -165.17, Win Rate: 0.25\n",
      "\n",
      "Processing 2024-11-01 00:00:00...\n"
     ]
    },
    {
     "data": {
      "text/html": [
       "<span style=\"color: green;\">Won 150.99 betting 166.09 on Oklahoma City vs Portland at -110</span>"
      ],
      "text/plain": [
       "<IPython.core.display.HTML object>"
      ]
     },
     "metadata": {},
     "output_type": "display_data"
    },
    {
     "data": {
      "text/html": [
       "<span style=\"color: red;\">Lost 142.19 betting on Boston vs Charlotte at -110</span>"
      ],
      "text/plain": [
       "<IPython.core.display.HTML object>"
      ]
     },
     "metadata": {},
     "output_type": "display_data"
    },
    {
     "data": {
      "text/html": [
       "<span style=\"color: green;\">Won 5.48 betting 6.03 on Denver vs Minnesota at -110</span>"
      ],
      "text/plain": [
       "<IPython.core.display.HTML object>"
      ]
     },
     "metadata": {},
     "output_type": "display_data"
    },
    {
     "data": {
      "text/html": [
       "<span style=\"color: green;\">Won 50.64 betting 55.7 on Indiana vs New Orleans at -110</span>"
      ],
      "text/plain": [
       "<IPython.core.display.HTML object>"
      ]
     },
     "metadata": {},
     "output_type": "display_data"
    },
    {
     "data": {
      "text/html": [
       "<span style=\"color: green;\">Won 114.05 betting 125.45 on LA Lakers vs Toronto at -110</span>"
      ],
      "text/plain": [
       "<IPython.core.display.HTML object>"
      ]
     },
     "metadata": {},
     "output_type": "display_data"
    },
    {
     "data": {
      "text/html": [
       "<span style=\"color: green;\">Won 43.53 betting 47.88 on Brooklyn vs Chicago at -110</span>"
      ],
      "text/plain": [
       "<IPython.core.display.HTML object>"
      ]
     },
     "metadata": {},
     "output_type": "display_data"
    },
    {
     "data": {
      "text/html": [
       "<span style=\"color: green;\">Won 84.66 betting 93.13 on New York vs Detroit at -110</span>"
      ],
      "text/plain": [
       "<IPython.core.display.HTML object>"
      ]
     },
     "metadata": {},
     "output_type": "display_data"
    },
    {
     "data": {
      "text/html": [
       "<span style=\"color: green;\">Won 76.95 betting 84.64 on Cleveland vs Orlando at -110</span>"
      ],
      "text/plain": [
       "<IPython.core.display.HTML object>"
      ]
     },
     "metadata": {},
     "output_type": "display_data"
    },
    {
     "data": {
      "text/html": [
       "<span style=\"color: green;\">Won 60.84 betting 66.92 on Sacramento vs Atlanta at -110</span>"
      ],
      "text/plain": [
       "<IPython.core.display.HTML object>"
      ]
     },
     "metadata": {},
     "output_type": "display_data"
    },
    {
     "name": "stdout",
     "output_type": "stream",
     "text": [
      "Results for 2024-11-01 00:00:00: Start Bankroll: 1765.15, End Bankroll: 2210.1, Profit: 444.95, Win Rate: 0.89\n",
      "\n",
      "Processing 2024-11-02 00:00:00...\n"
     ]
    },
    {
     "data": {
      "text/html": [
       "<span style=\"color: red;\">Lost 46.01 betting on Milwaukee vs Cleveland at -110</span>"
      ],
      "text/plain": [
       "<IPython.core.display.HTML object>"
      ]
     },
     "metadata": {},
     "output_type": "display_data"
    },
    {
     "data": {
      "text/html": [
       "<span style=\"color: red;\">Lost 202.66 betting on Phoenix vs Portland at -110</span>"
      ],
      "text/plain": [
       "<IPython.core.display.HTML object>"
      ]
     },
     "metadata": {},
     "output_type": "display_data"
    },
    {
     "data": {
      "text/html": [
       "<span style=\"color: green;\">Won 166.55 betting 183.21 on Denver vs Utah at -110</span>"
      ],
      "text/plain": [
       "<IPython.core.display.HTML object>"
      ]
     },
     "metadata": {},
     "output_type": "display_data"
    },
    {
     "data": {
      "text/html": [
       "<span style=\"color: red;\">Lost 163.64 betting on Miami vs Washington at -110</span>"
      ],
      "text/plain": [
       "<IPython.core.display.HTML object>"
      ]
     },
     "metadata": {},
     "output_type": "display_data"
    },
    {
     "data": {
      "text/html": [
       "<span style=\"color: green;\">Won 51.37 betting 56.51 on Minnesota vs San Antonio at -110</span>"
      ],
      "text/plain": [
       "<IPython.core.display.HTML object>"
      ]
     },
     "metadata": {},
     "output_type": "display_data"
    },
    {
     "data": {
      "text/html": [
       "<span style=\"color: red;\">Lost 95.65 betting on Oklahoma City vs LA Clippers at -110</span>"
      ],
      "text/plain": [
       "<IPython.core.display.HTML object>"
      ]
     },
     "metadata": {},
     "output_type": "display_data"
    },
    {
     "data": {
      "text/html": [
       "<span style=\"color: green;\">Won 37.1 betting 40.81 on Houston vs Golden State at -110</span>"
      ],
      "text/plain": [
       "<IPython.core.display.HTML object>"
      ]
     },
     "metadata": {},
     "output_type": "display_data"
    },
    {
     "data": {
      "text/html": [
       "<span style=\"color: green;\">Won 108.02 betting 118.82 on Sacramento vs Toronto at -110</span>"
      ],
      "text/plain": [
       "<IPython.core.display.HTML object>"
      ]
     },
     "metadata": {},
     "output_type": "display_data"
    },
    {
     "data": {
      "text/html": [
       "<span style=\"color: green;\">Won 0.58 betting 0.64 on Memphis vs Philadelphia at -110</span>"
      ],
      "text/plain": [
       "<IPython.core.display.HTML object>"
      ]
     },
     "metadata": {},
     "output_type": "display_data"
    },
    {
     "data": {
      "text/html": [
       "<span style=\"color: red;\">Lost 114.22 betting on Boston vs Charlotte at -110</span>"
      ],
      "text/plain": [
       "<IPython.core.display.HTML object>"
      ]
     },
     "metadata": {},
     "output_type": "display_data"
    },
    {
     "name": "stdout",
     "output_type": "stream",
     "text": [
      "Results for 2024-11-02 00:00:00: Start Bankroll: 2210.1, End Bankroll: 1951.54, Profit: -258.56, Win Rate: 0.50\n",
      "\n",
      "Processing 2024-11-03 00:00:00...\n"
     ]
    },
    {
     "data": {
      "text/html": [
       "<span style=\"color: green;\">Won 51.99 betting 57.19 on Atlanta vs New Orleans at -110</span>"
      ],
      "text/plain": [
       "<IPython.core.display.HTML object>"
      ]
     },
     "metadata": {},
     "output_type": "display_data"
    },
    {
     "data": {
      "text/html": [
       "<span style=\"color: red;\">Lost 120.02 betting on Dallas vs Orlando at -110</span>"
      ],
      "text/plain": [
       "<IPython.core.display.HTML object>"
      ]
     },
     "metadata": {},
     "output_type": "display_data"
    },
    {
     "data": {
      "text/html": [
       "<span style=\"color: red;\">Lost 74.32 betting on Brooklyn vs Detroit at -110</span>"
      ],
      "text/plain": [
       "<IPython.core.display.HTML object>"
      ]
     },
     "metadata": {},
     "output_type": "display_data"
    },
    {
     "name": "stdout",
     "output_type": "stream",
     "text": [
      "Results for 2024-11-03 00:00:00: Start Bankroll: 1951.54, End Bankroll: 1809.19, Profit: -142.35, Win Rate: 0.33\n",
      "\n",
      "Processing 2024-11-04 00:00:00...\n"
     ]
    },
    {
     "data": {
      "text/html": [
       "<span style=\"color: green;\">Won 151.78 betting 166.96 on Denver vs Toronto at -110</span>"
      ],
      "text/plain": [
       "<IPython.core.display.HTML object>"
      ]
     },
     "metadata": {},
     "output_type": "display_data"
    },
    {
     "data": {
      "text/html": [
       "<span style=\"color: green;\">Won 113.51 betting 124.86 on Chicago vs Utah at -110</span>"
      ],
      "text/plain": [
       "<IPython.core.display.HTML object>"
      ]
     },
     "metadata": {},
     "output_type": "display_data"
    },
    {
     "data": {
      "text/html": [
       "<span style=\"color: green;\">Won 104.44 betting 114.88 on LA Clippers vs San Antonio at -110</span>"
      ],
      "text/plain": [
       "<IPython.core.display.HTML object>"
      ]
     },
     "metadata": {},
     "output_type": "display_data"
    },
    {
     "data": {
      "text/html": [
       "<span style=\"color: green;\">Won 102.06 betting 112.27 on Phoenix vs Philadelphia at -110</span>"
      ],
      "text/plain": [
       "<IPython.core.display.HTML object>"
      ]
     },
     "metadata": {},
     "output_type": "display_data"
    },
    {
     "data": {
      "text/html": [
       "<span style=\"color: green;\">Won 33.95 betting 37.34 on Dallas vs Indiana at -110</span>"
      ],
      "text/plain": [
       "<IPython.core.display.HTML object>"
      ]
     },
     "metadata": {},
     "output_type": "display_data"
    },
    {
     "data": {
      "text/html": [
       "<span style=\"color: red;\">Lost 8.35 betting on Sacramento vs Miami at -110</span>"
      ],
      "text/plain": [
       "<IPython.core.display.HTML object>"
      ]
     },
     "metadata": {},
     "output_type": "display_data"
    },
    {
     "data": {
      "text/html": [
       "<span style=\"color: red;\">Lost 32.32 betting on Memphis vs Brooklyn at -110</span>"
      ],
      "text/plain": [
       "<IPython.core.display.HTML object>"
      ]
     },
     "metadata": {},
     "output_type": "display_data"
    },
    {
     "data": {
      "text/html": [
       "<span style=\"color: red;\">Lost 110.07 betting on Boston vs Atlanta at -110</span>"
      ],
      "text/plain": [
       "<IPython.core.display.HTML object>"
      ]
     },
     "metadata": {},
     "output_type": "display_data"
    },
    {
     "data": {
      "text/html": [
       "<span style=\"color: green;\">Won 20.35 betting 22.38 on Portland vs New Orleans at -110</span>"
      ],
      "text/plain": [
       "<IPython.core.display.HTML object>"
      ]
     },
     "metadata": {},
     "output_type": "display_data"
    },
    {
     "data": {
      "text/html": [
       "<span style=\"color: red;\">Lost 82.27 betting on LA Lakers vs Detroit at -110</span>"
      ],
      "text/plain": [
       "<IPython.core.display.HTML object>"
      ]
     },
     "metadata": {},
     "output_type": "display_data"
    },
    {
     "data": {
      "text/html": [
       "<span style=\"color: green;\">Won 75.69 betting 83.26 on Cleveland vs Milwaukee at -110</span>"
      ],
      "text/plain": [
       "<IPython.core.display.HTML object>"
      ]
     },
     "metadata": {},
     "output_type": "display_data"
    },
    {
     "data": {
      "text/html": [
       "<span style=\"color: red;\">Lost 77.11 betting on Minnesota vs Charlotte at -110</span>"
      ],
      "text/plain": [
       "<IPython.core.display.HTML object>"
      ]
     },
     "metadata": {},
     "output_type": "display_data"
    },
    {
     "data": {
      "text/html": [
       "<span style=\"color: red;\">Lost 77.48 betting on Oklahoma City vs Orlando at -110</span>"
      ],
      "text/plain": [
       "<IPython.core.display.HTML object>"
      ]
     },
     "metadata": {},
     "output_type": "display_data"
    },
    {
     "data": {
      "text/html": [
       "<span style=\"color: green;\">Won 62.51 betting 68.76 on Golden State vs Washington at -110</span>"
      ],
      "text/plain": [
       "<IPython.core.display.HTML object>"
      ]
     },
     "metadata": {},
     "output_type": "display_data"
    },
    {
     "name": "stdout",
     "output_type": "stream",
     "text": [
      "Results for 2024-11-04 00:00:00: Start Bankroll: 1809.19, End Bankroll: 2085.88, Profit: 276.69, Win Rate: 0.57\n",
      "\n",
      "Processing 2024-11-05 00:00:00...\n",
      "Processing 2024-11-06 00:00:00...\n"
     ]
    },
    {
     "data": {
      "text/html": [
       "<span style=\"color: red;\">Lost 36.68 betting on LA Clippers vs Philadelphia at -110</span>"
      ],
      "text/plain": [
       "<IPython.core.display.HTML object>"
      ]
     },
     "metadata": {},
     "output_type": "display_data"
    },
    {
     "data": {
      "text/html": [
       "<span style=\"color: green;\">Won 125.97 betting 138.57 on Phoenix vs Miami at -110</span>"
      ],
      "text/plain": [
       "<IPython.core.display.HTML object>"
      ]
     },
     "metadata": {},
     "output_type": "display_data"
    },
    {
     "data": {
      "text/html": [
       "<span style=\"color: green;\">Won 120.51 betting 132.56 on Oklahoma City vs Denver at -110</span>"
      ],
      "text/plain": [
       "<IPython.core.display.HTML object>"
      ]
     },
     "metadata": {},
     "output_type": "display_data"
    },
    {
     "data": {
      "text/html": [
       "<span style=\"color: red;\">Lost 159.55 betting on Dallas vs Chicago at -110</span>"
      ],
      "text/plain": [
       "<IPython.core.display.HTML object>"
      ]
     },
     "metadata": {},
     "output_type": "display_data"
    },
    {
     "data": {
      "text/html": [
       "<span style=\"color: red;\">Lost 40.81 betting on Charlotte vs Detroit at -110</span>"
      ],
      "text/plain": [
       "<IPython.core.display.HTML object>"
      ]
     },
     "metadata": {},
     "output_type": "display_data"
    },
    {
     "data": {
      "text/html": [
       "<span style=\"color: green;\">Won 78.85 betting 86.73 on Indiana vs Orlando at -110</span>"
      ],
      "text/plain": [
       "<IPython.core.display.HTML object>"
      ]
     },
     "metadata": {},
     "output_type": "display_data"
    },
    {
     "data": {
      "text/html": [
       "<span style=\"color: green;\">Won 96.97 betting 106.67 on New York vs Atlanta at -110</span>"
      ],
      "text/plain": [
       "<IPython.core.display.HTML object>"
      ]
     },
     "metadata": {},
     "output_type": "display_data"
    },
    {
     "data": {
      "text/html": [
       "<span style=\"color: green;\">Won 89.66 betting 98.63 on Boston vs Golden State at -110</span>"
      ],
      "text/plain": [
       "<IPython.core.display.HTML object>"
      ]
     },
     "metadata": {},
     "output_type": "display_data"
    },
    {
     "data": {
      "text/html": [
       "<span style=\"color: green;\">Won 86.07 betting 94.68 on Houston vs San Antonio at -110</span>"
      ],
      "text/plain": [
       "<IPython.core.display.HTML object>"
      ]
     },
     "metadata": {},
     "output_type": "display_data"
    },
    {
     "data": {
      "text/html": [
       "<span style=\"color: green;\">Won 43.17 betting 47.49 on Memphis vs LA Lakers at -110</span>"
      ],
      "text/plain": [
       "<IPython.core.display.HTML object>"
      ]
     },
     "metadata": {},
     "output_type": "display_data"
    },
    {
     "data": {
      "text/html": [
       "<span style=\"color: green;\">Won 80.48 betting 88.53 on Cleveland vs New Orleans at -110</span>"
      ],
      "text/plain": [
       "<IPython.core.display.HTML object>"
      ]
     },
     "metadata": {},
     "output_type": "display_data"
    },
    {
     "data": {
      "text/html": [
       "<span style=\"color: red;\">Lost 95.57 betting on Sacramento vs Toronto at -110</span>"
      ],
      "text/plain": [
       "<IPython.core.display.HTML object>"
      ]
     },
     "metadata": {},
     "output_type": "display_data"
    },
    {
     "name": "stdout",
     "output_type": "stream",
     "text": [
      "Results for 2024-11-06 00:00:00: Start Bankroll: 2085.88, End Bankroll: 2474.95, Profit: 389.07, Win Rate: 0.67\n",
      "\n"
     ]
    },
    {
     "data": {
      "image/png": "[encoded data removed]",
      "text/plain": [
       "<Figure size 640x480 with 1 Axes>"
      ]
     },
     "metadata": {},
     "output_type": "display_data"
    },
    {
     "name": "stdout",
     "output_type": "stream",
     "text": [
      "Final Bankroll: 2474.949999999999\n",
      "Total Profit: -25.05000000000109\n"
     ]
    }
   ],
   "source": [
    "# Example usage with defined constants\n",
    "final_bankroll, total_profit, bet_results = backtest_model(\n",
    "    df=df,\n",
    "    model=ml_model,\n",
    "    feature_cols=df.drop(drop_cols, axis=1).columns,  # Feature columns\n",
    "    label_col='total_result',\n",
    "    odds_col='CLOSING_TOTAL',\n",
    "    start_date='2024-10-22',\n",
    "    end_date='2024-11-06',\n",
    "    initial_bankroll=2500,\n",
    "    bet_size=2\n",
    ")\n",
    "\n",
    "# Plotting the results\n",
    "plt.plot(bet_results)\n",
    "plt.title('Bankroll Over Time')\n",
    "plt.xlabel('Days')\n",
    "plt.ylabel('Bankroll')\n",
    "plt.show()\n",
    "\n",
    "print(f\"Final Bankroll: {final_bankroll}\")\n",
    "print(f\"Total Profit: {total_profit}\")"
   ]
  },
  {
   "cell_type": "markdown",
   "metadata": {},
   "source": [
    "#### 3q"
   ]
  },
  {
   "cell_type": "code",
   "execution_count": 40,
   "metadata": {},
   "outputs": [
    {
     "name": "stdout",
     "output_type": "stream",
     "text": [
      "Processing 2024-10-22 00:00:00...\n"
     ]
    },
    {
     "data": {
      "text/html": [
       "<span style=\"color: green;\">Won 683.37 betting 227.79 on Boston vs New York at 300</span>"
      ],
      "text/plain": [
       "<IPython.core.display.HTML object>"
      ]
     },
     "metadata": {},
     "output_type": "display_data"
    },
    {
     "data": {
      "text/html": [
       "<span style=\"color: red;\">Lost 81.85 betting on Minnesota vs LA Lakers at 300</span>"
      ],
      "text/plain": [
       "<IPython.core.display.HTML object>"
      ]
     },
     "metadata": {},
     "output_type": "display_data"
    },
    {
     "name": "stdout",
     "output_type": "stream",
     "text": [
      "Results for 2024-10-22 00:00:00: Start Bankroll: 2500, End Bankroll: 3101.52, Profit: 601.52, Win Rate: 0.50\n",
      "\n",
      "Processing 2024-10-23 00:00:00...\n"
     ]
    },
    {
     "data": {
      "text/html": [
       "<span style=\"color: red;\">Lost 255.89 betting on Atlanta vs Brooklyn at 300</span>"
      ],
      "text/plain": [
       "<IPython.core.display.HTML object>"
      ]
     },
     "metadata": {},
     "output_type": "display_data"
    },
    {
     "data": {
      "text/html": [
       "<span style=\"color: green;\">Won 673.08 betting 224.36 on Cleveland vs Toronto at 300</span>"
      ],
      "text/plain": [
       "<IPython.core.display.HTML object>"
      ]
     },
     "metadata": {},
     "output_type": "display_data"
    },
    {
     "data": {
      "text/html": [
       "<span style=\"color: red;\">Lost 94.95 betting on Orlando vs Miami at 300</span>"
      ],
      "text/plain": [
       "<IPython.core.display.HTML object>"
      ]
     },
     "metadata": {},
     "output_type": "display_data"
    },
    {
     "data": {
      "text/html": [
       "<span style=\"color: green;\">Won 575.85 betting 191.95 on Milwaukee vs Philadelphia at 300</span>"
      ],
      "text/plain": [
       "<IPython.core.display.HTML object>"
      ]
     },
     "metadata": {},
     "output_type": "display_data"
    },
    {
     "data": {
      "text/html": [
       "<span style=\"color: red;\">Lost 152.56 betting on Indiana vs Detroit at 300</span>"
      ],
      "text/plain": [
       "<IPython.core.display.HTML object>"
      ]
     },
     "metadata": {},
     "output_type": "display_data"
    },
    {
     "data": {
      "text/html": [
       "<span style=\"color: red;\">Lost 183.61 betting on Golden State vs Portland at 300</span>"
      ],
      "text/plain": [
       "<IPython.core.display.HTML object>"
      ]
     },
     "metadata": {},
     "output_type": "display_data"
    },
    {
     "data": {
      "text/html": [
       "<span style=\"color: red;\">Lost 149.89 betting on Phoenix vs LA Clippers at 300</span>"
      ],
      "text/plain": [
       "<IPython.core.display.HTML object>"
      ]
     },
     "metadata": {},
     "output_type": "display_data"
    },
    {
     "data": {
      "text/html": [
       "<span style=\"color: red;\">Lost 99.05 betting on Memphis vs Utah at 300</span>"
      ],
      "text/plain": [
       "<IPython.core.display.HTML object>"
      ]
     },
     "metadata": {},
     "output_type": "display_data"
    },
    {
     "data": {
      "text/html": [
       "<span style=\"color: red;\">Lost 99.41 betting on New Orleans vs Chicago at 300</span>"
      ],
      "text/plain": [
       "<IPython.core.display.HTML object>"
      ]
     },
     "metadata": {},
     "output_type": "display_data"
    },
    {
     "data": {
      "text/html": [
       "<span style=\"color: red;\">Lost 140.15 betting on Houston vs Charlotte at 300</span>"
      ],
      "text/plain": [
       "<IPython.core.display.HTML object>"
      ]
     },
     "metadata": {},
     "output_type": "display_data"
    },
    {
     "name": "stdout",
     "output_type": "stream",
     "text": [
      "Results for 2024-10-23 00:00:00: Start Bankroll: 3101.52, End Bankroll: 3174.94, Profit: 73.42, Win Rate: 0.20\n",
      "\n",
      "Processing 2024-10-24 00:00:00...\n"
     ]
    },
    {
     "data": {
      "text/html": [
       "<span style=\"color: red;\">Lost 126.38 betting on Minnesota vs Sacramento at 300</span>"
      ],
      "text/plain": [
       "<IPython.core.display.HTML object>"
      ]
     },
     "metadata": {},
     "output_type": "display_data"
    },
    {
     "data": {
      "text/html": [
       "<span style=\"color: red;\">Lost 122.39 betting on Denver vs Oklahoma City at 300</span>"
      ],
      "text/plain": [
       "<IPython.core.display.HTML object>"
      ]
     },
     "metadata": {},
     "output_type": "display_data"
    },
    {
     "data": {
      "text/html": [
       "<span style=\"color: red;\">Lost 275.47 betting on Dallas vs San Antonio at 300</span>"
      ],
      "text/plain": [
       "<IPython.core.display.HTML object>"
      ]
     },
     "metadata": {},
     "output_type": "display_data"
    },
    {
     "data": {
      "text/html": [
       "<span style=\"color: red;\">Lost 257.68 betting on Boston vs Washington at 300</span>"
      ],
      "text/plain": [
       "<IPython.core.display.HTML object>"
      ]
     },
     "metadata": {},
     "output_type": "display_data"
    },
    {
     "name": "stdout",
     "output_type": "stream",
     "text": [
      "Results for 2024-10-24 00:00:00: Start Bankroll: 3174.94, End Bankroll: 2393.02, Profit: -781.92, Win Rate: 0.00\n",
      "\n",
      "Processing 2024-10-25 00:00:00...\n"
     ]
    },
    {
     "data": {
      "text/html": [
       "<span style=\"color: red;\">Lost 214.73 betting on New Orleans vs Portland at 300</span>"
      ],
      "text/plain": [
       "<IPython.core.display.HTML object>"
      ]
     },
     "metadata": {},
     "output_type": "display_data"
    },
    {
     "data": {
      "text/html": [
       "<span style=\"color: red;\">Lost 94.54 betting on Phoenix vs LA Lakers at 300</span>"
      ],
      "text/plain": [
       "<IPython.core.display.HTML object>"
      ]
     },
     "metadata": {},
     "output_type": "display_data"
    },
    {
     "data": {
      "text/html": [
       "<span style=\"color: red;\">Lost 153.97 betting on Golden State vs Utah at 300</span>"
      ],
      "text/plain": [
       "<IPython.core.display.HTML object>"
      ]
     },
     "metadata": {},
     "output_type": "display_data"
    },
    {
     "data": {
      "text/html": [
       "<span style=\"color: red;\">Lost 174.63 betting on Milwaukee vs Chicago at 300</span>"
      ],
      "text/plain": [
       "<IPython.core.display.HTML object>"
      ]
     },
     "metadata": {},
     "output_type": "display_data"
    },
    {
     "data": {
      "text/html": [
       "<span style=\"color: red;\">Lost 72.79 betting on Houston vs Memphis at 300</span>"
      ],
      "text/plain": [
       "<IPython.core.display.HTML object>"
      ]
     },
     "metadata": {},
     "output_type": "display_data"
    },
    {
     "data": {
      "text/html": [
       "<span style=\"color: red;\">Lost 99.7 betting on Philadelphia vs Toronto at 300</span>"
      ],
      "text/plain": [
       "<IPython.core.display.HTML object>"
      ]
     },
     "metadata": {},
     "output_type": "display_data"
    },
    {
     "data": {
      "text/html": [
       "<span style=\"color: red;\">Lost 150.75 betting on Cleveland vs Detroit at 300</span>"
      ],
      "text/plain": [
       "<IPython.core.display.HTML object>"
      ]
     },
     "metadata": {},
     "output_type": "display_data"
    },
    {
     "data": {
      "text/html": [
       "<span style=\"color: red;\">Lost 74.87 betting on Atlanta vs Charlotte at 300</span>"
      ],
      "text/plain": [
       "<IPython.core.display.HTML object>"
      ]
     },
     "metadata": {},
     "output_type": "display_data"
    },
    {
     "data": {
      "text/html": [
       "<span style=\"color: red;\">Lost 128.36 betting on Orlando vs Brooklyn at 300</span>"
      ],
      "text/plain": [
       "<IPython.core.display.HTML object>"
      ]
     },
     "metadata": {},
     "output_type": "display_data"
    },
    {
     "data": {
      "text/html": [
       "<span style=\"color: red;\">Lost 81.25 betting on New York vs Indiana at 300</span>"
      ],
      "text/plain": [
       "<IPython.core.display.HTML object>"
      ]
     },
     "metadata": {},
     "output_type": "display_data"
    },
    {
     "name": "stdout",
     "output_type": "stream",
     "text": [
      "Results for 2024-10-25 00:00:00: Start Bankroll: 2393.02, End Bankroll: 1147.43, Profit: -1245.59, Win Rate: 0.00\n",
      "\n",
      "Processing 2024-10-26 00:00:00...\n"
     ]
    },
    {
     "data": {
      "text/html": [
       "<span style=\"color: red;\">Lost 106.71 betting on Denver vs LA Clippers at 300</span>"
      ],
      "text/plain": [
       "<IPython.core.display.HTML object>"
      ]
     },
     "metadata": {},
     "output_type": "display_data"
    },
    {
     "data": {
      "text/html": [
       "<span style=\"color: red;\">Lost 100.36 betting on Boston vs Detroit at 300</span>"
      ],
      "text/plain": [
       "<IPython.core.display.HTML object>"
      ]
     },
     "metadata": {},
     "output_type": "display_data"
    },
    {
     "data": {
      "text/html": [
       "<span style=\"color: red;\">Lost 71.41 betting on Miami vs Charlotte at 300</span>"
      ],
      "text/plain": [
       "<IPython.core.display.HTML object>"
      ]
     },
     "metadata": {},
     "output_type": "display_data"
    },
    {
     "data": {
      "text/html": [
       "<span style=\"color: red;\">Lost 39.27 betting on Sacramento vs LA Lakers at 300</span>"
      ],
      "text/plain": [
       "<IPython.core.display.HTML object>"
      ]
     },
     "metadata": {},
     "output_type": "display_data"
    },
    {
     "data": {
      "text/html": [
       "<span style=\"color: red;\">Lost 42.06 betting on Dallas vs Phoenix at 300</span>"
      ],
      "text/plain": [
       "<IPython.core.display.HTML object>"
      ]
     },
     "metadata": {},
     "output_type": "display_data"
    },
    {
     "data": {
      "text/html": [
       "<span style=\"color: red;\">Lost 34.35 betting on San Antonio vs Houston at 300</span>"
      ],
      "text/plain": [
       "<IPython.core.display.HTML object>"
      ]
     },
     "metadata": {},
     "output_type": "display_data"
    },
    {
     "data": {
      "text/html": [
       "<span style=\"color: red;\">Lost 71.9 betting on Minnesota vs Toronto at 300</span>"
      ],
      "text/plain": [
       "<IPython.core.display.HTML object>"
      ]
     },
     "metadata": {},
     "output_type": "display_data"
    },
    {
     "data": {
      "text/html": [
       "<span style=\"color: red;\">Lost 33.36 betting on Memphis vs Orlando at 300</span>"
      ],
      "text/plain": [
       "<IPython.core.display.HTML object>"
      ]
     },
     "metadata": {},
     "output_type": "display_data"
    },
    {
     "data": {
      "text/html": [
       "<span style=\"color: red;\">Lost 61.28 betting on Oklahoma City vs Chicago at 300</span>"
      ],
      "text/plain": [
       "<IPython.core.display.HTML object>"
      ]
     },
     "metadata": {},
     "output_type": "display_data"
    },
    {
     "data": {
      "text/html": [
       "<span style=\"color: red;\">Lost 55.89 betting on Cleveland vs Washington at 300</span>"
      ],
      "text/plain": [
       "<IPython.core.display.HTML object>"
      ]
     },
     "metadata": {},
     "output_type": "display_data"
    },
    {
     "name": "stdout",
     "output_type": "stream",
     "text": [
      "Results for 2024-10-26 00:00:00: Start Bankroll: 1147.43, End Bankroll: 530.84, Profit: -616.59, Win Rate: 0.00\n",
      "\n",
      "Processing 2024-10-27 00:00:00...\n"
     ]
    },
    {
     "data": {
      "text/html": [
       "<span style=\"color: red;\">Lost 49.35 betting on Oklahoma City vs Atlanta at 300</span>"
      ],
      "text/plain": [
       "<IPython.core.display.HTML object>"
      ]
     },
     "metadata": {},
     "output_type": "display_data"
    },
    {
     "data": {
      "text/html": [
       "<span style=\"color: red;\">Lost 41.54 betting on Golden State vs LA Clippers at 300</span>"
      ],
      "text/plain": [
       "<IPython.core.display.HTML object>"
      ]
     },
     "metadata": {},
     "output_type": "display_data"
    },
    {
     "data": {
      "text/html": [
       "<span style=\"color: red;\">Lost 37.29 betting on New Orleans vs Portland at 300</span>"
      ],
      "text/plain": [
       "<IPython.core.display.HTML object>"
      ]
     },
     "metadata": {},
     "output_type": "display_data"
    },
    {
     "data": {
      "text/html": [
       "<span style=\"color: red;\">Lost 37.29 betting on Milwaukee vs Brooklyn at 300</span>"
      ],
      "text/plain": [
       "<IPython.core.display.HTML object>"
      ]
     },
     "metadata": {},
     "output_type": "display_data"
    },
    {
     "data": {
      "text/html": [
       "<span style=\"color: red;\">Lost 32.42 betting on Indiana vs Philadelphia at 300</span>"
      ],
      "text/plain": [
       "<IPython.core.display.HTML object>"
      ]
     },
     "metadata": {},
     "output_type": "display_data"
    },
    {
     "name": "stdout",
     "output_type": "stream",
     "text": [
      "Results for 2024-10-27 00:00:00: Start Bankroll: 530.84, End Bankroll: 332.95, Profit: -197.89, Win Rate: 0.00\n",
      "\n",
      "Processing 2024-10-28 00:00:00...\n"
     ]
    },
    {
     "data": {
      "text/html": [
       "<span style=\"color: red;\">Lost 31.77 betting on Sacramento vs Portland at 300</span>"
      ],
      "text/plain": [
       "<IPython.core.display.HTML object>"
      ]
     },
     "metadata": {},
     "output_type": "display_data"
    },
    {
     "data": {
      "text/html": [
       "<span style=\"color: red;\">Lost 28.35 betting on Dallas vs Utah at 300</span>"
      ],
      "text/plain": [
       "<IPython.core.display.HTML object>"
      ]
     },
     "metadata": {},
     "output_type": "display_data"
    },
    {
     "data": {
      "text/html": [
       "<span style=\"color: red;\">Lost 12.36 betting on Houston vs San Antonio at 300</span>"
      ],
      "text/plain": [
       "<IPython.core.display.HTML object>"
      ]
     },
     "metadata": {},
     "output_type": "display_data"
    },
    {
     "data": {
      "text/html": [
       "<span style=\"color: green;\">Won 56.79 betting 18.93 on Memphis vs Chicago at 300</span>"
      ],
      "text/plain": [
       "<IPython.core.display.HTML object>"
      ]
     },
     "metadata": {},
     "output_type": "display_data"
    },
    {
     "data": {
      "text/html": [
       "<span style=\"color: red;\">Lost 18.7 betting on Atlanta vs Washington at 300</span>"
      ],
      "text/plain": [
       "<IPython.core.display.HTML object>"
      ]
     },
     "metadata": {},
     "output_type": "display_data"
    },
    {
     "data": {
      "text/html": [
       "<span style=\"color: red;\">Lost 11.19 betting on New York vs Cleveland at 300</span>"
      ],
      "text/plain": [
       "<IPython.core.display.HTML object>"
      ]
     },
     "metadata": {},
     "output_type": "display_data"
    },
    {
     "data": {
      "text/html": [
       "<span style=\"color: red;\">Lost 19.27 betting on Denver vs Toronto at 300</span>"
      ],
      "text/plain": [
       "<IPython.core.display.HTML object>"
      ]
     },
     "metadata": {},
     "output_type": "display_data"
    },
    {
     "data": {
      "text/html": [
       "<span style=\"color: red;\">Lost 14.35 betting on Orlando vs Indiana at 300</span>"
      ],
      "text/plain": [
       "<IPython.core.display.HTML object>"
      ]
     },
     "metadata": {},
     "output_type": "display_data"
    },
    {
     "data": {
      "text/html": [
       "<span style=\"color: red;\">Lost 13.26 betting on Phoenix vs LA Lakers at 300</span>"
      ],
      "text/plain": [
       "<IPython.core.display.HTML object>"
      ]
     },
     "metadata": {},
     "output_type": "display_data"
    },
    {
     "data": {
      "text/html": [
       "<span style=\"color: red;\">Lost 14.86 betting on Miami vs Detroit at 300</span>"
      ],
      "text/plain": [
       "<IPython.core.display.HTML object>"
      ]
     },
     "metadata": {},
     "output_type": "display_data"
    },
    {
     "data": {
      "text/html": [
       "<span style=\"color: red;\">Lost 14.24 betting on Boston vs Milwaukee at 300</span>"
      ],
      "text/plain": [
       "<IPython.core.display.HTML object>"
      ]
     },
     "metadata": {},
     "output_type": "display_data"
    },
    {
     "name": "stdout",
     "output_type": "stream",
     "text": [
      "Results for 2024-10-28 00:00:00: Start Bankroll: 332.95, End Bankroll: 211.39, Profit: -121.56, Win Rate: 0.09\n",
      "\n",
      "Processing 2024-10-29 00:00:00...\n"
     ]
    },
    {
     "data": {
      "text/html": [
       "<span style=\"color: red;\">Lost 17.88 betting on Denver vs Brooklyn at 300</span>"
      ],
      "text/plain": [
       "<IPython.core.display.HTML object>"
      ]
     },
     "metadata": {},
     "output_type": "display_data"
    },
    {
     "data": {
      "text/html": [
       "<span style=\"color: red;\">Lost 7.78 betting on Minnesota vs Dallas at 300</span>"
      ],
      "text/plain": [
       "<IPython.core.display.HTML object>"
      ]
     },
     "metadata": {},
     "output_type": "display_data"
    },
    {
     "data": {
      "text/html": [
       "<span style=\"color: red;\">Lost 14.68 betting on Sacramento vs Utah at 300</span>"
      ],
      "text/plain": [
       "<IPython.core.display.HTML object>"
      ]
     },
     "metadata": {},
     "output_type": "display_data"
    },
    {
     "data": {
      "text/html": [
       "<span style=\"color: red;\">Lost 10.19 betting on Golden State vs New Orleans at 300</span>"
      ],
      "text/plain": [
       "<IPython.core.display.HTML object>"
      ]
     },
     "metadata": {},
     "output_type": "display_data"
    },
    {
     "name": "stdout",
     "output_type": "stream",
     "text": [
      "Results for 2024-10-29 00:00:00: Start Bankroll: 211.39, End Bankroll: 160.86, Profit: -50.53, Win Rate: 0.00\n",
      "\n",
      "Processing 2024-10-30 00:00:00...\n"
     ]
    },
    {
     "data": {
      "text/html": [
       "<span style=\"color: red;\">Lost 11.3 betting on Orlando vs Chicago at 300</span>"
      ],
      "text/plain": [
       "<IPython.core.display.HTML object>"
      ]
     },
     "metadata": {},
     "output_type": "display_data"
    },
    {
     "data": {
      "text/html": [
       "<span style=\"color: red;\">Lost 12.45 betting on LA Clippers vs Portland at 300</span>"
      ],
      "text/plain": [
       "<IPython.core.display.HTML object>"
      ]
     },
     "metadata": {},
     "output_type": "display_data"
    },
    {
     "data": {
      "text/html": [
       "<span style=\"color: red;\">Lost 13.17 betting on Oklahoma City vs San Antonio at 300</span>"
      ],
      "text/plain": [
       "<IPython.core.display.HTML object>"
      ]
     },
     "metadata": {},
     "output_type": "display_data"
    },
    {
     "data": {
      "text/html": [
       "<span style=\"color: red;\">Lost 11.89 betting on Memphis vs Brooklyn at 300</span>"
      ],
      "text/plain": [
       "<IPython.core.display.HTML object>"
      ]
     },
     "metadata": {},
     "output_type": "display_data"
    },
    {
     "data": {
      "text/html": [
       "<span style=\"color: red;\">Lost 7.25 betting on Golden State vs New Orleans at 300</span>"
      ],
      "text/plain": [
       "<IPython.core.display.HTML object>"
      ]
     },
     "metadata": {},
     "output_type": "display_data"
    },
    {
     "data": {
      "text/html": [
       "<span style=\"color: red;\">Lost 4.25 betting on Miami vs New York at 300</span>"
      ],
      "text/plain": [
       "<IPython.core.display.HTML object>"
      ]
     },
     "metadata": {},
     "output_type": "display_data"
    },
    {
     "data": {
      "text/html": [
       "<span style=\"color: red;\">Lost 6.36 betting on Atlanta vs Washington at 300</span>"
      ],
      "text/plain": [
       "<IPython.core.display.HTML object>"
      ]
     },
     "metadata": {},
     "output_type": "display_data"
    },
    {
     "data": {
      "text/html": [
       "<span style=\"color: red;\">Lost 5.96 betting on Philadelphia vs Detroit at 300</span>"
      ],
      "text/plain": [
       "<IPython.core.display.HTML object>"
      ]
     },
     "metadata": {},
     "output_type": "display_data"
    },
    {
     "data": {
      "text/html": [
       "<span style=\"color: red;\">Lost 7.21 betting on Boston vs Indiana at 300</span>"
      ],
      "text/plain": [
       "<IPython.core.display.HTML object>"
      ]
     },
     "metadata": {},
     "output_type": "display_data"
    },
    {
     "data": {
      "text/html": [
       "<span style=\"color: green;\">Won 19.14 betting 6.38 on Charlotte vs Toronto at 300</span>"
      ],
      "text/plain": [
       "<IPython.core.display.HTML object>"
      ]
     },
     "metadata": {},
     "output_type": "display_data"
    },
    {
     "data": {
      "text/html": [
       "<span style=\"color: red;\">Lost 5.71 betting on Cleveland vs LA Lakers at 300</span>"
      ],
      "text/plain": [
       "<IPython.core.display.HTML object>"
      ]
     },
     "metadata": {},
     "output_type": "display_data"
    },
    {
     "name": "stdout",
     "output_type": "stream",
     "text": [
      "Results for 2024-10-30 00:00:00: Start Bankroll: 160.86, End Bankroll: 94.45, Profit: -66.41, Win Rate: 0.09\n",
      "\n",
      "Processing 2024-10-31 00:00:00...\n"
     ]
    },
    {
     "data": {
      "text/html": [
       "<span style=\"color: red;\">Lost 7.07 betting on Milwaukee vs Memphis at 300</span>"
      ],
      "text/plain": [
       "<IPython.core.display.HTML object>"
      ]
     },
     "metadata": {},
     "output_type": "display_data"
    },
    {
     "data": {
      "text/html": [
       "<span style=\"color: red;\">Lost 4.24 betting on San Antonio vs Utah at 300</span>"
      ],
      "text/plain": [
       "<IPython.core.display.HTML object>"
      ]
     },
     "metadata": {},
     "output_type": "display_data"
    },
    {
     "data": {
      "text/html": [
       "<span style=\"color: red;\">Lost 5.86 betting on Phoenix vs LA Clippers at 300</span>"
      ],
      "text/plain": [
       "<IPython.core.display.HTML object>"
      ]
     },
     "metadata": {},
     "output_type": "display_data"
    },
    {
     "data": {
      "text/html": [
       "<span style=\"color: red;\">Lost 5.75 betting on Dallas vs Houston at 300</span>"
      ],
      "text/plain": [
       "<IPython.core.display.HTML object>"
      ]
     },
     "metadata": {},
     "output_type": "display_data"
    },
    {
     "name": "stdout",
     "output_type": "stream",
     "text": [
      "Results for 2024-10-31 00:00:00: Start Bankroll: 94.45, End Bankroll: 71.53, Profit: -22.92, Win Rate: 0.00\n",
      "\n",
      "Processing 2024-11-01 00:00:00...\n"
     ]
    },
    {
     "data": {
      "text/html": [
       "<span style=\"color: green;\">Won 20.64 betting 6.88 on Oklahoma City vs Portland at 300</span>"
      ],
      "text/plain": [
       "<IPython.core.display.HTML object>"
      ]
     },
     "metadata": {},
     "output_type": "display_data"
    },
    {
     "data": {
      "text/html": [
       "<span style=\"color: red;\">Lost 6.01 betting on Boston vs Charlotte at 300</span>"
      ],
      "text/plain": [
       "<IPython.core.display.HTML object>"
      ]
     },
     "metadata": {},
     "output_type": "display_data"
    },
    {
     "data": {
      "text/html": [
       "<span style=\"color: red;\">Lost 2.29 betting on Denver vs Minnesota at 300</span>"
      ],
      "text/plain": [
       "<IPython.core.display.HTML object>"
      ]
     },
     "metadata": {},
     "output_type": "display_data"
    },
    {
     "data": {
      "text/html": [
       "<span style=\"color: red;\">Lost 3.43 betting on Indiana vs New Orleans at 300</span>"
      ],
      "text/plain": [
       "<IPython.core.display.HTML object>"
      ]
     },
     "metadata": {},
     "output_type": "display_data"
    },
    {
     "data": {
      "text/html": [
       "<span style=\"color: red;\">Lost 4.95 betting on LA Lakers vs Toronto at 300</span>"
      ],
      "text/plain": [
       "<IPython.core.display.HTML object>"
      ]
     },
     "metadata": {},
     "output_type": "display_data"
    },
    {
     "data": {
      "text/html": [
       "<span style=\"color: red;\">Lost 2.9 betting on Brooklyn vs Chicago at 300</span>"
      ],
      "text/plain": [
       "<IPython.core.display.HTML object>"
      ]
     },
     "metadata": {},
     "output_type": "display_data"
    },
    {
     "data": {
      "text/html": [
       "<span style=\"color: green;\">Won 11.49 betting 3.83 on New York vs Detroit at 300</span>"
      ],
      "text/plain": [
       "<IPython.core.display.HTML object>"
      ]
     },
     "metadata": {},
     "output_type": "display_data"
    },
    {
     "data": {
      "text/html": [
       "<span style=\"color: red;\">Lost 3.47 betting on Cleveland vs Orlando at 300</span>"
      ],
      "text/plain": [
       "<IPython.core.display.HTML object>"
      ]
     },
     "metadata": {},
     "output_type": "display_data"
    },
    {
     "data": {
      "text/html": [
       "<span style=\"color: green;\">Won 8.76 betting 2.92 on Sacramento vs Atlanta at 300</span>"
      ],
      "text/plain": [
       "<IPython.core.display.HTML object>"
      ]
     },
     "metadata": {},
     "output_type": "display_data"
    },
    {
     "name": "stdout",
     "output_type": "stream",
     "text": [
      "Results for 2024-11-01 00:00:00: Start Bankroll: 71.53, End Bankroll: 89.37, Profit: 17.84, Win Rate: 0.33\n",
      "\n",
      "Processing 2024-11-02 00:00:00...\n"
     ]
    },
    {
     "data": {
      "text/html": [
       "<span style=\"color: red;\">Lost 4.44 betting on Milwaukee vs Cleveland at 300</span>"
      ],
      "text/plain": [
       "<IPython.core.display.HTML object>"
      ]
     },
     "metadata": {},
     "output_type": "display_data"
    },
    {
     "data": {
      "text/html": [
       "<span style=\"color: red;\">Lost 8.15 betting on Phoenix vs Portland at 300</span>"
      ],
      "text/plain": [
       "<IPython.core.display.HTML object>"
      ]
     },
     "metadata": {},
     "output_type": "display_data"
    },
    {
     "data": {
      "text/html": [
       "<span style=\"color: red;\">Lost 7.36 betting on Denver vs Utah at 300</span>"
      ],
      "text/plain": [
       "<IPython.core.display.HTML object>"
      ]
     },
     "metadata": {},
     "output_type": "display_data"
    },
    {
     "data": {
      "text/html": [
       "<span style=\"color: red;\">Lost 6.59 betting on Miami vs Washington at 300</span>"
      ],
      "text/plain": [
       "<IPython.core.display.HTML object>"
      ]
     },
     "metadata": {},
     "output_type": "display_data"
    },
    {
     "data": {
      "text/html": [
       "<span style=\"color: red;\">Lost 3.69 betting on Minnesota vs San Antonio at 300</span>"
      ],
      "text/plain": [
       "<IPython.core.display.HTML object>"
      ]
     },
     "metadata": {},
     "output_type": "display_data"
    },
    {
     "data": {
      "text/html": [
       "<span style=\"color: red;\">Lost 4.46 betting on Oklahoma City vs LA Clippers at 300</span>"
      ],
      "text/plain": [
       "<IPython.core.display.HTML object>"
      ]
     },
     "metadata": {},
     "output_type": "display_data"
    },
    {
     "data": {
      "text/html": [
       "<span style=\"color: red;\">Lost 2.97 betting on Houston vs Golden State at 300</span>"
      ],
      "text/plain": [
       "<IPython.core.display.HTML object>"
      ]
     },
     "metadata": {},
     "output_type": "display_data"
    },
    {
     "data": {
      "text/html": [
       "<span style=\"color: red;\">Lost 4.63 betting on Sacramento vs Toronto at 300</span>"
      ],
      "text/plain": [
       "<IPython.core.display.HTML object>"
      ]
     },
     "metadata": {},
     "output_type": "display_data"
    },
    {
     "data": {
      "text/html": [
       "<span style=\"color: red;\">Lost 1.73 betting on Memphis vs Philadelphia at 300</span>"
      ],
      "text/plain": [
       "<IPython.core.display.HTML object>"
      ]
     },
     "metadata": {},
     "output_type": "display_data"
    },
    {
     "data": {
      "text/html": [
       "<span style=\"color: red;\">Lost 4.18 betting on Boston vs Charlotte at 300</span>"
      ],
      "text/plain": [
       "<IPython.core.display.HTML object>"
      ]
     },
     "metadata": {},
     "output_type": "display_data"
    },
    {
     "name": "stdout",
     "output_type": "stream",
     "text": [
      "Results for 2024-11-02 00:00:00: Start Bankroll: 89.37, End Bankroll: 41.17, Profit: -48.2, Win Rate: 0.00\n",
      "\n",
      "Processing 2024-11-03 00:00:00...\n"
     ]
    },
    {
     "data": {
      "text/html": [
       "<span style=\"color: red;\">Lost 2.27 betting on Atlanta vs New Orleans at 300</span>"
      ],
      "text/plain": [
       "<IPython.core.display.HTML object>"
      ]
     },
     "metadata": {},
     "output_type": "display_data"
    },
    {
     "data": {
      "text/html": [
       "<span style=\"color: red;\">Lost 2.98 betting on Dallas vs Orlando at 300</span>"
      ],
      "text/plain": [
       "<IPython.core.display.HTML object>"
      ]
     },
     "metadata": {},
     "output_type": "display_data"
    },
    {
     "data": {
      "text/html": [
       "<span style=\"color: red;\">Lost 2.27 betting on Brooklyn vs Detroit at 300</span>"
      ],
      "text/plain": [
       "<IPython.core.display.HTML object>"
      ]
     },
     "metadata": {},
     "output_type": "display_data"
    },
    {
     "name": "stdout",
     "output_type": "stream",
     "text": [
      "Results for 2024-11-03 00:00:00: Start Bankroll: 41.17, End Bankroll: 33.65, Profit: -7.52, Win Rate: 0.00\n",
      "\n",
      "Processing 2024-11-04 00:00:00...\n"
     ]
    },
    {
     "data": {
      "text/html": [
       "<span style=\"color: red;\">Lost 3.2 betting on Denver vs Toronto at 300</span>"
      ],
      "text/plain": [
       "<IPython.core.display.HTML object>"
      ]
     },
     "metadata": {},
     "output_type": "display_data"
    },
    {
     "data": {
      "text/html": [
       "<span style=\"color: red;\">Lost 2.58 betting on Chicago vs Utah at 300</span>"
      ],
      "text/plain": [
       "<IPython.core.display.HTML object>"
      ]
     },
     "metadata": {},
     "output_type": "display_data"
    },
    {
     "data": {
      "text/html": [
       "<span style=\"color: red;\">Lost 2.36 betting on LA Clippers vs San Antonio at 300</span>"
      ],
      "text/plain": [
       "<IPython.core.display.HTML object>"
      ]
     },
     "metadata": {},
     "output_type": "display_data"
    },
    {
     "data": {
      "text/html": [
       "<span style=\"color: red;\">Lost 2.23 betting on Phoenix vs Philadelphia at 300</span>"
      ],
      "text/plain": [
       "<IPython.core.display.HTML object>"
      ]
     },
     "metadata": {},
     "output_type": "display_data"
    },
    {
     "data": {
      "text/html": [
       "<span style=\"color: red;\">Lost 1.28 betting on Dallas vs Indiana at 300</span>"
      ],
      "text/plain": [
       "<IPython.core.display.HTML object>"
      ]
     },
     "metadata": {},
     "output_type": "display_data"
    },
    {
     "data": {
      "text/html": [
       "<span style=\"color: red;\">Lost 0.9 betting on Sacramento vs Miami at 300</span>"
      ],
      "text/plain": [
       "<IPython.core.display.HTML object>"
      ]
     },
     "metadata": {},
     "output_type": "display_data"
    },
    {
     "data": {
      "text/html": [
       "<span style=\"color: red;\">Lost 1.12 betting on Memphis vs Brooklyn at 300</span>"
      ],
      "text/plain": [
       "<IPython.core.display.HTML object>"
      ]
     },
     "metadata": {},
     "output_type": "display_data"
    },
    {
     "data": {
      "text/html": [
       "<span style=\"color: green;\">Won 5.64 betting 1.88 on Boston vs Atlanta at 300</span>"
      ],
      "text/plain": [
       "<IPython.core.display.HTML object>"
      ]
     },
     "metadata": {},
     "output_type": "display_data"
    },
    {
     "data": {
      "text/html": [
       "<span style=\"color: red;\">Lost 0.89 betting on Portland vs New Orleans at 300</span>"
      ],
      "text/plain": [
       "<IPython.core.display.HTML object>"
      ]
     },
     "metadata": {},
     "output_type": "display_data"
    },
    {
     "data": {
      "text/html": [
       "<span style=\"color: red;\">Lost 1.46 betting on LA Lakers vs Detroit at 300</span>"
      ],
      "text/plain": [
       "<IPython.core.display.HTML object>"
      ]
     },
     "metadata": {},
     "output_type": "display_data"
    },
    {
     "data": {
      "text/html": [
       "<span style=\"color: red;\">Lost 1.41 betting on Cleveland vs Milwaukee at 300</span>"
      ],
      "text/plain": [
       "<IPython.core.display.HTML object>"
      ]
     },
     "metadata": {},
     "output_type": "display_data"
    },
    {
     "data": {
      "text/html": [
       "<span style=\"color: red;\">Lost 0.52 betting on Houston vs New York at 300</span>"
      ],
      "text/plain": [
       "<IPython.core.display.HTML object>"
      ]
     },
     "metadata": {},
     "output_type": "display_data"
    },
    {
     "data": {
      "text/html": [
       "<span style=\"color: red;\">Lost 1.24 betting on Minnesota vs Charlotte at 300</span>"
      ],
      "text/plain": [
       "<IPython.core.display.HTML object>"
      ]
     },
     "metadata": {},
     "output_type": "display_data"
    },
    {
     "data": {
      "text/html": [
       "<span style=\"color: red;\">Lost 1.2 betting on Oklahoma City vs Orlando at 300</span>"
      ],
      "text/plain": [
       "<IPython.core.display.HTML object>"
      ]
     },
     "metadata": {},
     "output_type": "display_data"
    },
    {
     "data": {
      "text/html": [
       "<span style=\"color: red;\">Lost 1.07 betting on Golden State vs Washington at 300</span>"
      ],
      "text/plain": [
       "<IPython.core.display.HTML object>"
      ]
     },
     "metadata": {},
     "output_type": "display_data"
    },
    {
     "name": "stdout",
     "output_type": "stream",
     "text": [
      "Results for 2024-11-04 00:00:00: Start Bankroll: 33.65, End Bankroll: 17.83, Profit: -15.82, Win Rate: 0.07\n",
      "\n",
      "Processing 2024-11-05 00:00:00...\n",
      "Processing 2024-11-06 00:00:00...\n"
     ]
    },
    {
     "data": {
      "text/html": [
       "<span style=\"color: red;\">Lost 0.85 betting on LA Clippers vs Philadelphia at 300</span>"
      ],
      "text/plain": [
       "<IPython.core.display.HTML object>"
      ]
     },
     "metadata": {},
     "output_type": "display_data"
    },
    {
     "data": {
      "text/html": [
       "<span style=\"color: red;\">Lost 1.35 betting on Phoenix vs Miami at 300</span>"
      ],
      "text/plain": [
       "<IPython.core.display.HTML object>"
      ]
     },
     "metadata": {},
     "output_type": "display_data"
    },
    {
     "data": {
      "text/html": [
       "<span style=\"color: red;\">Lost 1.26 betting on Oklahoma City vs Denver at 300</span>"
      ],
      "text/plain": [
       "<IPython.core.display.HTML object>"
      ]
     },
     "metadata": {},
     "output_type": "display_data"
    },
    {
     "data": {
      "text/html": [
       "<span style=\"color: red;\">Lost 1.34 betting on Dallas vs Chicago at 300</span>"
      ],
      "text/plain": [
       "<IPython.core.display.HTML object>"
      ]
     },
     "metadata": {},
     "output_type": "display_data"
    },
    {
     "data": {
      "text/html": [
       "<span style=\"color: red;\">Lost 0.68 betting on Charlotte vs Detroit at 300</span>"
      ],
      "text/plain": [
       "<IPython.core.display.HTML object>"
      ]
     },
     "metadata": {},
     "output_type": "display_data"
    },
    {
     "data": {
      "text/html": [
       "<span style=\"color: red;\">Lost 0.88 betting on Indiana vs Orlando at 300</span>"
      ],
      "text/plain": [
       "<IPython.core.display.HTML object>"
      ]
     },
     "metadata": {},
     "output_type": "display_data"
    },
    {
     "data": {
      "text/html": [
       "<span style=\"color: red;\">Lost 0.94 betting on New York vs Atlanta at 300</span>"
      ],
      "text/plain": [
       "<IPython.core.display.HTML object>"
      ]
     },
     "metadata": {},
     "output_type": "display_data"
    },
    {
     "data": {
      "text/html": [
       "<span style=\"color: red;\">Lost 0.86 betting on Boston vs Golden State at 300</span>"
      ],
      "text/plain": [
       "<IPython.core.display.HTML object>"
      ]
     },
     "metadata": {},
     "output_type": "display_data"
    },
    {
     "data": {
      "text/html": [
       "<span style=\"color: red;\">Lost 0.81 betting on Houston vs San Antonio at 300</span>"
      ],
      "text/plain": [
       "<IPython.core.display.HTML object>"
      ]
     },
     "metadata": {},
     "output_type": "display_data"
    },
    {
     "data": {
      "text/html": [
       "<span style=\"color: red;\">Lost 0.55 betting on Memphis vs LA Lakers at 300</span>"
      ],
      "text/plain": [
       "<IPython.core.display.HTML object>"
      ]
     },
     "metadata": {},
     "output_type": "display_data"
    },
    {
     "data": {
      "text/html": [
       "<span style=\"color: red;\">Lost 0.71 betting on Cleveland vs New Orleans at 300</span>"
      ],
      "text/plain": [
       "<IPython.core.display.HTML object>"
      ]
     },
     "metadata": {},
     "output_type": "display_data"
    },
    {
     "data": {
      "text/html": [
       "<span style=\"color: red;\">Lost 0.71 betting on Sacramento vs Toronto at 300</span>"
      ],
      "text/plain": [
       "<IPython.core.display.HTML object>"
      ]
     },
     "metadata": {},
     "output_type": "display_data"
    },
    {
     "name": "stdout",
     "output_type": "stream",
     "text": [
      "Results for 2024-11-06 00:00:00: Start Bankroll: 17.83, End Bankroll: 6.89, Profit: -10.94, Win Rate: 0.00\n",
      "\n"
     ]
    },
    {
     "data": {
      "image/png": "[encoded data removed]",
      "text/plain": [
       "<Figure size 640x480 with 1 Axes>"
      ]
     },
     "metadata": {},
     "output_type": "display_data"
    },
    {
     "name": "stdout",
     "output_type": "stream",
     "text": [
      "Final Bankroll: 6.890000000000708\n",
      "Total Profit: -2493.109999999999\n"
     ]
    }
   ],
   "source": [
    "# Example usage with defined constants\n",
    "final_bankroll, total_profit, bet_results = backtest_model(\n",
    "    df=df,\n",
    "    model=ml_model,\n",
    "    feature_cols=df.drop(drop_cols, axis=1).columns,  # Feature columns\n",
    "    label_col='q3_result',\n",
    "    odds_col='Momentum',\n",
    "    start_date='2024-10-22',\n",
    "    end_date='2024-11-06',\n",
    "    initial_bankroll=2500,\n",
    "    bet_size=2, \n",
    "    threshold=1\n",
    ")\n",
    "\n",
    "# Plotting the results\n",
    "plt.plot(bet_results)\n",
    "plt.title('Bankroll Over Time')\n",
    "plt.xlabel('Days')\n",
    "plt.ylabel('Bankroll')\n",
    "plt.show()\n",
    "\n",
    "print(f\"Final Bankroll: {final_bankroll}\")\n",
    "print(f\"Total Profit: {total_profit}\")"
   ]
  },
  {
   "cell_type": "code",
   "execution_count": 127,
   "metadata": {},
   "outputs": [
    {
     "name": "stdout",
     "output_type": "stream",
     "text": [
      "DONE\n"
     ]
    }
   ],
   "source": [
    "from selenium.webdriver.common.by import By\n",
    "from IPython.display import Javascript\n",
    "from selenium import webdriver\n",
    "from selenium.webdriver.chrome.options import Options\n",
    "from datetime import datetime\n",
    "import time\n",
    "\n",
    "team_map = {\n",
    "    'Hawks': 'Atlanta',\n",
    "    'Nets': 'Brooklyn',\n",
    "    'Celtics': 'Boston',\n",
    "    'Hornets': 'Charlotte',\n",
    "    'Bulls': 'Chicago',\n",
    "    'Cavaliers': 'Cleveland',\n",
    "    'Mavericks': 'Dallas',\n",
    "    'Nuggets': 'Denver',\n",
    "    'Pistons': 'Detroit',\n",
    "    'Warriors': 'Golden State',\n",
    "    'Rockets': 'Houston',\n",
    "    'Pacers': 'Indiana',\n",
    "    'Clippers': 'LA Clippers',\n",
    "    'Lakers': 'LA Lakers',\n",
    "    'Grizzlies': 'Memphis',\n",
    "    'Heat': 'Miami',\n",
    "    'Bucks': 'Milwaukee',\n",
    "    'Timberwolves': 'Minnesota',\n",
    "    'Pelicans': 'New Orleans',\n",
    "    'Knicks': 'New York',\n",
    "    'Thunder': 'Oklahoma City',\n",
    "    'Magic': 'Orlando',\n",
    "    '76ers': 'Philadelphia',\n",
    "    'Suns': 'Phoenix',\n",
    "    'Trail Blazers': 'Portland',\n",
    "    'Kings': 'Sacramento',\n",
    "    'Spurs': 'San Antonio',\n",
    "    'Raptors': 'Toronto',\n",
    "    'Jazz': 'Utah',\n",
    "    'Wizards': 'Washington'\n",
    "}\n",
    "\n",
    "# Initialize headless WebDriver\n",
    "options = Options()\n",
    "options.add_argument(\"--headless\")\n",
    "driver = webdriver.Chrome(options=options)\n",
    "\n",
    "# get todays date as YYYY-MM-DD\n",
    "today = datetime.now().strftime('%Y-%m-%d')\n",
    "driver.get(f'https://www.scoresandodds.com/nba?date={today}')\n",
    "\n",
    "# Wait for page to load\n",
    "time.sleep(3)\n",
    "\n",
    "# Find the table by its class\n",
    "tables = driver.find_elements(By.CLASS_NAME, 'event-card-table')\n",
    "\n",
    "current_odds = {}\n",
    "games = []\n",
    "team = None\n",
    "for table in tables:\n",
    "    # Find all rows in the table\n",
    "    rows = table.find_elements(By.CLASS_NAME, 'event-card-row')\n",
    "    all_moves = [float(''.join(c for c in m.text if (c.isdigit() or c =='.' or c == '-'))) for m in table.find_elements(By.CSS_SELECTOR, '[data-tab*=\"#line-movements\"] .data-value')]\n",
    "    s_moves = []\n",
    "    t_moves = []\n",
    "    for m in all_moves:\n",
    "      if abs(m) < 100:\n",
    "        s_moves.append(m)\n",
    "      else:\n",
    "        t_moves.append(m)\n",
    "\n",
    "    i = 0\n",
    "    teams = []\n",
    "\n",
    "    home_row = table.find_element(By.CSS_SELECTOR, '[data-side=\"home\"]')\n",
    "    away_row = table.find_element(By.CSS_SELECTOR, '[data-side=\"away\"]')\n",
    "\n",
    "    home_team = home_row.find_element(By.CSS_SELECTOR, '.team-name span').text\n",
    "    away_team = away_row.find_element(By.CSS_SELECTOR, '.team-name span').text\n",
    "\n",
    "    raw_h_ml = home_row.find_element(By.CSS_SELECTOR, '[data-field=\"current-moneyline\"] .data-value').text\n",
    "    raw_h_ml = -110 if raw_h_ml == 'even' else raw_h_ml\n",
    "    h_ml = int(raw_h_ml)\n",
    "    h_spread = float(''.join(c for c in home_row.find_element(By.CSS_SELECTOR, '[data-field=\"current-spread\"] .data-value').text if (c.isdigit() or c == '.' or c == '-')))\n",
    "    h_total = float(''.join(c for c in home_row.find_element(By.CSS_SELECTOR, '[data-field=\"current-total\"] .data-value').text if (c.isdigit() or c == '.' or c == '-')))\n",
    "\n",
    "    home = ['REF', h_ml, 'H', team_map[away_team], h_spread, h_total, s_moves[-3:], t_moves[-3:], 'CREW', 'UMPIRE']\n",
    "\n",
    "    raw_a_ml = away_row.find_element(By.CSS_SELECTOR, '[data-field=\"current-moneyline\"] .data-value').text\n",
    "    raw_a_ml = -110 if raw_a_ml == 'even' else raw_a_ml\n",
    "    a_ml = int(raw_a_ml)\n",
    "    a_spread = float(''.join(c for c in away_row.find_element(By.CSS_SELECTOR, '[data-field=\"current-spread\"] .data-value').text if (c.isdigit() or c == '.' or c == '-')))\n",
    "    a_total = float(''.join(c for c in away_row.find_element(By.CSS_SELECTOR, '[data-field=\"current-total\"] .data-value').text if (c.isdigit() or c == '.' or c == '-')))\n",
    "\n",
    "    away = ['REF', a_ml, 'R', team_map[home_team], a_spread, a_total, s_moves[-3:], t_moves[-3:], 'CREW', 'UMPIRE']\n",
    "\n",
    "    current_odds[team_map[home_team]] = home\n",
    "    current_odds[team_map[away_team]] = away\n",
    "\n",
    "driver.quit()\n",
    "print('DONE')\n",
    "\n"
   ]
  },
  {
   "cell_type": "code",
   "execution_count": 129,
   "metadata": {},
   "outputs": [],
   "source": [
    "from bs4 import BeautifulSoup\n",
    "\n",
    "def parse_referee_data(html_content):\n",
    "    soup = BeautifulSoup(html_content, 'html.parser')\n",
    "    table = soup.find('table', class_='table')\n",
    "    rows = table.find_all('tr')[1:]  # Skipping the header row\n",
    "\n",
    "    ref_data = {}\n",
    "    for row in rows:\n",
    "        columns = row.find_all('td')\n",
    "        if len(columns) < 4:\n",
    "            continue  # Skip rows that don't have enough columns\n",
    "\n",
    "        game = columns[0].get_text(strip=True)\n",
    "        crew_chief = columns[1].get_text(strip=True)\n",
    "        referee = columns[2].get_text(strip=True)\n",
    "        umpire = columns[3].get_text(strip=True)\n",
    "\n",
    "        # Split the game into two teams\n",
    "        teams = game.split(' @ ')\n",
    "        if len(teams) != 2:\n",
    "            continue  # Skip if format is not as expected\n",
    "        city1 = teams[0] #_city_map.get(teams[0].split()[-1] + \" \" + teams[0].split()[-2], \"Unknown\")\n",
    "        city2 = teams[1] #_city_map.get(teams[1].split()[-1] + \" \" + teams[1].split()[-2], \"Unknown\")\n",
    "\n",
    "        ref_data[city1] = [crew_chief, referee, umpire]\n",
    "        ref_data[city2] = [crew_chief, referee, umpire]\n",
    "\n",
    "    return ref_data\n",
    "\n",
    "def remove_ref_keys(data_dict):\n",
    "    return {k: v for k, v in data_dict.items() if v[0] != 'REF'}"
   ]
  },
  {
   "cell_type": "code",
   "execution_count": 130,
   "metadata": {},
   "outputs": [
    {
     "data": {
      "text/html": [
       "<div>\n",
       "<style scoped>\n",
       "    .dataframe tbody tr th:only-of-type {\n",
       "        vertical-align: middle;\n",
       "    }\n",
       "\n",
       "    .dataframe tbody tr th {\n",
       "        vertical-align: top;\n",
       "    }\n",
       "\n",
       "    .dataframe thead th {\n",
       "        text-align: right;\n",
       "    }\n",
       "</style>\n",
       "<table border=\"1\" class=\"dataframe\">\n",
       "  <thead>\n",
       "    <tr style=\"text-align: right;\">\n",
       "      <th></th>\n",
       "      <th>Detroit</th>\n",
       "      <th>Atlanta</th>\n",
       "      <th>Orlando</th>\n",
       "      <th>New Orleans</th>\n",
       "      <th>Charlotte</th>\n",
       "      <th>Indiana</th>\n",
       "      <th>Cleveland</th>\n",
       "      <th>Golden State</th>\n",
       "      <th>New York</th>\n",
       "      <th>Milwaukee</th>\n",
       "      <th>...</th>\n",
       "      <th>Memphis</th>\n",
       "      <th>Washington</th>\n",
       "      <th>Denver</th>\n",
       "      <th>Miami</th>\n",
       "      <th>Minnesota</th>\n",
       "      <th>Portland</th>\n",
       "      <th>Sacramento</th>\n",
       "      <th>LA Clippers</th>\n",
       "      <th>LA Lakers</th>\n",
       "      <th>Philadelphia</th>\n",
       "    </tr>\n",
       "  </thead>\n",
       "  <tbody>\n",
       "    <tr>\n",
       "      <th>0</th>\n",
       "      <td>James Capers</td>\n",
       "      <td>James Capers</td>\n",
       "      <td>Pat Fraher</td>\n",
       "      <td>Pat Fraher</td>\n",
       "      <td>Josh Tiven</td>\n",
       "      <td>Josh Tiven</td>\n",
       "      <td>Ben Taylor</td>\n",
       "      <td>Ben Taylor</td>\n",
       "      <td>John Goble</td>\n",
       "      <td>John Goble</td>\n",
       "      <td>...</td>\n",
       "      <td>Bill Kennedy</td>\n",
       "      <td>Bill Kennedy</td>\n",
       "      <td>Brian Forte</td>\n",
       "      <td>Brian Forte</td>\n",
       "      <td>James Williams</td>\n",
       "      <td>James Williams</td>\n",
       "      <td>Scott Foster</td>\n",
       "      <td>Scott Foster</td>\n",
       "      <td>Zach Zarba</td>\n",
       "      <td>Zach Zarba</td>\n",
       "    </tr>\n",
       "    <tr>\n",
       "      <th>1</th>\n",
       "      <td>-122</td>\n",
       "      <td>102</td>\n",
       "      <td>-238</td>\n",
       "      <td>195</td>\n",
       "      <td>220</td>\n",
       "      <td>-270</td>\n",
       "      <td>-175</td>\n",
       "      <td>145</td>\n",
       "      <td>-270</td>\n",
       "      <td>220</td>\n",
       "      <td>...</td>\n",
       "      <td>-298</td>\n",
       "      <td>240</td>\n",
       "      <td>-142</td>\n",
       "      <td>120</td>\n",
       "      <td>-800</td>\n",
       "      <td>550</td>\n",
       "      <td>-250</td>\n",
       "      <td>205</td>\n",
       "      <td>-298</td>\n",
       "      <td>240</td>\n",
       "    </tr>\n",
       "    <tr>\n",
       "      <th>2</th>\n",
       "      <td>H</td>\n",
       "      <td>R</td>\n",
       "      <td>H</td>\n",
       "      <td>R</td>\n",
       "      <td>H</td>\n",
       "      <td>R</td>\n",
       "      <td>H</td>\n",
       "      <td>R</td>\n",
       "      <td>H</td>\n",
       "      <td>R</td>\n",
       "      <td>...</td>\n",
       "      <td>H</td>\n",
       "      <td>R</td>\n",
       "      <td>H</td>\n",
       "      <td>R</td>\n",
       "      <td>H</td>\n",
       "      <td>R</td>\n",
       "      <td>H</td>\n",
       "      <td>R</td>\n",
       "      <td>H</td>\n",
       "      <td>R</td>\n",
       "    </tr>\n",
       "    <tr>\n",
       "      <th>3</th>\n",
       "      <td>Atlanta</td>\n",
       "      <td>Detroit</td>\n",
       "      <td>New Orleans</td>\n",
       "      <td>Orlando</td>\n",
       "      <td>Indiana</td>\n",
       "      <td>Charlotte</td>\n",
       "      <td>Golden State</td>\n",
       "      <td>Cleveland</td>\n",
       "      <td>Milwaukee</td>\n",
       "      <td>New York</td>\n",
       "      <td>...</td>\n",
       "      <td>Washington</td>\n",
       "      <td>Memphis</td>\n",
       "      <td>Miami</td>\n",
       "      <td>Denver</td>\n",
       "      <td>Portland</td>\n",
       "      <td>Minnesota</td>\n",
       "      <td>LA Clippers</td>\n",
       "      <td>Sacramento</td>\n",
       "      <td>Philadelphia</td>\n",
       "      <td>LA Lakers</td>\n",
       "    </tr>\n",
       "    <tr>\n",
       "      <th>4</th>\n",
       "      <td>-1.5</td>\n",
       "      <td>1.5</td>\n",
       "      <td>-6.0</td>\n",
       "      <td>6.0</td>\n",
       "      <td>7.0</td>\n",
       "      <td>-7.0</td>\n",
       "      <td>-4.0</td>\n",
       "      <td>4.0</td>\n",
       "      <td>-7.0</td>\n",
       "      <td>7.0</td>\n",
       "      <td>...</td>\n",
       "      <td>-7.5</td>\n",
       "      <td>7.5</td>\n",
       "      <td>-2.5</td>\n",
       "      <td>2.5</td>\n",
       "      <td>-12.5</td>\n",
       "      <td>12.5</td>\n",
       "      <td>-6.5</td>\n",
       "      <td>6.5</td>\n",
       "      <td>-7.0</td>\n",
       "      <td>7.0</td>\n",
       "    </tr>\n",
       "    <tr>\n",
       "      <th>5</th>\n",
       "      <td>227.5</td>\n",
       "      <td>227.5</td>\n",
       "      <td>212.0</td>\n",
       "      <td>212.0</td>\n",
       "      <td>236.0</td>\n",
       "      <td>236.0</td>\n",
       "      <td>231.0</td>\n",
       "      <td>231.0</td>\n",
       "      <td>223.5</td>\n",
       "      <td>223.5</td>\n",
       "      <td>...</td>\n",
       "      <td>231.5</td>\n",
       "      <td>231.5</td>\n",
       "      <td>221.0</td>\n",
       "      <td>221.0</td>\n",
       "      <td>219.5</td>\n",
       "      <td>219.5</td>\n",
       "      <td>223.5</td>\n",
       "      <td>223.5</td>\n",
       "      <td>224.5</td>\n",
       "      <td>224.5</td>\n",
       "    </tr>\n",
       "    <tr>\n",
       "      <th>6</th>\n",
       "      <td>[-1.0, -1.0, -1.5]</td>\n",
       "      <td>[-1.0, -1.0, -1.5]</td>\n",
       "      <td>[-6.0, -6.0, -6.0]</td>\n",
       "      <td>[-6.0, -6.0, -6.0]</td>\n",
       "      <td>[-7.0, -7.0, -7.0]</td>\n",
       "      <td>[-7.0, -7.0, -7.0]</td>\n",
       "      <td>[-4.0, -4.0, -4.0]</td>\n",
       "      <td>[-4.0, -4.0, -4.0]</td>\n",
       "      <td>[-7.0, -6.5, -6.5]</td>\n",
       "      <td>[-7.0, -6.5, -6.5]</td>\n",
       "      <td>...</td>\n",
       "      <td>[-7.5, -7.5, -7.5]</td>\n",
       "      <td>[-7.5, -7.5, -7.5]</td>\n",
       "      <td>[-2.5, -2.5, -2.5]</td>\n",
       "      <td>[-2.5, -2.5, -2.5]</td>\n",
       "      <td>[-12.5, -12.5, -12.0]</td>\n",
       "      <td>[-12.5, -12.5, -12.0]</td>\n",
       "      <td>[-6.5, -6.5, -7.0]</td>\n",
       "      <td>[-6.5, -6.5, -7.0]</td>\n",
       "      <td>[-7.0, -7.0, -7.0]</td>\n",
       "      <td>[-7.0, -7.0, -7.0]</td>\n",
       "    </tr>\n",
       "    <tr>\n",
       "      <th>7</th>\n",
       "      <td>[227.5, 227.5, 227.5]</td>\n",
       "      <td>[227.5, 227.5, 227.5]</td>\n",
       "      <td>[212.0, 212.0, 211.5]</td>\n",
       "      <td>[212.0, 212.0, 211.5]</td>\n",
       "      <td>[236.0, 236.0, 236.0]</td>\n",
       "      <td>[236.0, 236.0, 236.0]</td>\n",
       "      <td>[231.0, 231.0, 231.0]</td>\n",
       "      <td>[231.0, 231.0, 231.0]</td>\n",
       "      <td>[223.5, 223.5, 223.5]</td>\n",
       "      <td>[223.5, 223.5, 223.5]</td>\n",
       "      <td>...</td>\n",
       "      <td>[231.5, 231.5, 231.5]</td>\n",
       "      <td>[231.5, 231.5, 231.5]</td>\n",
       "      <td>[221.0, 221.0, 221.0]</td>\n",
       "      <td>[221.0, 221.0, 221.0]</td>\n",
       "      <td>[219.5, 219.5, 219.5]</td>\n",
       "      <td>[219.5, 219.5, 219.5]</td>\n",
       "      <td>[223.5, 223.5, 223.5]</td>\n",
       "      <td>[223.5, 223.5, 223.5]</td>\n",
       "      <td>[224.5, 224.0, 224.0]</td>\n",
       "      <td>[224.5, 224.0, 224.0]</td>\n",
       "    </tr>\n",
       "    <tr>\n",
       "      <th>8</th>\n",
       "      <td>Ashley Moyer-Gleich</td>\n",
       "      <td>Ashley Moyer-Gleich</td>\n",
       "      <td>Ray Acosta</td>\n",
       "      <td>Ray Acosta</td>\n",
       "      <td>Andy Nagy</td>\n",
       "      <td>Andy Nagy</td>\n",
       "      <td>Rodney Mott</td>\n",
       "      <td>Rodney Mott</td>\n",
       "      <td>Tre Maddox</td>\n",
       "      <td>Tre Maddox</td>\n",
       "      <td>...</td>\n",
       "      <td>Dedric Taylor</td>\n",
       "      <td>Dedric Taylor</td>\n",
       "      <td>Natalie Sago</td>\n",
       "      <td>Natalie Sago</td>\n",
       "      <td>JB DeRosa</td>\n",
       "      <td>JB DeRosa</td>\n",
       "      <td>John Butler</td>\n",
       "      <td>John Butler</td>\n",
       "      <td>Marat Kogut</td>\n",
       "      <td>Marat Kogut</td>\n",
       "    </tr>\n",
       "    <tr>\n",
       "      <th>9</th>\n",
       "      <td>Nate Green</td>\n",
       "      <td>Nate Green</td>\n",
       "      <td>Derrick Collins</td>\n",
       "      <td>Derrick Collins</td>\n",
       "      <td>Intae Hwang</td>\n",
       "      <td>Intae Hwang</td>\n",
       "      <td>John Conley</td>\n",
       "      <td>John Conley</td>\n",
       "      <td>Matt Kallio</td>\n",
       "      <td>Matt Kallio</td>\n",
       "      <td>...</td>\n",
       "      <td>Michael Smith</td>\n",
       "      <td>Michael Smith</td>\n",
       "      <td>Simone Jelks</td>\n",
       "      <td>Simone Jelks</td>\n",
       "      <td>Jenna Schroeder</td>\n",
       "      <td>Jenna Schroeder</td>\n",
       "      <td>Danielle Scott</td>\n",
       "      <td>Danielle Scott</td>\n",
       "      <td>Che Flores</td>\n",
       "      <td>Che Flores</td>\n",
       "    </tr>\n",
       "  </tbody>\n",
       "</table>\n",
       "<p>10 rows × 26 columns</p>\n",
       "</div>"
      ],
      "text/plain": [
       "                 Detroit                Atlanta                Orlando  \\\n",
       "0           James Capers           James Capers             Pat Fraher   \n",
       "1                   -122                    102                   -238   \n",
       "2                      H                      R                      H   \n",
       "3                Atlanta                Detroit            New Orleans   \n",
       "4                   -1.5                    1.5                   -6.0   \n",
       "5                  227.5                  227.5                  212.0   \n",
       "6     [-1.0, -1.0, -1.5]     [-1.0, -1.0, -1.5]     [-6.0, -6.0, -6.0]   \n",
       "7  [227.5, 227.5, 227.5]  [227.5, 227.5, 227.5]  [212.0, 212.0, 211.5]   \n",
       "8    Ashley Moyer-Gleich    Ashley Moyer-Gleich             Ray Acosta   \n",
       "9             Nate Green             Nate Green        Derrick Collins   \n",
       "\n",
       "             New Orleans              Charlotte                Indiana  \\\n",
       "0             Pat Fraher             Josh Tiven             Josh Tiven   \n",
       "1                    195                    220                   -270   \n",
       "2                      R                      H                      R   \n",
       "3                Orlando                Indiana              Charlotte   \n",
       "4                    6.0                    7.0                   -7.0   \n",
       "5                  212.0                  236.0                  236.0   \n",
       "6     [-6.0, -6.0, -6.0]     [-7.0, -7.0, -7.0]     [-7.0, -7.0, -7.0]   \n",
       "7  [212.0, 212.0, 211.5]  [236.0, 236.0, 236.0]  [236.0, 236.0, 236.0]   \n",
       "8             Ray Acosta              Andy Nagy              Andy Nagy   \n",
       "9        Derrick Collins            Intae Hwang            Intae Hwang   \n",
       "\n",
       "               Cleveland           Golden State               New York  \\\n",
       "0             Ben Taylor             Ben Taylor             John Goble   \n",
       "1                   -175                    145                   -270   \n",
       "2                      H                      R                      H   \n",
       "3           Golden State              Cleveland              Milwaukee   \n",
       "4                   -4.0                    4.0                   -7.0   \n",
       "5                  231.0                  231.0                  223.5   \n",
       "6     [-4.0, -4.0, -4.0]     [-4.0, -4.0, -4.0]     [-7.0, -6.5, -6.5]   \n",
       "7  [231.0, 231.0, 231.0]  [231.0, 231.0, 231.0]  [223.5, 223.5, 223.5]   \n",
       "8            Rodney Mott            Rodney Mott             Tre Maddox   \n",
       "9            John Conley            John Conley            Matt Kallio   \n",
       "\n",
       "               Milwaukee  ...                Memphis             Washington  \\\n",
       "0             John Goble  ...           Bill Kennedy           Bill Kennedy   \n",
       "1                    220  ...                   -298                    240   \n",
       "2                      R  ...                      H                      R   \n",
       "3               New York  ...             Washington                Memphis   \n",
       "4                    7.0  ...                   -7.5                    7.5   \n",
       "5                  223.5  ...                  231.5                  231.5   \n",
       "6     [-7.0, -6.5, -6.5]  ...     [-7.5, -7.5, -7.5]     [-7.5, -7.5, -7.5]   \n",
       "7  [223.5, 223.5, 223.5]  ...  [231.5, 231.5, 231.5]  [231.5, 231.5, 231.5]   \n",
       "8             Tre Maddox  ...          Dedric Taylor          Dedric Taylor   \n",
       "9            Matt Kallio  ...          Michael Smith          Michael Smith   \n",
       "\n",
       "                  Denver                  Miami              Minnesota  \\\n",
       "0            Brian Forte            Brian Forte         James Williams   \n",
       "1                   -142                    120                   -800   \n",
       "2                      H                      R                      H   \n",
       "3                  Miami                 Denver               Portland   \n",
       "4                   -2.5                    2.5                  -12.5   \n",
       "5                  221.0                  221.0                  219.5   \n",
       "6     [-2.5, -2.5, -2.5]     [-2.5, -2.5, -2.5]  [-12.5, -12.5, -12.0]   \n",
       "7  [221.0, 221.0, 221.0]  [221.0, 221.0, 221.0]  [219.5, 219.5, 219.5]   \n",
       "8           Natalie Sago           Natalie Sago              JB DeRosa   \n",
       "9           Simone Jelks           Simone Jelks        Jenna Schroeder   \n",
       "\n",
       "                Portland             Sacramento            LA Clippers  \\\n",
       "0         James Williams           Scott Foster           Scott Foster   \n",
       "1                    550                   -250                    205   \n",
       "2                      R                      H                      R   \n",
       "3              Minnesota            LA Clippers             Sacramento   \n",
       "4                   12.5                   -6.5                    6.5   \n",
       "5                  219.5                  223.5                  223.5   \n",
       "6  [-12.5, -12.5, -12.0]     [-6.5, -6.5, -7.0]     [-6.5, -6.5, -7.0]   \n",
       "7  [219.5, 219.5, 219.5]  [223.5, 223.5, 223.5]  [223.5, 223.5, 223.5]   \n",
       "8              JB DeRosa            John Butler            John Butler   \n",
       "9        Jenna Schroeder         Danielle Scott         Danielle Scott   \n",
       "\n",
       "               LA Lakers           Philadelphia  \n",
       "0             Zach Zarba             Zach Zarba  \n",
       "1                   -298                    240  \n",
       "2                      H                      R  \n",
       "3           Philadelphia              LA Lakers  \n",
       "4                   -7.0                    7.0  \n",
       "5                  224.5                  224.5  \n",
       "6     [-7.0, -7.0, -7.0]     [-7.0, -7.0, -7.0]  \n",
       "7  [224.5, 224.0, 224.0]  [224.5, 224.0, 224.0]  \n",
       "8            Marat Kogut            Marat Kogut  \n",
       "9             Che Flores             Che Flores  \n",
       "\n",
       "[10 rows x 26 columns]"
      ]
     },
     "metadata": {},
     "output_type": "display_data"
    }
   ],
   "source": [
    "options = Options()\n",
    "options.add_argument(\"--headless\")\n",
    "driver = webdriver.Chrome(options=options)\n",
    "driver.get('https://official.nba.com/referee-assignments/')\n",
    "\n",
    "# Wait for JavaScript to load\n",
    "time.sleep(3)\n",
    "\n",
    "# Get the HTML content of the page\n",
    "html_content = driver.page_source\n",
    "\n",
    "# Close the browser\n",
    "driver.quit()\n",
    "\n",
    "referee_data = parse_referee_data(html_content)\n",
    "\n",
    "for city, refs in referee_data.items():\n",
    "    try:\n",
    "        if city == 'L.A. Lakers':\n",
    "          city = 'LA Lakers'\n",
    "        current_odds[city][0] = ' '.join(refs[0].split(' ')[:-1])\n",
    "        current_odds[city][-2] = ' '.join(refs[1].split(' ')[:-1])\n",
    "        current_odds[city][-1] = ' '.join(refs[2].split(' ')[:-1])\n",
    "    except:\n",
    "      pass\n",
    "\n",
    "processed_data = remove_ref_keys(current_odds)\n",
    "TODAY_MAP = processed_data\n",
    "display(pd.DataFrame(TODAY_MAP))"
   ]
  },
  {
   "cell_type": "code",
   "execution_count": 148,
   "metadata": {},
   "outputs": [],
   "source": [
    "t_teams = list(TODAY_MAP.keys())\n",
    "\n",
    "def get_most_recent_rows(df, teams):\n",
    "    most_recent_rows = []\n",
    "    for team in teams:\n",
    "        team_df = df[df['TEAM'] == team]\n",
    "        if not team_df.empty:\n",
    "            most_recent_row = team_df.loc[team_df['DATE'].idxmax()]\n",
    "            most_recent_rows.append(most_recent_row)\n",
    "    return pd.DataFrame(most_recent_rows)\n",
    "\n",
    "# Step 1: Result of the Game\n",
    "def assign_opps(group):\n",
    "\n",
    "    t1 = group.iloc[0]['Avg_3_game_DEFF', 'Avg_5_game_DEFF', 'Season_Avg_DEFF', 'Avg_3_game_OEFF', 'Avg_5_game_OEFF', 'Season_Avg_OEFF', 'Avg_3_game_PACE', 'Avg_5_game_PACE', 'Season_Avg_PACE', 'Avg_3_game_POSS', 'Avg_5_game_POSS', 'Season_Avg_POSS', 'Avg_3_game_F', 'Avg_5_game_F', 'Season_Avg_PTS', 'Elo_Rating', 'Momentum']\n",
    "    t2 = group.iloc[1]['Avg_3_game_DEFF', 'Avg_5_game_DEFF', 'Season_Avg_DEFF', 'Avg_3_game_OEFF', 'Avg_5_game_OEFF', 'Season_Avg_OEFF', 'Avg_3_game_PACE', 'Avg_5_game_PACE', 'Season_Avg_PACE', 'Avg_3_game_POSS', 'Avg_5_game_POSS', 'Season_Avg_POSS', 'Avg_3_game_PTS', 'Avg_5_game_PTS', 'Season_Avg_PTS', 'Elo_Rating', 'Momentum']\n",
    "\n",
    "    group.iloc[0]['Opp_Avg_3_game_DEFF', 'Opp_Avg_5_game_DEFF', 'Opp_Season_Avg_DEFF', 'Opp_Avg_3_game_OEFF', 'Opp_Avg_5_game_OEFF', 'Opp_Season_Avg_OEFF', 'Opp_Avg_3_game_PACE', 'Opp_Avg_5_game_PACE', 'Opp_Season_Avg_PACE', 'Opp_Avg_3_game_POSS', 'Opp_Avg_5_game_POSS', 'Opp_Season_Avg_POSS', 'Opp_Avg_3_game_PTS', 'Opp_Avg_5_game_PTS', 'Opp_Season_Avg_PTS', 'Opp_Elo', 'Opp_Momentum'] = t2\n",
    "    group.iloc[1]['Opp_Avg_3_game_DEFF', 'Opp_Avg_5_game_DEFF', 'Opp_Season_Avg_DEFF', 'Opp_Avg_3_game_OEFF', 'Opp_Avg_5_game_OEFF', 'Opp_Season_Avg_OEFF', 'Opp_Avg_3_game_PACE', 'Opp_Avg_5_game_PACE', 'Opp_Season_Avg_PACE', 'Opp_Avg_3_game_POSS', 'Opp_Avg_5_game_POSS', 'Opp_Season_Avg_POSS', 'Opp_Avg_3_game_PTS', 'Opp_Avg_5_game_PTS', 'Opp_Season_Avg_PTS', 'Opp_Elo', 'Opp_Momentum'] = t1\n",
    "\n",
    "    return group\n",
    "\n",
    "# Get the most recent rows\n",
    "tdf = get_most_recent_rows(df, t_teams)\n",
    "\n",
    "ref_map = {team: details[0] for team, details in TODAY_MAP.items()}\n",
    "crew_map = {team: details[-2] for team, details in TODAY_MAP.items()}\n",
    "moneyline_map = {team: details[1] for team, details in TODAY_MAP.items()}\n",
    "venue_map = {team: details[2] for team, details in TODAY_MAP.items()}\n",
    "opp_map = {team: details[3] for team, details in TODAY_MAP.items()}\n",
    "spread_map = {team: details[4] for team, details in TODAY_MAP.items()}\n",
    "total_map = {team: details[5] for team, details in TODAY_MAP.items()}\n",
    "s_movement_map_1 = {team: details[6][0] for team, details in TODAY_MAP.items()}\n",
    "s_movement_map_2 = {team: details[6][1] for team, details in TODAY_MAP.items()}\n",
    "s_movement_map_3 = {team: details[6][2] for team, details in TODAY_MAP.items()}\n",
    "t_movement_map_1 = {team: details[7][0] for team, details in TODAY_MAP.items()}\n",
    "t_movement_map_2 = {team: details[7][1] for team, details in TODAY_MAP.items()}\n",
    "t_movement_map_3 = {team: details[7][2] for team, details in TODAY_MAP.items()}\n",
    "\n",
    "\n",
    "tdf['DATE'] = tdf['DATE'].astype('datetime64[ns]')\n",
    "tdf['MAIN REF'] = tdf['TEAM'].map(ref_map)\n",
    "tdf['CREW'] = tdf['TEAM'].map(ref_map)\n",
    "tdf['MONEYLINE'] = tdf['TEAM'].map(moneyline_map)\n",
    "tdf['MONEYLINE'] = tdf['TEAM'].map(moneyline_map)\n",
    "tdf['CLOSING_SPREAD'] = tdf['TEAM'].map(spread_map)\n",
    "tdf['CLOSING_TOTAL'] = tdf['TEAM'].map(total_map)\n",
    "tdf['Opponent'] = tdf['TEAM'].map(opp_map)\n",
    "\n",
    "tdf['SPREAD_LINE_MOVEMENT_1'] = tdf['TEAM'].map(s_movement_map_1)\n",
    "tdf['SPREAD_LINE_MOVEMENT_2'] = tdf['TEAM'].map(s_movement_map_2)\n",
    "tdf['SPREAD_LINE_MOVEMENT_3'] = tdf['TEAM'].map(s_movement_map_3)\n",
    "\n",
    "tdf['TOTAL_LINE_MOVEMENT_1'] = tdf['TEAM'].map(t_movement_map_1)\n",
    "tdf['TOTAL_LINE_MOVEMENT_2'] = tdf['TEAM'].map(t_movement_map_2)\n",
    "tdf['TOTAL_LINE_MOVEMENT_3'] = tdf['TEAM'].map(t_movement_map_3)"
   ]
  },
  {
   "cell_type": "code",
   "execution_count": 150,
   "metadata": {},
   "outputs": [],
   "source": [
    "\n",
    "# Step 1: Result of the Game\n",
    "def assign_results(group):\n",
    "    group['MAIN REF'] = [group['MAIN REF'].iloc[0]]*2\n",
    "    if group.iloc[0]['PTS'] > group.iloc[1]['PTS']:\n",
    "        group['Result'] = [1, 0]\n",
    "    else:\n",
    "        group['Result'] = [0, 1]\n",
    "\n",
    "    group['Opp_Avg_3_game_PTS'] = [group.iloc[1]['Avg_3_game_PTS'], group.iloc[0]['Avg_3_game_PTS']]\n",
    "    group['Opp_Avg_2_game_PTS'] = [group.iloc[1]['Avg_5_game_PTS'], group.iloc[0]['Avg_5_game_PTS']]\n",
    "    group['Opp_Season_Avg_PTS'] = [group.iloc[1]['Season_Avg_PTS'], group.iloc[0]['Season_Avg_PTS']]\n",
    "\n",
    "    group['Opp_Avg_3_game_POSS'] = [group.iloc[1]['Avg_3_game_POSS'], group.iloc[0]['Avg_3_game_POSS']]\n",
    "    group['Opp_Avg_5_game_POSS'] = [group.iloc[1]['Avg_5_game_POSS'], group.iloc[0]['Avg_5_game_POSS']]\n",
    "    group['Opp_Season_Avg_POSS'] = [group.iloc[1]['Season_Avg_POSS'], group.iloc[0]['Season_Avg_POSS']]\n",
    "\n",
    "    group['Opp_Avg_3_game_PACE'] = [group.iloc[1]['Avg_3_game_PACE'], group.iloc[0]['Avg_3_game_PACE']]\n",
    "    group['Opp_Avg_5_game_PACE'] = [group.iloc[1]['Avg_5_game_PACE'], group.iloc[0]['Avg_5_game_PACE']]\n",
    "    group['Opp_Season_Avg_PACE'] = [group.iloc[1]['Season_Avg_PACE'], group.iloc[0]['Season_Avg_PACE']]\n",
    "\n",
    "    group['Opp_Avg_3_game_DEFF'] = [group.iloc[1]['Avg_3_game_DEFF'], group.iloc[0]['Avg_3_game_DEFF']]\n",
    "    group['Opp_Avg_5_game_DEFF'] = [group.iloc[1]['Avg_5_game_DEFF'], group.iloc[0]['Avg_5_game_DEFF']]\n",
    "    group['Opp_Season_Avg_DEFF'] = [group.iloc[1]['Season_Avg_DEFF'], group.iloc[0]['Season_Avg_DEFF']]\n",
    "\n",
    "    group['Opp_Avg_3_game_OEFF'] = [group.iloc[1]['Avg_3_game_OEFF'], group.iloc[0]['Avg_3_game_OEFF']]\n",
    "    group['Opp_Avg_5_game_OEFF'] = [group.iloc[1]['Avg_5_game_OEFF'], group.iloc[0]['Avg_5_game_OEFF']]\n",
    "    group['Opp_Season_Avg_OEFF'] = [group.iloc[1]['Season_Avg_OEFF'], group.iloc[0]['Season_Avg_OEFF']]\n",
    "\n",
    "    return group\n",
    "\n",
    "\n",
    "# Step 2: Average Points\n",
    "tdf['Avg_3_game_PTS'] = tdf.groupby(['TEAM',])['PTS'].transform(lambda x: x.rolling(3).mean())\n",
    "tdf['Avg_5_game_PTS'] = tdf.groupby(['TEAM',])['PTS'].transform(lambda x: x.rolling(5).mean())\n",
    "tdf['Season_Avg_PTS'] = tdf.groupby(['TEAM',])['PTS'].transform('mean')\n",
    "\n",
    "tdf['Avg_3_game_POSS'] = tdf.groupby(['TEAM',])['POSS'].transform(lambda x: x.rolling(3).mean())\n",
    "tdf['Avg_5_game_POSS'] = tdf.groupby(['TEAM',])['POSS'].transform(lambda x: x.rolling(5).mean())\n",
    "tdf['Season_Avg_POSS'] = tdf.groupby(['TEAM',])['POSS'].transform('mean')\n",
    "\n",
    "tdf['Avg_3_game_PACE'] = tdf.groupby(['TEAM',])['PACE'].transform(lambda x: x.rolling(3).mean())\n",
    "tdf['Avg_5_game_PACE'] = tdf.groupby(['TEAM',])['PACE'].transform(lambda x: x.rolling(5).mean())\n",
    "tdf['Season_Avg_PACE'] = tdf.groupby(['TEAM',])['PACE'].transform('mean')\n",
    "\n",
    "tdf['Avg_3_game_OEFF'] = tdf.groupby(['TEAM',])['OEFF'].transform(lambda x: x.rolling(3).mean())\n",
    "tdf['Avg_5_game_OEFF'] = tdf.groupby(['TEAM',])['OEFF'].transform(lambda x: x.rolling(5).mean())\n",
    "tdf['Season_Avg_OEFF'] = tdf.groupby(['TEAM',])['OEFF'].transform('mean')\n",
    "\n",
    "tdf['Avg_3_game_DEFF'] = tdf.groupby(['TEAM',])['DEFF'].transform(lambda x: x.rolling(3).mean())\n",
    "tdf['Avg_5_game_DEFF'] = tdf.groupby(['TEAM',])['DEFF'].transform(lambda x: x.rolling(5).mean())\n",
    "tdf['Season_Avg_DEFF'] = tdf.groupby(['TEAM',])['DEFF'].transform('mean')\n",
    "\n",
    "\n",
    "def categorize_rest_days(team, today_date, df):\n",
    "    # Filter DataFrame for the specific team and sort by date\n",
    "    team_games = df[df['TEAM'] == team].sort_values(by='DATE')\n",
    "\n",
    "    # Find games up to today's date\n",
    "    past_games = team_games[team_games['DATE'] < today_date]\n",
    "\n",
    "    # Check if no games played\n",
    "    if past_games.empty:\n",
    "        return 'No games played'\n",
    "\n",
    "    # Calculate the number of days since the last game\n",
    "    last_game_date = past_games.iloc[-1]['DATE']\n",
    "    days_since_last_game = (today_date - last_game_date).days - 1\n",
    "\n",
    "    # Check for 3 games in 4 days (including B2B scenarios)\n",
    "    if len(past_games) >= 3 and (today_date - past_games.iloc[-3]['DATE']).days <= 4:\n",
    "        return '3IN4-B2B' if days_since_last_game == 0 else '3IN4'\n",
    "\n",
    "    # Check for 4 games in 5 days (including B2B scenarios)\n",
    "    if len(past_games) >= 4 and (today_date - past_games.iloc[-4]['DATE']).days <= 5:\n",
    "        return '4IN5-B2B' if days_since_last_game == 0 else '4IN5'\n",
    "\n",
    "    # Standard cases\n",
    "    # Check for back-to-back games\n",
    "    if days_since_last_game == 0:\n",
    "        return 'B2B'\n",
    "    if days_since_last_game >= 3:\n",
    "        return '3+'\n",
    "    elif days_since_last_game == 2:\n",
    "        return '2'\n",
    "    elif days_since_last_game == 1:\n",
    "        return '1'\n",
    "\n",
    "    return 'No category'\n",
    "\n",
    "today_date = pd.to_datetime('today').normalize()\n",
    "\n",
    "tdf['TEAM_REST_DAYS'] = tdf.apply(lambda row: categorize_rest_days(row['TEAM'], today_date, tdf), axis=1)\n",
    "\n",
    "ref_map = {team: details[0] for team, details in TODAY_MAP.items()}\n",
    "moneyline_map = {team: details[1] for team, details in TODAY_MAP.items()}\n",
    "venue_map = {team: details[2] for team, details in TODAY_MAP.items()}\n",
    "opp_map = {team: details[3] for team, details in TODAY_MAP.items()}\n",
    "spread_map = {team: details[4] for team, details in TODAY_MAP.items()}\n",
    "total_map = {team: details[5] for team, details in TODAY_MAP.items()}\n",
    "s_movement_map_1 = {team: details[6][0] for team, details in TODAY_MAP.items()}\n",
    "s_movement_map_2 = {team: details[6][1] for team, details in TODAY_MAP.items()}\n",
    "s_movement_map_3 = {team: details[6][2] for team, details in TODAY_MAP.items()}\n",
    "t_movement_map_1 = {team: details[7][0] for team, details in TODAY_MAP.items()}\n",
    "t_movement_map_2 = {team: details[7][1] for team, details in TODAY_MAP.items()}\n",
    "t_movement_map_3 = {team: details[7][2] for team, details in TODAY_MAP.items()}\n",
    "\n",
    "\n",
    "tdf['DATE'] = tdf['DATE'].astype('datetime64[ns]')\n",
    "tdf['MAIN REF'] = tdf['TEAM'].map(ref_map)\n",
    "tdf['MONEYLINE'] = tdf['TEAM'].map(moneyline_map)\n",
    "tdf['MONEYLINE'] = tdf['TEAM'].map(moneyline_map)\n",
    "tdf['CLOSING_SPREAD'] = tdf['TEAM'].map(spread_map)\n",
    "tdf['CLOSING_TOTAL'] = tdf['TEAM'].map(total_map)\n",
    "tdf['Opponent'] = tdf['TEAM'].map(opp_map)\n",
    "\n",
    "tdf['SPREAD_LINE_MOVEMENT_1'] = tdf['TEAM'].map(s_movement_map_1)\n",
    "tdf['SPREAD_LINE_MOVEMENT_2'] = tdf['TEAM'].map(s_movement_map_2)\n",
    "tdf['SPREAD_LINE_MOVEMENT_3'] = tdf['TEAM'].map(s_movement_map_3)\n",
    "\n",
    "tdf['TOTAL_LINE_MOVEMENT_1'] = tdf['TEAM'].map(t_movement_map_1)\n",
    "tdf['TOTAL_LINE_MOVEMENT_2'] = tdf['TEAM'].map(t_movement_map_2)\n",
    "tdf['TOTAL_LINE_MOVEMENT_3'] = tdf['TEAM'].map(t_movement_map_3)\n",
    "\n",
    "tdf['SPREAD_LINE_MOVEMENT_1'] = tdf['Opponent'].map(s_movement_map_1)\n",
    "tdf['SPREAD_LINE_MOVEMENT_2'] = tdf['Opponent'].map(s_movement_map_2)\n",
    "tdf['SPREAD_LINE_MOVEMENT_3'] = tdf['Opponent'].map(s_movement_map_3)\n",
    "\n",
    "tdf['TOTAL_LINE_MOVEMENT_1'] = tdf['Opponent'].map(t_movement_map_1)\n",
    "tdf['TOTAL_LINE_MOVEMENT_2'] = tdf['Opponent'].map(t_movement_map_2)\n",
    "tdf['TOTAL_LINE_MOVEMENT_3'] = tdf['Opponent'].map(t_movement_map_3)\n",
    "\n",
    "refs_2019 = pd.read_csv('../historical_data/2018-2019.csv')\n",
    "refs_2020 = pd.read_csv('../historical_data/2019-2020.csv')\n",
    "refs_2021 = pd.read_csv('../historical_data/2020-2021.csv')\n",
    "refs_2022 = pd.read_csv('../historical_data/2021_2022.csv')\n",
    "refs_2023 = pd.read_csv('../historical_data/2022-2023.csv')\n",
    "refs_2024 = pd.read_csv('../historical_data/2023-2024.csv')\n",
    "\n",
    "refs = pd.concat([refs_2019, refs_2020, refs_2021, refs_2022, refs_2023, refs_2024])\n",
    "tdf = tdf.merge(refs.groupby('REFEREE').first(), how='left', left_on='MAIN REF', right_on='REFEREE', suffixes=['x', ''])\n",
    "tdf = tdf.sort_values('DATE')\n",
    "\n",
    "\n",
    "#tdf[['MONEYLINE', 'DATE']].head(10)"
   ]
  },
  {
   "cell_type": "code",
   "execution_count": 154,
   "metadata": {},
   "outputs": [],
   "source": [
    "def probability_to_american_odds(probability):\n",
    "    if probability < 0 or probability > 1:\n",
    "        raise ValueError(\"Probability must be between 0 and 1\")\n",
    "\n",
    "    if probability == 0.5:\n",
    "        return 100  # Even odds\n",
    "\n",
    "    if probability > 0.5:\n",
    "        return int(-100 * (probability / (1 - probability)))\n",
    "    else:\n",
    "        return int(100 * ((1 - probability) / probability))\n"
   ]
  },
  {
   "cell_type": "code",
   "execution_count": 155,
   "metadata": {},
   "outputs": [
    {
     "name": "stderr",
     "output_type": "stream",
     "text": [
      "C:\\Users\\chcro\\AppData\\Local\\Temp\\ipykernel_6668\\135658221.py:103: FutureWarning: Calling int on a single element Series is deprecated and will raise a TypeError in the future. Use int(ser.iloc[0]) instead\n",
      "  <h3> Team Rating: {int(X[X[\"TEAM\"] == opp][\"Elo_Rating\"])} </h3>\n",
      "C:\\Users\\chcro\\AppData\\Local\\Temp\\ipykernel_6668\\135658221.py:104: FutureWarning: Calling int on a single element Series is deprecated and will raise a TypeError in the future. Use int(ser.iloc[0]) instead\n",
      "  <h3> Momentum: {int(X[X[\"TEAM\"] == opp][\"Momentum\"])} </h3>\n"
     ]
    },
    {
     "data": {
      "text/html": [
       "<div style=\"display:flex\">                   <div style=\"margin-left:3%; width: 400px\">                     <h2 style=\"color:#E4CD05\">-800 : Minnesota : -114</h2>                       <h3>(53.464990854263306, 2)% win probability</h3>                       <h3>Don't bet this straight - parlay only</h3>\n",
       "                      <h3> Team Rating: 1370 </h3>\n",
       "                      <h3> Momentum: -9 </h3>\n",
       "                  </div>\n",
       "\n",
       "                  <div style=\"width: 400px\">                     <h2 style=\"color:orange\">+550 : Portland : +114</h2>                       <h3>(46.535006165504456, 2)% win probability</h3>                       <h3>Don't bet on this</h3>                       <h3> Team Rating: 1408 </h3>\n",
       "                      <h3> Momentum: 5 </h3>\n",
       "                  </div>               </div>"
      ],
      "text/plain": [
       "<IPython.core.display.HTML object>"
      ]
     },
     "metadata": {},
     "output_type": "display_data"
    },
    {
     "name": "stdout",
     "output_type": "stream",
     "text": [
      "___________________________________________________________________________________________________________\n"
     ]
    },
    {
     "data": {
      "text/html": [
       "<div style=\"display:flex\">                   <div style=\"margin-left:3%; width: 400px\">                     <h2 style=\"color:#E4CD05\">+240 : Washington : -105</h2>                       <h3>(51.233506202697754, 2)% win probability</h3>                       <h3>Stright bet 6.18u to win 14.83u</h3>\n",
       "                      <h3> Team Rating: 1345 </h3>\n",
       "                      <h3> Momentum: -3 </h3>\n",
       "                  </div>\n",
       "\n",
       "                  <div style=\"width: 400px\">                     <h2 style=\"color:orange\">-298 : Memphis : +105</h2>                       <h3>(48.76649081707001, 2)% win probability</h3>                       <h3>Don't bet on this</h3>                       <h3> Team Rating: 1394 </h3>\n",
       "                      <h3> Momentum: -2 </h3>\n",
       "                  </div>               </div>"
      ],
      "text/plain": [
       "<IPython.core.display.HTML object>"
      ]
     },
     "metadata": {},
     "output_type": "display_data"
    },
    {
     "name": "stdout",
     "output_type": "stream",
     "text": [
      "___________________________________________________________________________________________________________\n"
     ]
    },
    {
     "data": {
      "text/html": [
       "<div style=\"display:flex\">                   <div style=\"margin-left:3%; width: 400px\">                     <h2 style=\"color:#E4CD05\">+220 : Milwaukee : -113</h2>                       <h3>(53.212153911590576, 2)% win probability</h3>                       <h3>Stright bet 6.39u to win 14.06u</h3>\n",
       "                      <h3> Team Rating: 1336 </h3>\n",
       "                      <h3> Momentum: -8 </h3>\n",
       "                  </div>\n",
       "\n",
       "                  <div style=\"width: 400px\">                     <h2 style=\"color:orange\">-270 : New York : +113</h2>                       <h3>(46.787846088409424, 2)% win probability</h3>                       <h3>Don't bet on this</h3>                       <h3> Team Rating: 1421 </h3>\n",
       "                      <h3> Momentum: -1 </h3>\n",
       "                  </div>               </div>"
      ],
      "text/plain": [
       "<IPython.core.display.HTML object>"
      ]
     },
     "metadata": {},
     "output_type": "display_data"
    },
    {
     "name": "stdout",
     "output_type": "stream",
     "text": [
      "___________________________________________________________________________________________________________\n"
     ]
    },
    {
     "data": {
      "text/html": [
       "<div style=\"display:flex\">                   <div style=\"margin-left:3%; width: 400px\">                     <h2 style=\"color:#E4CD05\">-122 : Detroit : -101</h2>                       <h3>(50.35915970802307, 2)% win probability</h3>                       <h3>Don't bet this straight - parlay only</h3>\n",
       "                      <h3> Team Rating: 1423 </h3>\n",
       "                      <h3> Momentum: 1 </h3>\n",
       "                  </div>\n",
       "\n",
       "                  <div style=\"width: 400px\">                     <h2 style=\"color:orange\">+102 : Atlanta : +101</h2>                       <h3>(49.64084327220917, 2)% win probability</h3>                       <h3>Don't bet on this</h3>                       <h3> Team Rating: 1289 </h3>\n",
       "                      <h3> Momentum: -10 </h3>\n",
       "                  </div>               </div>"
      ],
      "text/plain": [
       "<IPython.core.display.HTML object>"
      ]
     },
     "metadata": {},
     "output_type": "display_data"
    },
    {
     "name": "stdout",
     "output_type": "stream",
     "text": [
      "___________________________________________________________________________________________________________\n"
     ]
    },
    {
     "data": {
      "text/html": [
       "<div style=\"display:flex\">                   <div style=\"margin-left:3%; width: 400px\">                     <h2 style=\"color:#E4CD05\">+205 : LA Clippers : -103</h2>                       <h3>(50.89627504348755, 2)% win probability</h3>                       <h3>Stright bet 5.39u to win 11.05u</h3>\n",
       "                      <h3> Team Rating: 1368 </h3>\n",
       "                      <h3> Momentum: 10 </h3>\n",
       "                  </div>\n",
       "\n",
       "                  <div style=\"width: 400px\">                     <h2 style=\"color:orange\">-250 : Sacramento : +103</h2>                       <h3>(49.103718996047974, 2)% win probability</h3>                       <h3>Don't bet on this</h3>                       <h3> Team Rating: 1405 </h3>\n",
       "                      <h3> Momentum: 0 </h3>\n",
       "                  </div>               </div>"
      ],
      "text/plain": [
       "<IPython.core.display.HTML object>"
      ]
     },
     "metadata": {},
     "output_type": "display_data"
    },
    {
     "name": "stdout",
     "output_type": "stream",
     "text": [
      "___________________________________________________________________________________________________________\n"
     ]
    },
    {
     "data": {
      "text/html": [
       "<div style=\"display:flex\">                   <div style=\"margin-left:3%; width: 400px\">                     <h2 style=\"color:#E4CD05\">-142 : Denver : -103</h2>                       <h3>(50.93005895614624, 2)% win probability</h3>                       <h3>Don't bet this straight - parlay only</h3>\n",
       "                      <h3> Team Rating: 1368 </h3>\n",
       "                      <h3> Momentum: -2 </h3>\n",
       "                  </div>\n",
       "\n",
       "                  <div style=\"width: 400px\">                     <h2 style=\"color:orange\">+120 : Miami : +103</h2>                       <h3>(49.06993508338928, 2)% win probability</h3>                       <h3>Don't bet on this</h3>                       <h3> Team Rating: 1390 </h3>\n",
       "                      <h3> Momentum: 0 </h3>\n",
       "                  </div>               </div>"
      ],
      "text/plain": [
       "<IPython.core.display.HTML object>"
      ]
     },
     "metadata": {},
     "output_type": "display_data"
    },
    {
     "name": "stdout",
     "output_type": "stream",
     "text": [
      "___________________________________________________________________________________________________________\n"
     ]
    },
    {
     "data": {
      "text/html": [
       "<div style=\"display:flex\">                   <div style=\"margin-left:3%; width: 400px\">                     <h2 style=\"color:#E4CD05\">+270 : Houston : -103</h2>                       <h3>(50.95900297164917, 2)% win probability</h3>                       <h3>Stright bet 6.56u to win 17.71u</h3>\n",
       "                      <h3> Team Rating: 1457 </h3>\n",
       "                      <h3> Momentum: 2 </h3>\n",
       "                  </div>\n",
       "\n",
       "                  <div style=\"width: 400px\">                     <h2 style=\"color:orange\">-340 : Oklahoma City : +103</h2>                       <h3>(49.04099702835083, 2)% win probability</h3>                       <h3>Don't bet on this</h3>                       <h3> Team Rating: 1481 </h3>\n",
       "                      <h3> Momentum: 8 </h3>\n",
       "                  </div>               </div>"
      ],
      "text/plain": [
       "<IPython.core.display.HTML object>"
      ]
     },
     "metadata": {},
     "output_type": "display_data"
    },
    {
     "name": "stdout",
     "output_type": "stream",
     "text": [
      "___________________________________________________________________________________________________________\n"
     ]
    },
    {
     "data": {
      "text/html": [
       "<div style=\"display:flex\">                   <div style=\"margin-left:3%; width: 400px\">                     <h2 style=\"color:#E4CD05\">-900 : Boston : -106</h2>                       <h3>(51.49635672569275, 2)% win probability</h3>                       <h3>Don't bet this straight - parlay only</h3>\n",
       "                      <h3> Team Rating: 1442 </h3>\n",
       "                      <h3> Momentum: 14 </h3>\n",
       "                  </div>\n",
       "\n",
       "                  <div style=\"width: 400px\">                     <h2 style=\"color:orange\">+600 : Brooklyn : +106</h2>                       <h3>(48.50364029407501, 2)% win probability</h3>                       <h3>Don't bet on this</h3>                       <h3> Team Rating: 1358 </h3>\n",
       "                      <h3> Momentum: -2 </h3>\n",
       "                  </div>               </div>"
      ],
      "text/plain": [
       "<IPython.core.display.HTML object>"
      ]
     },
     "metadata": {},
     "output_type": "display_data"
    },
    {
     "name": "stdout",
     "output_type": "stream",
     "text": [
      "___________________________________________________________________________________________________________\n"
     ]
    },
    {
     "data": {
      "text/html": [
       "<div style=\"display:flex\">                   <div style=\"margin-left:3%; width: 400px\">                     <h2 style=\"color:#E4CD05\">+114 : Phoenix : -115</h2>                       <h3>(53.526484966278076, 2)% win probability</h3>                       <h3>Stright bet 2.55u to win 2.91u</h3>\n",
       "                      <h3> Team Rating: 1332 </h3>\n",
       "                      <h3> Momentum: -7 </h3>\n",
       "                  </div>\n",
       "\n",
       "                  <div style=\"width: 400px\">                     <h2 style=\"color:orange\">-135 : Dallas : +115</h2>                       <h3>(46.473515033721924, 2)% win probability</h3>                       <h3>Don't bet on this</h3>                       <h3> Team Rating: 1445 </h3>\n",
       "                      <h3> Momentum: -1 </h3>\n",
       "                  </div>               </div>"
      ],
      "text/plain": [
       "<IPython.core.display.HTML object>"
      ]
     },
     "metadata": {},
     "output_type": "display_data"
    },
    {
     "name": "stdout",
     "output_type": "stream",
     "text": [
      "___________________________________________________________________________________________________________\n"
     ]
    },
    {
     "data": {
      "text/html": [
       "<div style=\"display:flex\">                   <div style=\"margin-left:3%; width: 400px\">                     <h2 style=\"color:#E4CD05\">+145 : Golden State : -104</h2>                       <h3>(51.19584798812866, 2)% win probability</h3>                       <h3>Stright bet 3.51u to win 5.09u</h3>\n",
       "                      <h3> Team Rating: 1454 </h3>\n",
       "                      <h3> Momentum: 11 </h3>\n",
       "                  </div>\n",
       "\n",
       "                  <div style=\"width: 400px\">                     <h2 style=\"color:orange\">-175 : Cleveland : +104</h2>                       <h3>(48.80415499210358, 2)% win probability</h3>                       <h3>Don't bet on this</h3>                       <h3> Team Rating: 1434 </h3>\n",
       "                      <h3> Momentum: -8 </h3>\n",
       "                  </div>               </div>"
      ],
      "text/plain": [
       "<IPython.core.display.HTML object>"
      ]
     },
     "metadata": {},
     "output_type": "display_data"
    },
    {
     "name": "stdout",
     "output_type": "stream",
     "text": [
      "___________________________________________________________________________________________________________\n"
     ]
    },
    {
     "data": {
      "text/html": [
       "<div style=\"display:flex\">                   <div style=\"margin-left:3%; width: 400px\">                     <h2 style=\"color:#E4CD05\">+220 : Charlotte : -106</h2>                       <h3>(51.57751441001892, 2)% win probability</h3>                       <h3>Stright bet 5.91u to win 13.0u</h3>\n",
       "                      <h3> Team Rating: 1352 </h3>\n",
       "                      <h3> Momentum: -1 </h3>\n",
       "                  </div>\n",
       "\n",
       "                  <div style=\"width: 400px\">                     <h2 style=\"color:orange\">-270 : Indiana : +106</h2>                       <h3>(48.42248260974884, 2)% win probability</h3>                       <h3>Don't bet on this</h3>                       <h3> Team Rating: 1451 </h3>\n",
       "                      <h3> Momentum: 0 </h3>\n",
       "                  </div>               </div>"
      ],
      "text/plain": [
       "<IPython.core.display.HTML object>"
      ]
     },
     "metadata": {},
     "output_type": "display_data"
    },
    {
     "name": "stdout",
     "output_type": "stream",
     "text": [
      "___________________________________________________________________________________________________________\n"
     ]
    },
    {
     "data": {
      "text/html": [
       "<div style=\"display:flex\">                   <div style=\"margin-left:3%; width: 400px\">                     <h2 style=\"color:#E4CD05\">-238 : Orlando : -108</h2>                       <h3>(52.10530161857605, 2)% win probability</h3>                       <h3>Don't bet this straight - parlay only</h3>\n",
       "                      <h3> Team Rating: 1402 </h3>\n",
       "                      <h3> Momentum: -5 </h3>\n",
       "                  </div>\n",
       "\n",
       "                  <div style=\"width: 400px\">                     <h2 style=\"color:orange\">+195 : New Orleans : +108</h2>                       <h3>(47.89469540119171, 2)% win probability</h3>                       <h3>Don't bet on this</h3>                       <h3> Team Rating: 1354 </h3>\n",
       "                      <h3> Momentum: -5 </h3>\n",
       "                  </div>               </div>"
      ],
      "text/plain": [
       "<IPython.core.display.HTML object>"
      ]
     },
     "metadata": {},
     "output_type": "display_data"
    },
    {
     "name": "stdout",
     "output_type": "stream",
     "text": [
      "___________________________________________________________________________________________________________\n"
     ]
    },
    {
     "data": {
      "text/html": [
       "<div style=\"display:flex\">                   <div style=\"margin-left:3%; width: 400px\">                     <h2 style=\"color:#E4CD05\">+240 : Philadelphia : -104</h2>                       <h3>(51.16630792617798, 2)% win probability</h3>                       <h3>Stright bet 6.16u to win 14.78u</h3>\n",
       "                      <h3> Team Rating: 1429 </h3>\n",
       "                      <h3> Momentum: 7 </h3>\n",
       "                  </div>\n",
       "\n",
       "                  <div style=\"width: 400px\">                     <h2 style=\"color:orange\">-298 : LA Lakers : +104</h2>                       <h3>(48.83368909358978, 2)% win probability</h3>                       <h3>Don't bet on this</h3>                       <h3> Team Rating: 1425 </h3>\n",
       "                      <h3> Momentum: -2 </h3>\n",
       "                  </div>               </div>"
      ],
      "text/plain": [
       "<IPython.core.display.HTML object>"
      ]
     },
     "metadata": {},
     "output_type": "display_data"
    },
    {
     "name": "stdout",
     "output_type": "stream",
     "text": [
      "___________________________________________________________________________________________________________\n"
     ]
    }
   ],
   "source": [
    "\n",
    "temp = tdf[df.drop(['spread_result', 'ml_result', 'total_result', 'q3_result', 'DATE', 'OEFF', 'PTS', 'PACE', 'DEFF', 'POSS'], axis=1).columns]\n",
    "#temp.columns = train_cols_final\n",
    "#display(temp)\n",
    "\n",
    "# get the dataframe to predict for today\n",
    "X = temp.copy()\n",
    "X['MONEYLINE'] = X['TEAM'].map(moneyline_map)\n",
    "X[['MONEYLINE', 'Last_ML_1', 'Last_ML_2', 'Last_ML_3', 'CLOSING_SPREAD', 'CLOSING_TOTAL']] = X[['MONEYLINE', 'Last_ML_1', 'Last_ML_2', 'Last_ML_3', 'CLOSING_SPREAD', 'CLOSING_TOTAL']].replace('Even', '-100', regex=True).replace('--', '-100', regex=True).replace('BLANK_STRING', '-100', regex=True)\n",
    "X[['MONEYLINE', 'Last_ML_1', 'Last_ML_2', 'Last_ML_3', 'CLOSING_SPREAD', 'CLOSING_TOTAL']] = X[['MONEYLINE', 'Last_ML_1', 'Last_ML_2', 'Last_ML_3', 'CLOSING_SPREAD', 'CLOSING_TOTAL']].fillna(0).astype(float)\n",
    "X['MAIN REF'] = X['MAIN REF'].astype('category')\n",
    "X['TEAM'] = X['TEAM'].astype('category')\n",
    "X['CREW'] = X['CREW'].astype('category')\n",
    "X['Opponent'] = X['Opponent'].astype('category')\n",
    "X['TEAM_REST_DAYS'] = X['TEAM_REST_DAYS'].astype('category')\n",
    "X['VENUE'] = (X['VENUE'] == 'H')*1\n",
    "\n",
    "# get predictions for today from the ensemble\n",
    "probabilities = spread_model.predict_proba(X)[:, 1]\n",
    "\n",
    "# get predictions\n",
    "predictions = np.array([x > 0.5 for x in probabilities])\n",
    "\n",
    "# store probabilities in dataframe\n",
    "X['prob'] = probabilities\n",
    "\n",
    "# get the odds\n",
    "odds = X['MONEYLINE'].values\n",
    "ps = {team: prob for team, prob in zip(X['TEAM'].values, probabilities)}\n",
    "\n",
    "normed_odds = {team: ps[team]/(ps[team] + ps[opp]) for team, opp in zip(X['TEAM'], X['Opponent'])}\n",
    "do_bet = {team: normed_odds[team] > normed_odds[opp] for team, opp in zip(X['TEAM'], X['Opponent'])}\n",
    "\n",
    "# go over each team for today\n",
    "for team, win, prob, opp, elo, mom in zip(X['TEAM'].values, probabilities, probabilities, X['Opponent'].values, X['Elo_Rating'].values, X['Momentum'].values):\n",
    "\n",
    "\n",
    "  # get this team odds\n",
    "  o = -100 if moneyline_map[team] == 'Even' else int(moneyline_map[team])\n",
    "  odd = str(o) if o < 0 else f'+{o}'\n",
    "\n",
    "  # get opp odds\n",
    "  o2 = -100 if moneyline_map[opp] == 'Even' else int(moneyline_map[opp])\n",
    "  odd2 = str(o2) if o2 < 0 else f'+{o2}'\n",
    "\n",
    "  # get out odds\n",
    "  #print(normed_odds[team])\n",
    "  our_line = probability_to_american_odds(normed_odds[team])\n",
    "  our_line = str(our_line) if our_line < 0 else f'+{our_line}'\n",
    "\n",
    "  # get our opp odds\n",
    "  our_opp_line = probability_to_american_odds(normed_odds[opp])\n",
    "  our_opp_line = str(our_opp_line) if our_opp_line < 0 else f'+{our_opp_line}'\n",
    "\n",
    "  # get the bet sizing\n",
    "  bet = kelly_criterion(100, normed_odds[team], o, temper=0.2)\n",
    "\n",
    "  # tab character for spacing the prints\n",
    "  tab = '&nbsp;&nbsp;&nbsp;&nbsp;'\n",
    "\n",
    "  # make picks\n",
    "  if do_bet[team] and ps[team] - ps[opp] > 0.25:\n",
    "    win_color = 'green'\n",
    "    lose_color = 'red'\n",
    "    b = f'Stright bet {bet}u to win {calculate_profit(o, bet),2}u' if bet > 0 else 'Don\\'t bet this straight - parlay only'\n",
    "\n",
    "    t = HTML(f\"\"\"<div style=\"display:flex\"> \\\n",
    "                  <div style=\"margin-left:3%; width: 400px\"> \\\n",
    "                    <h2 style=\"color:{win_color}\">{odd} : {team} : {our_line}</h2> \\\n",
    "                      <h3>{normed_odds[team]*100, 2}% win probability</h3> \\\n",
    "                      <h3>{b}</h3>\n",
    "                      <h3> Team Rating: {int(elo)} </h3>\n",
    "                      <h3> Momentum: {int(mom)} </h3>\n",
    "                  </div>\n",
    "\n",
    "                  <div style=\"width: 400px\"> \\\n",
    "                    <h2 style=\"color:{lose_color}\">{odd2} : {opp} : {our_opp_line}</h2> \\\n",
    "                      <h3>{normed_odds[opp]*100, 2}% win probability</h3> \\\n",
    "                      <h3>Don\\'t bet on this</h3> \\\n",
    "                      <h3> Team Rating: {int(X[X[\"TEAM\"] == opp][\"Elo_Rating\"])} </h3>\n",
    "                      <h3> Momentum: {int(X[X[\"TEAM\"] == opp][\"Momentum\"])} </h3>\n",
    "                  </div> \\\n",
    "              </div>\"\"\")\n",
    "    display(t)\n",
    "    print('___________________________________________________________________________________________________________')\n",
    "\n",
    "  elif do_bet[team]:\n",
    "    win_color = '#E4CD05'\n",
    "    lose_color = 'orange'\n",
    "    b = f'Stright bet {round(bet, 2)}u to win {round(calculate_profit(o, round(bet, 2)),2)}u' if round(bet, 2) > 0 else 'Don\\'t bet this straight - parlay only'\n",
    "    t = HTML(f\"\"\"<div style=\"display:flex\"> \\\n",
    "                  <div style=\"margin-left:3%; width: 400px\"> \\\n",
    "                    <h2 style=\"color:{win_color}\">{odd} : {team} : {our_line}</h2> \\\n",
    "                      <h3>{normed_odds[team]*100, 2}% win probability</h3> \\\n",
    "                      <h3>{b}</h3>\n",
    "                      <h3> Team Rating: {int(elo)} </h3>\n",
    "                      <h3> Momentum: {int(mom)} </h3>\n",
    "                  </div>\n",
    "\n",
    "                  <div style=\"width: 400px\"> \\\n",
    "                    <h2 style=\"color:{lose_color}\">{odd2} : {opp} : {our_opp_line}</h2> \\\n",
    "                      <h3>{normed_odds[opp]*100, 2}% win probability</h3> \\\n",
    "                      <h3>Don\\'t bet on this</h3> \\\n",
    "                      <h3> Team Rating: {int(X[X[\"TEAM\"] == opp][\"Elo_Rating\"])} </h3>\n",
    "                      <h3> Momentum: {int(X[X[\"TEAM\"] == opp][\"Momentum\"])} </h3>\n",
    "                  </div> \\\n",
    "              </div>\"\"\")\n",
    "    display(t)\n",
    "    print('___________________________________________________________________________________________________________')\n"
   ]
  },
  {
   "cell_type": "code",
   "execution_count": 156,
   "metadata": {},
   "outputs": [
    {
     "name": "stderr",
     "output_type": "stream",
     "text": [
      "C:\\Users\\chcro\\AppData\\Local\\Temp\\ipykernel_6668\\377219501.py:79: FutureWarning: Calling int on a single element Series is deprecated and will raise a TypeError in the future. Use int(ser.iloc[0]) instead\n",
      "  <h3> Team Rating: {int(X[X[\"TEAM\"] == opp][\"Elo_Rating\"])} </h3>\n",
      "C:\\Users\\chcro\\AppData\\Local\\Temp\\ipykernel_6668\\377219501.py:80: FutureWarning: Calling int on a single element Series is deprecated and will raise a TypeError in the future. Use int(ser.iloc[0]) instead\n",
      "  <h3> Momentum: {int(X[X[\"TEAM\"] == opp][\"Momentum\"])} </h3>\n"
     ]
    },
    {
     "data": {
      "text/html": [
       "<div style=\"display:flex\">                   <div style=\"margin-left:3%; width: 400px\">                     <h2 style=\"color:green\">-800 : Minnesota : -253</h2>                       <h3>(71.70305848121643, 2)% win probability</h3>                       <h3>Don't bet this straight - parlay only</h3>\n",
       "                      <h3> Team Rating: 1370 </h3>\n",
       "                      <h3> Momentum: -9 </h3>\n",
       "                  </div>\n",
       "\n",
       "                  <div style=\"width: 400px\">                     <h2 style=\"color:red\">+550 : Portland : +253</h2>                       <h3>(28.29694151878357, 2)% win probability</h3>                       <h3>Don't bet on this</h3>                       <h3> Team Rating: 1408 </h3>\n",
       "                      <h3> Momentum: 5 </h3>\n",
       "                  </div>               </div>"
      ],
      "text/plain": [
       "<IPython.core.display.HTML object>"
      ]
     },
     "metadata": {},
     "output_type": "display_data"
    },
    {
     "name": "stdout",
     "output_type": "stream",
     "text": [
      "___________________________________________________________________________________________________________\n"
     ]
    },
    {
     "data": {
      "text/html": [
       "<div style=\"display:flex\">                   <div style=\"margin-left:3%; width: 400px\">                     <h2 style=\"color:green\">-250 : Sacramento : -208</h2>                       <h3>(67.58419275283813, 2)% win probability</h3>                       <h3>Don't bet this straight - parlay only</h3>\n",
       "                      <h3> Team Rating: 1405 </h3>\n",
       "                      <h3> Momentum: 0 </h3>\n",
       "                  </div>\n",
       "\n",
       "                  <div style=\"width: 400px\">                     <h2 style=\"color:red\">+205 : LA Clippers : +208</h2>                       <h3>(32.41579830646515, 2)% win probability</h3>                       <h3>Don't bet on this</h3>                       <h3> Team Rating: 1368 </h3>\n",
       "                      <h3> Momentum: 10 </h3>\n",
       "                  </div>               </div>"
      ],
      "text/plain": [
       "<IPython.core.display.HTML object>"
      ]
     },
     "metadata": {},
     "output_type": "display_data"
    },
    {
     "name": "stdout",
     "output_type": "stream",
     "text": [
      "___________________________________________________________________________________________________________\n"
     ]
    },
    {
     "name": "stderr",
     "output_type": "stream",
     "text": [
      "C:\\Users\\chcro\\AppData\\Local\\Temp\\ipykernel_6668\\377219501.py:103: FutureWarning: Calling int on a single element Series is deprecated and will raise a TypeError in the future. Use int(ser.iloc[0]) instead\n",
      "  <h3> Team Rating: {int(X[X[\"TEAM\"] == opp][\"Elo_Rating\"])} </h3>\n",
      "C:\\Users\\chcro\\AppData\\Local\\Temp\\ipykernel_6668\\377219501.py:104: FutureWarning: Calling int on a single element Series is deprecated and will raise a TypeError in the future. Use int(ser.iloc[0]) instead\n",
      "  <h3> Momentum: {int(X[X[\"TEAM\"] == opp][\"Momentum\"])} </h3>\n"
     ]
    },
    {
     "data": {
      "text/html": [
       "<div style=\"display:flex\">                   <div style=\"margin-left:3%; width: 400px\">                     <h2 style=\"color:#E4CD05\">-142 : Denver : -116</h2>                       <h3>(53.84341478347778, 2)% win probability</h3>                       <h3>Don't bet this straight - parlay only</h3>\n",
       "                      <h3> Team Rating: 1368 </h3>\n",
       "                      <h3> Momentum: -2 </h3>\n",
       "                  </div>\n",
       "\n",
       "                  <div style=\"width: 400px\">                     <h2 style=\"color:orange\">+120 : Miami : +116</h2>                       <h3>(46.15658521652222, 2)% win probability</h3>                       <h3>Don't bet on this</h3>                       <h3> Team Rating: 1390 </h3>\n",
       "                      <h3> Momentum: 0 </h3>\n",
       "                  </div>               </div>"
      ],
      "text/plain": [
       "<IPython.core.display.HTML object>"
      ]
     },
     "metadata": {},
     "output_type": "display_data"
    },
    {
     "name": "stdout",
     "output_type": "stream",
     "text": [
      "___________________________________________________________________________________________________________\n"
     ]
    },
    {
     "data": {
      "text/html": [
       "<div style=\"display:flex\">                   <div style=\"margin-left:3%; width: 400px\">                     <h2 style=\"color:green\">-298 : Memphis : -223</h2>                       <h3>(69.09842491149902, 2)% win probability</h3>                       <h3>Don't bet this straight - parlay only</h3>\n",
       "                      <h3> Team Rating: 1394 </h3>\n",
       "                      <h3> Momentum: -2 </h3>\n",
       "                  </div>\n",
       "\n",
       "                  <div style=\"width: 400px\">                     <h2 style=\"color:red\">+240 : Washington : +223</h2>                       <h3>(30.901572108268738, 2)% win probability</h3>                       <h3>Don't bet on this</h3>                       <h3> Team Rating: 1345 </h3>\n",
       "                      <h3> Momentum: -3 </h3>\n",
       "                  </div>               </div>"
      ],
      "text/plain": [
       "<IPython.core.display.HTML object>"
      ]
     },
     "metadata": {},
     "output_type": "display_data"
    },
    {
     "name": "stdout",
     "output_type": "stream",
     "text": [
      "___________________________________________________________________________________________________________\n"
     ]
    },
    {
     "data": {
      "text/html": [
       "<div style=\"display:flex\">                   <div style=\"margin-left:3%; width: 400px\">                     <h2 style=\"color:green\">-340 : Oklahoma City : -189</h2>                       <h3>(65.47545790672302, 2)% win probability</h3>                       <h3>Don't bet this straight - parlay only</h3>\n",
       "                      <h3> Team Rating: 1481 </h3>\n",
       "                      <h3> Momentum: 8 </h3>\n",
       "                  </div>\n",
       "\n",
       "                  <div style=\"width: 400px\">                     <h2 style=\"color:red\">+270 : Houston : +189</h2>                       <h3>(34.524545073509216, 2)% win probability</h3>                       <h3>Don't bet on this</h3>                       <h3> Team Rating: 1457 </h3>\n",
       "                      <h3> Momentum: 2 </h3>\n",
       "                  </div>               </div>"
      ],
      "text/plain": [
       "<IPython.core.display.HTML object>"
      ]
     },
     "metadata": {},
     "output_type": "display_data"
    },
    {
     "name": "stdout",
     "output_type": "stream",
     "text": [
      "___________________________________________________________________________________________________________\n"
     ]
    },
    {
     "data": {
      "text/html": [
       "<div style=\"display:flex\">                   <div style=\"margin-left:3%; width: 400px\">                     <h2 style=\"color:green\">-900 : Boston : -275</h2>                       <h3>(73.35820198059082, 2)% win probability</h3>                       <h3>Don't bet this straight - parlay only</h3>\n",
       "                      <h3> Team Rating: 1442 </h3>\n",
       "                      <h3> Momentum: 14 </h3>\n",
       "                  </div>\n",
       "\n",
       "                  <div style=\"width: 400px\">                     <h2 style=\"color:red\">+600 : Brooklyn : +275</h2>                       <h3>(26.64179801940918, 2)% win probability</h3>                       <h3>Don't bet on this</h3>                       <h3> Team Rating: 1358 </h3>\n",
       "                      <h3> Momentum: -2 </h3>\n",
       "                  </div>               </div>"
      ],
      "text/plain": [
       "<IPython.core.display.HTML object>"
      ]
     },
     "metadata": {},
     "output_type": "display_data"
    },
    {
     "name": "stdout",
     "output_type": "stream",
     "text": [
      "___________________________________________________________________________________________________________\n"
     ]
    },
    {
     "data": {
      "text/html": [
       "<div style=\"display:flex\">                   <div style=\"margin-left:3%; width: 400px\">                     <h2 style=\"color:#E4CD05\">+114 : Phoenix : -105</h2>                       <h3>(51.37147903442383, 2)% win probability</h3>                       <h3>Stright bet 1.74u to win 1.98u</h3>\n",
       "                      <h3> Team Rating: 1332 </h3>\n",
       "                      <h3> Momentum: -7 </h3>\n",
       "                  </div>\n",
       "\n",
       "                  <div style=\"width: 400px\">                     <h2 style=\"color:orange\">-135 : Dallas : +105</h2>                       <h3>(48.62852394580841, 2)% win probability</h3>                       <h3>Don't bet on this</h3>                       <h3> Team Rating: 1445 </h3>\n",
       "                      <h3> Momentum: -1 </h3>\n",
       "                  </div>               </div>"
      ],
      "text/plain": [
       "<IPython.core.display.HTML object>"
      ]
     },
     "metadata": {},
     "output_type": "display_data"
    },
    {
     "name": "stdout",
     "output_type": "stream",
     "text": [
      "___________________________________________________________________________________________________________\n"
     ]
    },
    {
     "data": {
      "text/html": [
       "<div style=\"display:flex\">                   <div style=\"margin-left:3%; width: 400px\">                     <h2 style=\"color:#E4CD05\">-270 : New York : -154</h2>                       <h3>(60.697364807128906, 2)% win probability</h3>                       <h3>Don't bet this straight - parlay only</h3>\n",
       "                      <h3> Team Rating: 1421 </h3>\n",
       "                      <h3> Momentum: -1 </h3>\n",
       "                  </div>\n",
       "\n",
       "                  <div style=\"width: 400px\">                     <h2 style=\"color:orange\">+220 : Milwaukee : +154</h2>                       <h3>(39.302635192871094, 2)% win probability</h3>                       <h3>Don't bet on this</h3>                       <h3> Team Rating: 1336 </h3>\n",
       "                      <h3> Momentum: -8 </h3>\n",
       "                  </div>               </div>"
      ],
      "text/plain": [
       "<IPython.core.display.HTML object>"
      ]
     },
     "metadata": {},
     "output_type": "display_data"
    },
    {
     "name": "stdout",
     "output_type": "stream",
     "text": [
      "___________________________________________________________________________________________________________\n"
     ]
    },
    {
     "data": {
      "text/html": [
       "<div style=\"display:flex\">                   <div style=\"margin-left:3%; width: 400px\">                     <h2 style=\"color:#E4CD05\">-175 : Cleveland : -125</h2>                       <h3>(55.57500720024109, 2)% win probability</h3>                       <h3>Don't bet this straight - parlay only</h3>\n",
       "                      <h3> Team Rating: 1434 </h3>\n",
       "                      <h3> Momentum: -8 </h3>\n",
       "                  </div>\n",
       "\n",
       "                  <div style=\"width: 400px\">                     <h2 style=\"color:orange\">+145 : Golden State : +125</h2>                       <h3>(44.42499279975891, 2)% win probability</h3>                       <h3>Don't bet on this</h3>                       <h3> Team Rating: 1454 </h3>\n",
       "                      <h3> Momentum: 11 </h3>\n",
       "                  </div>               </div>"
      ],
      "text/plain": [
       "<IPython.core.display.HTML object>"
      ]
     },
     "metadata": {},
     "output_type": "display_data"
    },
    {
     "name": "stdout",
     "output_type": "stream",
     "text": [
      "___________________________________________________________________________________________________________\n"
     ]
    },
    {
     "data": {
      "text/html": [
       "<div style=\"display:flex\">                   <div style=\"margin-left:3%; width: 400px\">                     <h2 style=\"color:#E4CD05\">-270 : Indiana : -163</h2>                       <h3>(62.03569769859314, 2)% win probability</h3>                       <h3>Don't bet this straight - parlay only</h3>\n",
       "                      <h3> Team Rating: 1451 </h3>\n",
       "                      <h3> Momentum: 0 </h3>\n",
       "                  </div>\n",
       "\n",
       "                  <div style=\"width: 400px\">                     <h2 style=\"color:orange\">+220 : Charlotte : +163</h2>                       <h3>(37.96430230140686, 2)% win probability</h3>                       <h3>Don't bet on this</h3>                       <h3> Team Rating: 1352 </h3>\n",
       "                      <h3> Momentum: -1 </h3>\n",
       "                  </div>               </div>"
      ],
      "text/plain": [
       "<IPython.core.display.HTML object>"
      ]
     },
     "metadata": {},
     "output_type": "display_data"
    },
    {
     "name": "stdout",
     "output_type": "stream",
     "text": [
      "___________________________________________________________________________________________________________\n"
     ]
    },
    {
     "data": {
      "text/html": [
       "<div style=\"display:flex\">                   <div style=\"margin-left:3%; width: 400px\">                     <h2 style=\"color:green\">-238 : Orlando : -182</h2>                       <h3>(64.65980410575867, 2)% win probability</h3>                       <h3>Don't bet this straight - parlay only</h3>\n",
       "                      <h3> Team Rating: 1402 </h3>\n",
       "                      <h3> Momentum: -5 </h3>\n",
       "                  </div>\n",
       "\n",
       "                  <div style=\"width: 400px\">                     <h2 style=\"color:red\">+195 : New Orleans : +182</h2>                       <h3>(35.34018695354462, 2)% win probability</h3>                       <h3>Don't bet on this</h3>                       <h3> Team Rating: 1354 </h3>\n",
       "                      <h3> Momentum: -5 </h3>\n",
       "                  </div>               </div>"
      ],
      "text/plain": [
       "<IPython.core.display.HTML object>"
      ]
     },
     "metadata": {},
     "output_type": "display_data"
    },
    {
     "name": "stdout",
     "output_type": "stream",
     "text": [
      "___________________________________________________________________________________________________________\n"
     ]
    },
    {
     "data": {
      "text/html": [
       "<div style=\"display:flex\">                   <div style=\"margin-left:3%; width: 400px\">                     <h2 style=\"color:#E4CD05\">+102 : Atlanta : -110</h2>                       <h3>(52.424806356430054, 2)% win probability</h3>                       <h3>Stright bet 1.16u to win 1.18u</h3>\n",
       "                      <h3> Team Rating: 1289 </h3>\n",
       "                      <h3> Momentum: -10 </h3>\n",
       "                  </div>\n",
       "\n",
       "                  <div style=\"width: 400px\">                     <h2 style=\"color:orange\">-122 : Detroit : +110</h2>                       <h3>(47.57519066333771, 2)% win probability</h3>                       <h3>Don't bet on this</h3>                       <h3> Team Rating: 1423 </h3>\n",
       "                      <h3> Momentum: 1 </h3>\n",
       "                  </div>               </div>"
      ],
      "text/plain": [
       "<IPython.core.display.HTML object>"
      ]
     },
     "metadata": {},
     "output_type": "display_data"
    },
    {
     "name": "stdout",
     "output_type": "stream",
     "text": [
      "___________________________________________________________________________________________________________\n"
     ]
    },
    {
     "data": {
      "text/html": [
       "<div style=\"display:flex\">                   <div style=\"margin-left:3%; width: 400px\">                     <h2 style=\"color:green\">-298 : LA Lakers : -214</h2>                       <h3>(68.22900176048279, 2)% win probability</h3>                       <h3>Don't bet this straight - parlay only</h3>\n",
       "                      <h3> Team Rating: 1425 </h3>\n",
       "                      <h3> Momentum: -2 </h3>\n",
       "                  </div>\n",
       "\n",
       "                  <div style=\"width: 400px\">                     <h2 style=\"color:red\">+240 : Philadelphia : +214</h2>                       <h3>(31.770998239517212, 2)% win probability</h3>                       <h3>Don't bet on this</h3>                       <h3> Team Rating: 1429 </h3>\n",
       "                      <h3> Momentum: 7 </h3>\n",
       "                  </div>               </div>"
      ],
      "text/plain": [
       "<IPython.core.display.HTML object>"
      ]
     },
     "metadata": {},
     "output_type": "display_data"
    },
    {
     "name": "stdout",
     "output_type": "stream",
     "text": [
      "___________________________________________________________________________________________________________\n"
     ]
    }
   ],
   "source": [
    "\n",
    "temp = tdf[df.drop(['spread_result', 'ml_result', 'total_result', 'q3_result', 'DATE', 'OEFF', 'PTS', 'PACE', 'DEFF', 'POSS'], axis=1).columns]\n",
    "#temp.columns = train_cols_final\n",
    "#display(temp)\n",
    "\n",
    "# get the dataframe to predict for today\n",
    "X = temp.copy()\n",
    "X['MONEYLINE'] = X['TEAM'].map(moneyline_map)\n",
    "X[['MONEYLINE', 'Last_ML_1', 'Last_ML_2', 'Last_ML_3', 'CLOSING_SPREAD', 'CLOSING_TOTAL']] = X[['MONEYLINE', 'Last_ML_1', 'Last_ML_2', 'Last_ML_3', 'CLOSING_SPREAD', 'CLOSING_TOTAL']].replace('Even', '-100', regex=True).replace('--', '-100', regex=True).replace('BLANK_STRING', '-100', regex=True)\n",
    "X[['MONEYLINE', 'Last_ML_1', 'Last_ML_2', 'Last_ML_3', 'CLOSING_SPREAD', 'CLOSING_TOTAL']] = X[['MONEYLINE', 'Last_ML_1', 'Last_ML_2', 'Last_ML_3', 'CLOSING_SPREAD', 'CLOSING_TOTAL']].fillna(0).astype(float)\n",
    "X['MAIN REF'] = X['MAIN REF'].astype('category')\n",
    "X['TEAM'] = X['TEAM'].astype('category')\n",
    "X['CREW'] = X['CREW'].astype('category')\n",
    "X['Opponent'] = X['Opponent'].astype('category')\n",
    "X['TEAM_REST_DAYS'] = X['TEAM_REST_DAYS'].astype('category')\n",
    "X['VENUE'] = (X['VENUE'] == 'H')*1\n",
    "\n",
    "# get predictions for today from the ensemble\n",
    "probabilities = ml_model.predict_proba(X)[:, 1]\n",
    "\n",
    "# get predictions\n",
    "predictions = np.array([x > 0.5 for x in probabilities])\n",
    "\n",
    "# store probabilities in dataframe\n",
    "X['prob'] = probabilities\n",
    "\n",
    "# get the odds\n",
    "odds = X['MONEYLINE'].values\n",
    "ps = {team: prob for team, prob in zip(X['TEAM'].values, probabilities)}\n",
    "\n",
    "normed_odds = {team: ps[team]/(ps[team] + ps[opp]) for team, opp in zip(X['TEAM'], X['Opponent'])}\n",
    "do_bet = {team: normed_odds[team] > normed_odds[opp] for team, opp in zip(X['TEAM'], X['Opponent'])}\n",
    "\n",
    "# go over each team for today\n",
    "for team, win, prob, opp, elo, mom in zip(X['TEAM'].values, probabilities, probabilities, X['Opponent'].values, X['Elo_Rating'].values, X['Momentum'].values):\n",
    "\n",
    "\n",
    "  # get this team odds\n",
    "  o = -100 if moneyline_map[team] == 'Even' else int(moneyline_map[team])\n",
    "  odd = str(o) if o < 0 else f'+{o}'\n",
    "\n",
    "  # get opp odds\n",
    "  o2 = -100 if moneyline_map[opp] == 'Even' else int(moneyline_map[opp])\n",
    "  odd2 = str(o2) if o2 < 0 else f'+{o2}'\n",
    "\n",
    "  # get out odds\n",
    "  #print(normed_odds[team])\n",
    "  our_line = probability_to_american_odds(normed_odds[team])\n",
    "  our_line = str(our_line) if our_line < 0 else f'+{our_line}'\n",
    "\n",
    "  # get our opp odds\n",
    "  our_opp_line = probability_to_american_odds(normed_odds[opp])\n",
    "  our_opp_line = str(our_opp_line) if our_opp_line < 0 else f'+{our_opp_line}'\n",
    "\n",
    "  # get the bet sizing\n",
    "  bet = kelly_criterion(100, normed_odds[team], o, temper=0.2)\n",
    "\n",
    "  # tab character for spacing the prints\n",
    "  tab = '&nbsp;&nbsp;&nbsp;&nbsp;'\n",
    "\n",
    "  # make picks\n",
    "  if do_bet[team] and ps[team] - ps[opp] > 0.25:\n",
    "    win_color = 'green'\n",
    "    lose_color = 'red'\n",
    "    b = f'Stright bet {bet}u to win {calculate_profit(o, bet),2}u' if bet > 0 else 'Don\\'t bet this straight - parlay only'\n",
    "\n",
    "    t = HTML(f\"\"\"<div style=\"display:flex\"> \\\n",
    "                  <div style=\"margin-left:3%; width: 400px\"> \\\n",
    "                    <h2 style=\"color:{win_color}\">{odd} : {team} : {our_line}</h2> \\\n",
    "                      <h3>{normed_odds[team]*100, 2}% win probability</h3> \\\n",
    "                      <h3>{b}</h3>\n",
    "                      <h3> Team Rating: {int(elo)} </h3>\n",
    "                      <h3> Momentum: {int(mom)} </h3>\n",
    "                  </div>\n",
    "\n",
    "                  <div style=\"width: 400px\"> \\\n",
    "                    <h2 style=\"color:{lose_color}\">{odd2} : {opp} : {our_opp_line}</h2> \\\n",
    "                      <h3>{normed_odds[opp]*100, 2}% win probability</h3> \\\n",
    "                      <h3>Don\\'t bet on this</h3> \\\n",
    "                      <h3> Team Rating: {int(X[X[\"TEAM\"] == opp][\"Elo_Rating\"])} </h3>\n",
    "                      <h3> Momentum: {int(X[X[\"TEAM\"] == opp][\"Momentum\"])} </h3>\n",
    "                  </div> \\\n",
    "              </div>\"\"\")\n",
    "    display(t)\n",
    "    print('___________________________________________________________________________________________________________')\n",
    "\n",
    "  elif do_bet[team]:\n",
    "    win_color = '#E4CD05'\n",
    "    lose_color = 'orange'\n",
    "    b = f'Stright bet {round(bet, 2)}u to win {round(calculate_profit(o, round(bet, 2)),2)}u' if round(bet, 2) > 0 else 'Don\\'t bet this straight - parlay only'\n",
    "    t = HTML(f\"\"\"<div style=\"display:flex\"> \\\n",
    "                  <div style=\"margin-left:3%; width: 400px\"> \\\n",
    "                    <h2 style=\"color:{win_color}\">{odd} : {team} : {our_line}</h2> \\\n",
    "                      <h3>{normed_odds[team]*100, 2}% win probability</h3> \\\n",
    "                      <h3>{b}</h3>\n",
    "                      <h3> Team Rating: {int(elo)} </h3>\n",
    "                      <h3> Momentum: {int(mom)} </h3>\n",
    "                  </div>\n",
    "\n",
    "                  <div style=\"width: 400px\"> \\\n",
    "                    <h2 style=\"color:{lose_color}\">{odd2} : {opp} : {our_opp_line}</h2> \\\n",
    "                      <h3>{normed_odds[opp]*100, 2}% win probability</h3> \\\n",
    "                      <h3>Don\\'t bet on this</h3> \\\n",
    "                      <h3> Team Rating: {int(X[X[\"TEAM\"] == opp][\"Elo_Rating\"])} </h3>\n",
    "                      <h3> Momentum: {int(X[X[\"TEAM\"] == opp][\"Momentum\"])} </h3>\n",
    "                  </div> \\\n",
    "              </div>\"\"\")\n",
    "    display(t)\n",
    "    print('___________________________________________________________________________________________________________')\n"
   ]
  },
  {
   "cell_type": "code",
   "execution_count": null,
   "metadata": {},
   "outputs": [],
   "source": []
  }
 ],
 "metadata": {
  "kernelspec": {
   "display_name": "Python 3",
   "language": "python",
   "name": "python3"
  },
  "language_info": {
   "codemirror_mode": {
    "name": "ipython",
    "version": 3
   },
   "file_extension": ".py",
   "mimetype": "text/x-python",
   "name": "python",
   "nbconvert_exporter": "python",
   "pygments_lexer": "ipython3",
   "version": "3.12.7"
  }
 },
 "nbformat": 4,
 "nbformat_minor": 2
}
